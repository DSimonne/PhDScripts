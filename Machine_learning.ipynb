{
  "nbformat": 4,
  "nbformat_minor": 0,
  "metadata": {
    "colab": {
      "name": "Machine learning",
      "provenance": [],
      "authorship_tag": "ABX9TyPCaHGyNohXEMh0PZsiHffg",
      "include_colab_link": true
    },
    "kernelspec": {
      "name": "python3",
      "display_name": "Python 3"
    }
  },
  "cells": [
    {
      "cell_type": "markdown",
      "metadata": {
        "id": "view-in-github",
        "colab_type": "text"
      },
      "source": [
        "<a href=\"https://colab.research.google.com/github/DSimonne/PhDScripts/blob/main/Machine_learning.ipynb\" target=\"_parent\"><img src=\"https://colab.research.google.com/assets/colab-badge.svg\" alt=\"Open In Colab\"/></a>"
      ]
    },
    {
      "cell_type": "code",
      "metadata": {
        "id": "9BB7FedloRvm"
      },
      "source": [
        "import tensorflow as tf\n",
        "\n",
        "from tensorflow.keras import datasets, layers, models\n",
        "import matplotlib.pyplot as plt"
      ],
      "execution_count": 2,
      "outputs": []
    },
    {
      "cell_type": "code",
      "metadata": {
        "id": "1gk9TqkLocF3"
      },
      "source": [
        "model = models.Sequential()\n",
        "\n",
        "# First node\n",
        "model.add(layers.Conv3D(96, (3, 3, 3), activation='relu', input_shape=(64, 64, 64, 1)))\n",
        "model.add(layers.Conv3D(96, (3, 1, 1), activation='relu', input_shape=(64, 64, 64, 1)))\n",
        "model.add(layers.Conv3D(96, (1, 3, 1), activation='relu', input_shape=(64, 64, 64, 1)))\n",
        "model.add(layers.Conv3D(96, (1, 1, 3), activation='relu', input_shape=(64, 64, 64, 1)))\n",
        "\n",
        "model.add(layers.MaxPooling3D((2, 2, 2)))\n",
        "model.add(layers.BatchNormalization())\n",
        "\n",
        "\n",
        "model.add(layers.Conv3D(192, (3, 3, 3), activation='relu'))\n",
        "model.add(layers.MaxPooling3D((2, 2, 2)))\n",
        "model.add(layers.Conv3D(384, (3, 3, 3), activation='relu'))"
      ],
      "execution_count": 19,
      "outputs": []
    },
    {
      "cell_type": "code",
      "metadata": {
        "colab": {
          "base_uri": "https://localhost:8080/"
        },
        "id": "lnaSOaI5qXiS",
        "outputId": "4ee260b2-e548-4b38-d65f-7f4e97440af3"
      },
      "source": [
        "model.summary()"
      ],
      "execution_count": 20,
      "outputs": [
        {
          "output_type": "stream",
          "text": [
            "Model: \"sequential_10\"\n",
            "_________________________________________________________________\n",
            "Layer (type)                 Output Shape              Param #   \n",
            "=================================================================\n",
            "conv3d_19 (Conv3D)           (None, 62, 62, 62, 96)    2688      \n",
            "_________________________________________________________________\n",
            "conv3d_20 (Conv3D)           (None, 60, 62, 62, 96)    27744     \n",
            "_________________________________________________________________\n",
            "conv3d_21 (Conv3D)           (None, 60, 60, 62, 96)    27744     \n",
            "_________________________________________________________________\n",
            "conv3d_22 (Conv3D)           (None, 60, 60, 60, 96)    27744     \n",
            "_________________________________________________________________\n",
            "max_pooling3d_11 (MaxPooling (None, 30, 30, 30, 96)    0         \n",
            "_________________________________________________________________\n",
            "batch_normalization_4 (Batch (None, 30, 30, 30, 96)    384       \n",
            "_________________________________________________________________\n",
            "conv3d_23 (Conv3D)           (None, 28, 28, 28, 192)   497856    \n",
            "_________________________________________________________________\n",
            "max_pooling3d_12 (MaxPooling (None, 14, 14, 14, 192)   0         \n",
            "_________________________________________________________________\n",
            "conv3d_24 (Conv3D)           (None, 12, 12, 12, 384)   1991040   \n",
            "=================================================================\n",
            "Total params: 2,575,200\n",
            "Trainable params: 2,575,008\n",
            "Non-trainable params: 192\n",
            "_________________________________________________________________\n"
          ],
          "name": "stdout"
        }
      ]
    },
    {
      "cell_type": "code",
      "metadata": {
        "id": "Gpggrq4Mqp0e"
      },
      "source": [
        "layers.Conv3D?"
      ],
      "execution_count": 7,
      "outputs": []
    }
  ]
}