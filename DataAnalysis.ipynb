{
 "cells": [
  {
   "cell_type": "markdown",
   "metadata": {},
   "source": [
    "<font color=#163e5a>  \n",
    "    <h1>Preprocessing the data</h1>\n",
    "</font>"
   ]
  },
  {
   "cell_type": "markdown",
   "metadata": {},
   "source": [
    "!python D:/Documents/PythonScripts/PhDScripts/Pt_p2/preprocess_bcdi.py"
   ]
  },
  {
   "cell_type": "markdown",
   "metadata": {},
   "source": [
    "## Preprocess output\n",
    "\n",
    "**Two .npz files**\n",
    "* the mask\n",
    "* the (normalised?) detector data"
   ]
  },
  {
   "cell_type": "markdown",
   "metadata": {},
   "source": [
    "<font color=#163e5a>  \n",
    "    <h1>Find the .npz files</h1>\n",
    "    <a href = \"https://www.pytables.org/cookbook/inmemory_hdf5_files.html\" target = \"_blank\">Documentation</a>\n",
    "</font>"
   ]
  },
  {
   "cell_type": "code",
   "execution_count": 12,
   "metadata": {},
   "outputs": [
    {
     "name": "stdout",
     "output_type": "stream",
     "text": [
      "Pt_p2/pynxraw/Mask_10_100_0_1.npz\n",
      "Pt_p2/pynxraw/S1398_maskpynx_norm_128_300_294_1_1_1.npz\n",
      "Pt_p2/pynxraw/S1398_pynx_norm_128_300_294_1_1_1.npz\n"
     ]
    }
   ],
   "source": [
    "%%bash\n",
    "ls Pt_p2/pynxraw/*.npz"
   ]
  },
  {
   "cell_type": "code",
   "execution_count": 3,
   "metadata": {},
   "outputs": [
    {
     "name": "stdout",
     "output_type": "stream",
     "text": [
      "Path to file from current folder: Pt_p2/pynxraw/S1398_pynx_norm_128_300_294_1_1_1.npz\n",
      "Stored arrays :['data']\n"
     ]
    },
    {
     "data": {
      "application/vnd.jupyter.widget-view+json": {
       "model_id": "c0bc4a669f0d4410a79fda6b18fa9535",
       "version_major": 2,
       "version_minor": 0
      },
      "text/plain": [
       "interactive(children=(Dropdown(description='Array used:', options=('data',), style=DescriptionStyle(descriptio…"
      ]
     },
     "metadata": {},
     "output_type": "display_data"
    }
   ],
   "source": [
    "%run -i Scripts/PlotNPZ"
   ]
  },
  {
   "cell_type": "markdown",
   "metadata": {},
   "source": [
    "<font color=#163e5a>  \n",
    "    <h1>Find the .cxi files</h1>\n",
    "    <a href = \"https://raw.githubusercontent.com/cxidb/CXI/master/cxi_file_format.pdf\" target = \"_blank\">Documentation</a>\n",
    "</font>"
   ]
  },
  {
   "cell_type": "code",
   "execution_count": 14,
   "metadata": {},
   "outputs": [
    {
     "name": "stdout",
     "output_type": "stream",
     "text": [
      "Pt_p2/pynxraw/S1398_pynx_norm_128_300_294_1_1_1-2020-12-04T19-25-40_Run0008_LLKf000.1159_LLK000.1328_SupportThreshold0.29541.cxi\n",
      "Pt_p2/pynxraw/S1398_pynx_norm_128_300_294_1_1_1-2020-12-04T19-26-53_Run0010_LLKf000.1158_LLK000.1330_SupportThreshold0.29706.cxi\n",
      "Pt_p2/pynxraw/S1398_pynx_norm_128_300_294_1_1_1-2020-12-04T19-37-13_Run0027_LLKf000.1157_LLK000.1329_SupportThreshold0.29221.cxi\n",
      "Pt_p2/pynxraw/S1398_pynx_norm_128_300_294_1_1_1-2020-12-04T19-39-39_Run0031_LLKf000.1158_LLK000.1330_SupportThreshold0.28916.cxi\n",
      "Pt_p2/pynxraw/S1398_pynx_norm_128_300_294_1_1_1-2020-12-04T19-41-28_Run0034_LLKf000.1158_LLK000.1332_SupportThreshold0.28754.cxi\n",
      "Pt_p2/pynxraw/S1398_pynx_norm_128_300_294_1_1_1-2020-12-04T19-44-30_Run0039_LLKf000.1158_LLK000.1330_SupportThreshold0.29166.cxi\n",
      "Pt_p2/pynxraw/S1398_pynx_norm_128_300_294_1_1_1-2020-12-04T19-47-34_Run0044_LLKf000.1158_LLK000.1329_SupportThreshold0.29538.cxi\n",
      "Pt_p2/pynxraw/S1398_pynx_norm_128_300_294_1_1_1-2020-12-04T19-59-06_Run0063_LLKf000.1155_LLK000.1329_SupportThreshold0.29807.cxi\n",
      "Pt_p2/pynxraw/S1398_pynx_norm_128_300_294_1_1_1-2020-12-04T20-14-50_Run0089_LLKf000.1156_LLK000.1331_SupportThreshold0.29090.cxi\n",
      "Pt_p2/pynxraw/S1398_pynx_norm_128_300_294_1_1_1-2020-12-04T20-18-28_Run0095_LLKf000.1159_LLK000.1332_SupportThreshold0.28434.cxi\n",
      "Pt_p2/pynxraw/S1398_pynx_norm_128_300_294_1_1_1.cxi\n"
     ]
    }
   ],
   "source": [
    "%%bash\n",
    "ls Pt_p2/pynxraw/*.cxi"
   ]
  },
  {
   "cell_type": "markdown",
   "metadata": {},
   "source": [
    "* The last .cxi file contains only the detector and the mask data\n",
    "\n",
    "* All the other .cxi files are in real space and show the **complex** electronic density, they each are the output of the phase retrieval process. The image size in real space is also given.\n",
    "* The support is linked to the mask, seems that it must be a binary array (0 masks, 1 does not mask)\n",
    "* Free pixel mask is not the original .npz file ? Boolean array maybe fixes which pixels cannot be assigned to the recalculated intensity, final one ?\n",
    "* entry_last is just a link to entry_1, idk why, doubles data size ? not ure if just link"
   ]
  },
  {
   "cell_type": "markdown",
   "metadata": {},
   "source": [
    "<font color=#163e5a>  \n",
    "    <h1>Check one of the 10 good datasets</h1>\n",
    "    <p></p>\n",
    "</font>"
   ]
  },
  {
   "cell_type": "code",
   "execution_count": 3,
   "metadata": {
    "scrolled": false
   },
   "outputs": [
    {
     "name": "stdout",
     "output_type": "stream",
     "text": [
      "Path to file from current folder: Pt_p2/pynxraw/S1398_pynx_norm_128_300_294_1_1_1-2020-12-04T19-25-40_Run0008_LLKf000.1159_LLK000.1328_SupportThreshold0.29541.cxi\n",
      "Data file architecture :\n",
      "\n",
      "Pt_p2/pynxraw/S1398_pynx_norm_128_300_294_1_1_1-2020-12-04T19-25-40_Run0008_LLKf000.1159_LLK000.1328_SupportThreshold0.29541.cxi (File) ''\n",
      "Last modif.: 'Fri Dec  4 19:26:17 2020'\n",
      "Object Tree: \n",
      "/ (RootGroup) ''\n",
      "/cxi_version (Array()) ''\n",
      "/entry_last (SoftLink) -> /entry_1\n",
      "/entry_1 (Group) ''\n",
      "/entry_1/program_name (UnImplemented()) ''\n",
      "/entry_1/start_time (UnImplemented()) ''\n",
      "/entry_1/data_1 (Group) ''\n",
      "/entry_1/data_1/data (SoftLink) -> /entry_1/image_1/data\n",
      "/entry_1/image_1 (Group) ''\n",
      "/entry_1/image_1/data (CArray(128, 300, 294), shuffle, zlib(4)) ''\n",
      "/entry_1/image_1/data_space (UnImplemented()) ''\n",
      "/entry_1/image_1/data_type (UnImplemented()) ''\n",
      "/entry_1/image_1/image_size (Array(3,)) ''\n",
      "/entry_1/image_1/mask (CArray(128, 300, 294), shuffle, zlib(4)) ''\n",
      "/entry_1/image_1/support (SoftLink) -> /entry_1/image_1/mask\n",
      "/entry_1/image_1/instrument_1 (Group) ''\n",
      "/entry_1/image_1/instrument_1/name (UnImplemented()) ''\n",
      "/entry_1/image_1/process_1 (Group) ''\n",
      "/entry_1/image_1/process_1/command (UnImplemented()) ''\n",
      "/entry_1/image_1/process_1/program (UnImplemented()) ''\n",
      "/entry_1/image_1/process_1/version (UnImplemented()) ''\n",
      "/entry_1/image_1/process_1/configuration (Group) ''\n",
      "/entry_1/image_1/process_1/configuration/auto_center_resize (Array()) ''\n",
      "/entry_1/image_1/process_1/configuration/beta (Array()) ''\n",
      "/entry_1/image_1/process_1/configuration/confidence_interval_factor_mask_max (Array()) ''\n",
      "/entry_1/image_1/process_1/configuration/confidence_interval_factor_mask_min (Array()) ''\n",
      "/entry_1/image_1/process_1/configuration/crop_output (Array()) ''\n",
      "/entry_1/image_1/process_1/configuration/data (UnImplemented()) ''\n",
      "/entry_1/image_1/process_1/configuration/data2cxi (Array()) ''\n",
      "/entry_1/image_1/process_1/configuration/detector_distance (Array()) ''\n",
      "/entry_1/image_1/process_1/configuration/detwin (Array()) ''\n",
      "/entry_1/image_1/process_1/configuration/fig_num (Array()) ''\n",
      "/entry_1/image_1/process_1/configuration/free_pixel_mask (CArray(128, 300, 294), shuffle, zlib(4)) ''\n",
      "/entry_1/image_1/process_1/configuration/gps_inertia (Array()) ''\n",
      "/entry_1/image_1/process_1/configuration/gps_s (Array()) ''\n",
      "/entry_1/image_1/process_1/configuration/gps_sigma_f (Array()) ''\n",
      "/entry_1/image_1/process_1/configuration/gps_sigma_o (Array()) ''\n",
      "/entry_1/image_1/process_1/configuration/gps_t (Array()) ''\n",
      "/entry_1/image_1/process_1/configuration/imgcounter (UnImplemented()) ''\n",
      "/entry_1/image_1/process_1/configuration/instrument (UnImplemented()) ''\n",
      "/entry_1/image_1/process_1/configuration/iobs_shape (Array(3,)) ''\n",
      "/entry_1/image_1/process_1/configuration/iobs_shape_orig (Array(3,)) ''\n",
      "/entry_1/image_1/process_1/configuration/live_plot (Array()) ''\n",
      "/entry_1/image_1/process_1/configuration/mask (UnImplemented()) ''\n",
      "/entry_1/image_1/process_1/configuration/mask_interp (Array(2,)) ''\n",
      "/entry_1/image_1/process_1/configuration/mpi (UnImplemented()) ''\n",
      "/entry_1/image_1/process_1/configuration/nb_er (Array()) ''\n",
      "/entry_1/image_1/process_1/configuration/nb_hio (Array()) ''\n",
      "/entry_1/image_1/process_1/configuration/nb_ml (Array()) ''\n",
      "/entry_1/image_1/process_1/configuration/nb_raar (Array()) ''\n",
      "/entry_1/image_1/process_1/configuration/nb_run (Array()) ''\n",
      "/entry_1/image_1/process_1/configuration/nb_run_keep (Array()) ''\n",
      "/entry_1/image_1/process_1/configuration/output_format (UnImplemented()) ''\n",
      "/entry_1/image_1/process_1/configuration/pixel_size_detector (Array()) ''\n",
      "/entry_1/image_1/process_1/configuration/positivity (Array()) ''\n",
      "/entry_1/image_1/process_1/configuration/psf (Array()) ''\n",
      "/entry_1/image_1/process_1/configuration/rebin (Array(3,)) ''\n",
      "/entry_1/image_1/process_1/configuration/roi_final (Array(6,)) ''\n",
      "/entry_1/image_1/process_1/configuration/save (UnImplemented()) ''\n",
      "/entry_1/image_1/process_1/configuration/support (UnImplemented()) ''\n",
      "/entry_1/image_1/process_1/configuration/support_autocorrelation_threshold (Array()) ''\n",
      "/entry_1/image_1/process_1/configuration/support_only_shrink (Array()) ''\n",
      "/entry_1/image_1/process_1/configuration/support_post_expand (Array(3,)) ''\n",
      "/entry_1/image_1/process_1/configuration/support_smooth_width_begin (Array()) ''\n",
      "/entry_1/image_1/process_1/configuration/support_smooth_width_end (Array()) ''\n",
      "/entry_1/image_1/process_1/configuration/support_smooth_width_relax_n (Array()) ''\n",
      "/entry_1/image_1/process_1/configuration/support_threshold (Array()) ''\n",
      "/entry_1/image_1/process_1/configuration/support_threshold_method (UnImplemented()) ''\n",
      "/entry_1/image_1/process_1/configuration/support_update_border_n (Array()) ''\n",
      "/entry_1/image_1/process_1/configuration/support_update_period (Array()) ''\n",
      "/entry_1/image_1/process_1/configuration/verbose (Array()) ''\n",
      "/entry_1/image_1/process_1/configuration/wavelength (Array()) ''\n",
      "/entry_1/image_1/process_1/configuration/zero_mask (UnImplemented()) ''\n",
      "/entry_1/image_1/process_1/note_1 (Group) ''\n",
      "/entry_1/image_1/process_1/note_1/data (UnImplemented()) ''\n",
      "/entry_1/image_1/process_1/note_1/description (UnImplemented()) ''\n",
      "/entry_1/image_1/process_1/note_1/type (UnImplemented()) ''\n",
      "/entry_1/image_1/process_1/results (Group) ''\n",
      "/entry_1/image_1/process_1/results/cycle_history (Table(1701,)) ''\n",
      "/entry_1/image_1/process_1/results/cycle_history_algorithm (Table(1700,)) ''\n",
      "/entry_1/image_1/process_1/results/cycle_history_dt (Table(16,)) ''\n",
      "/entry_1/image_1/process_1/results/cycle_history_epoch (Table(1701,)) ''\n",
      "/entry_1/image_1/process_1/results/cycle_history_llk_euclidian (Table(17,)) ''\n",
      "/entry_1/image_1/process_1/results/cycle_history_llk_euclidian_free (Table(17,)) ''\n",
      "/entry_1/image_1/process_1/results/cycle_history_llk_gaussian (Table(17,)) ''\n",
      "/entry_1/image_1/process_1/results/cycle_history_llk_gaussian_free (Table(17,)) ''\n",
      "/entry_1/image_1/process_1/results/cycle_history_llk_poisson (Table(17,)) ''\n",
      "/entry_1/image_1/process_1/results/cycle_history_llk_poisson_free (Table(17,)) ''\n",
      "/entry_1/image_1/process_1/results/cycle_history_nb_photons_calc (Table(17,)) ''\n",
      "/entry_1/image_1/process_1/results/cycle_history_obj_average (Table(86,)) ''\n",
      "/entry_1/image_1/process_1/results/cycle_history_obj_max (Table(85,)) ''\n",
      "/entry_1/image_1/process_1/results/cycle_history_support_size (Table(85,)) ''\n",
      "/entry_1/image_1/process_1/results/cycle_history_support_update_threshold (Table(85,)) ''\n",
      "/entry_1/image_1/process_1/results/cycle_history_time (Table(1701,)) ''\n",
      "/entry_1/image_1/process_1/results/free_llk_euclidian (Array()) ''\n",
      "/entry_1/image_1/process_1/results/free_llk_gaussian (Array()) ''\n",
      "/entry_1/image_1/process_1/results/free_llk_poisson (Array()) ''\n",
      "/entry_1/image_1/process_1/results/llk_euclidian (Array()) ''\n",
      "/entry_1/image_1/process_1/results/llk_gaussian (Array()) ''\n",
      "/entry_1/image_1/process_1/results/llk_poisson (Array()) ''\n",
      "/entry_1/image_1/process_1/results/nb_point_support (Array()) ''\n",
      "/entry_1/image_1/instrument_1/beam_1 (Group) ''\n",
      "/entry_1/image_1/instrument_1/beam_1/incident_energy (Array()) ''\n",
      "/entry_1/image_1/instrument_1/beam_1/incident_wavelength (Array()) ''\n",
      "/entry_1/image_1/instrument_1/detector_1 (Group) ''\n",
      "/entry_1/image_1/instrument_1/detector_1/distance (Array()) ''\n",
      "/entry_1/image_1/instrument_1/detector_1/x_pixel_size (Array()) ''\n",
      "/entry_1/image_1/instrument_1/detector_1/y_pixel_size (Array()) ''\n",
      "/entry_1/image_1/instrument_1/source_1 (Group) ''\n",
      "/entry_1/image_1/instrument_1/source_1/energy (Array()) ''\n",
      "\n"
     ]
    },
    {
     "data": {
      "application/vnd.jupyter.widget-view+json": {
       "model_id": "97ed3ba1fd2e40b29ecd714aeb8a6748",
       "version_major": 2,
       "version_minor": 0
      },
      "text/plain": [
       "interactive(children=(Dropdown(description='First 2 axes:', index=1, options=('xy', 'yz', 'xz'), style=Descrip…"
      ]
     },
     "metadata": {},
     "output_type": "display_data"
    }
   ],
   "source": [
    "%run -i Scripts/PlotCXI"
   ]
  },
  {
   "cell_type": "code",
   "execution_count": 9,
   "metadata": {},
   "outputs": [
    {
     "name": "stdout",
     "output_type": "stream",
     "text": [
      "Example of used files : Pt_p2\\pynxraw\\S1398_pynx_norm_128_300_294_1_1_1-2020*cxi\n",
      "Example of folder : Pt_p2\\pynxraw\n",
      "Example of file name : S1398_pynx_norm_128_300_294_1_1_1-2020\n",
      "Please write your folder like in the example above: Pt_p2\\pynxraw\n",
      "Please write your file name like in the example above: S1398_pynx_norm_128_300_294_1_1_1-2020\n",
      "Used files: ['Pt_p2\\\\pynxraw\\\\S1398_pynx_norm_128_300_294_1_1_1-2020-12-04T19-25-40_Run0008_LLKf000.1159_LLK000.1328_SupportThreshold0.29541.cxi', 'Pt_p2\\\\pynxraw\\\\S1398_pynx_norm_128_300_294_1_1_1-2020-12-04T19-26-53_Run0010_LLKf000.1158_LLK000.1330_SupportThreshold0.29706.cxi', 'Pt_p2\\\\pynxraw\\\\S1398_pynx_norm_128_300_294_1_1_1-2020-12-04T19-37-13_Run0027_LLKf000.1157_LLK000.1329_SupportThreshold0.29221.cxi', 'Pt_p2\\\\pynxraw\\\\S1398_pynx_norm_128_300_294_1_1_1-2020-12-04T19-39-39_Run0031_LLKf000.1158_LLK000.1330_SupportThreshold0.28916.cxi', 'Pt_p2\\\\pynxraw\\\\S1398_pynx_norm_128_300_294_1_1_1-2020-12-04T19-41-28_Run0034_LLKf000.1158_LLK000.1332_SupportThreshold0.28754.cxi', 'Pt_p2\\\\pynxraw\\\\S1398_pynx_norm_128_300_294_1_1_1-2020-12-04T19-44-30_Run0039_LLKf000.1158_LLK000.1330_SupportThreshold0.29166.cxi', 'Pt_p2\\\\pynxraw\\\\S1398_pynx_norm_128_300_294_1_1_1-2020-12-04T19-47-34_Run0044_LLKf000.1158_LLK000.1329_SupportThreshold0.29538.cxi', 'Pt_p2\\\\pynxraw\\\\S1398_pynx_norm_128_300_294_1_1_1-2020-12-04T19-59-06_Run0063_LLKf000.1155_LLK000.1329_SupportThreshold0.29807.cxi', 'Pt_p2\\\\pynxraw\\\\S1398_pynx_norm_128_300_294_1_1_1-2020-12-04T20-14-50_Run0089_LLKf000.1156_LLK000.1331_SupportThreshold0.29090.cxi', 'Pt_p2\\\\pynxraw\\\\S1398_pynx_norm_128_300_294_1_1_1-2020-12-04T20-18-28_Run0095_LLKf000.1159_LLK000.1332_SupportThreshold0.28434.cxi']\n",
      "Threshold value (int from 1 to 100): 25\n",
      "\n",
      "Pt_p2\\pynxraw\\S1398_pynx_norm_128_300_294_1_1_1-2020-12-04T19-25-40_Run0008_LLKf000.1159_LLK000.1328_SupportThreshold0.29541.cxi\n",
      "All elements in mask array are equal to 1 : False\n",
      "Shape of support array (128, 300, 294)\n",
      "Shape of real space complex electronic density array (128, 300, 294)\n",
      "Maximum value in amplitude array: 17.2003116607666\n",
      "Indices where result == 1:\n",
      " (array([ 57,  57,  57, ..., 113, 113, 114], dtype=int64), array([162, 162, 162, ..., 189, 189, 186], dtype=int64), array([147, 148, 149, ..., 132, 133, 129], dtype=int64))\n",
      "Percentage of 3D array occupied by support:\n",
      "0.007842344661799333\n",
      "\n",
      "Pt_p2\\pynxraw\\S1398_pynx_norm_128_300_294_1_1_1-2020-12-04T19-26-53_Run0010_LLKf000.1158_LLK000.1330_SupportThreshold0.29706.cxi\n",
      "All elements in mask array are equal to 1 : False\n",
      "Shape of support array (128, 300, 294)\n",
      "Shape of real space complex electronic density array (128, 300, 294)\n",
      "Maximum value in amplitude array: 19.13443946838379\n",
      "Indices where result == 1:\n",
      " (array([40, 40, 40, ..., 97, 97, 97], dtype=int64), array([123, 123, 124, ..., 146, 147, 147], dtype=int64), array([152, 153, 150, ..., 133, 131, 132], dtype=int64))\n",
      "Percentage of 3D array occupied by support:\n",
      "0.00769643145002568\n",
      "\n",
      "Pt_p2\\pynxraw\\S1398_pynx_norm_128_300_294_1_1_1-2020-12-04T19-37-13_Run0027_LLKf000.1157_LLK000.1329_SupportThreshold0.29221.cxi\n",
      "All elements in mask array are equal to 1 : False\n",
      "Shape of support array (128, 300, 294)\n",
      "Shape of real space complex electronic density array (128, 300, 294)\n",
      "Maximum value in amplitude array: 17.914710998535156\n",
      "Indices where result == 1:\n",
      " (array([39, 39, 39, ..., 95, 95, 95], dtype=int64), array([142, 142, 142, ..., 169, 169, 169], dtype=int64), array([141, 142, 143, ..., 125, 126, 127], dtype=int64))\n",
      "Percentage of 3D array occupied by support:\n",
      "0.007778468697327427\n",
      "\n",
      "Pt_p2\\pynxraw\\S1398_pynx_norm_128_300_294_1_1_1-2020-12-04T19-39-39_Run0031_LLKf000.1158_LLK000.1330_SupportThreshold0.28916.cxi\n",
      "All elements in mask array are equal to 1 : False\n",
      "Shape of support array (128, 300, 294)\n",
      "Shape of real space complex electronic density array (128, 300, 294)\n",
      "Maximum value in amplitude array: 17.676389694213867\n",
      "Indices where result == 1:\n",
      " (array([37, 37, 37, ..., 93, 93, 93], dtype=int64), array([148, 148, 148, ..., 175, 175, 175], dtype=int64), array([144, 145, 146, ..., 128, 129, 130], dtype=int64))\n",
      "Percentage of 3D array occupied by support:\n",
      "0.007853411320799858\n",
      "\n",
      "Pt_p2\\pynxraw\\S1398_pynx_norm_128_300_294_1_1_1-2020-12-04T19-41-28_Run0034_LLKf000.1158_LLK000.1332_SupportThreshold0.28754.cxi\n",
      "All elements in mask array are equal to 1 : False\n",
      "Shape of support array (128, 300, 294)\n",
      "Shape of real space complex electronic density array (128, 300, 294)\n",
      "Maximum value in amplitude array: 17.436721801757812\n",
      "Indices where result == 1:\n",
      " (array([31, 31, 31, ..., 88, 88, 88], dtype=int64), array([132, 132, 132, ..., 155, 155, 155], dtype=int64), array([154, 155, 156, ..., 134, 135, 136], dtype=int64))\n",
      "Percentage of 3D array occupied by support:\n",
      "0.007838655829473015\n",
      "\n",
      "Pt_p2\\pynxraw\\S1398_pynx_norm_128_300_294_1_1_1-2020-12-04T19-44-30_Run0039_LLKf000.1158_LLK000.1330_SupportThreshold0.29166.cxi\n",
      "All elements in mask array are equal to 1 : False\n",
      "Shape of support array (128, 300, 294)\n",
      "Shape of real space complex electronic density array (128, 300, 294)\n",
      "Maximum value in amplitude array: 20.267004013061523\n",
      "Indices where result == 1:\n",
      " (array([28, 28, 28, ..., 84, 84, 84], dtype=int64), array([150, 151, 151, ..., 177, 177, 177], dtype=int64), array([162, 160, 161, ..., 142, 143, 144], dtype=int64))\n",
      "Percentage of 3D array occupied by support:\n",
      "0.007567016067113302\n",
      "\n",
      "Pt_p2\\pynxraw\\S1398_pynx_norm_128_300_294_1_1_1-2020-12-04T19-47-34_Run0044_LLKf000.1158_LLK000.1329_SupportThreshold0.29538.cxi\n",
      "All elements in mask array are equal to 1 : False\n",
      "Shape of support array (128, 300, 294)\n",
      "Shape of real space complex electronic density array (128, 300, 294)\n",
      "Maximum value in amplitude array: 15.862114906311035\n",
      "Indices where result == 1:\n",
      " (array([20, 20, 20, ..., 78, 78, 78], dtype=int64), array([114, 114, 115, ..., 130, 130, 130], dtype=int64), array([150, 151, 150, ..., 130, 131, 132], dtype=int64))\n",
      "Percentage of 3D array occupied by support:\n",
      "0.00797201077720074\n",
      "\n",
      "Pt_p2\\pynxraw\\S1398_pynx_norm_128_300_294_1_1_1-2020-12-04T19-59-06_Run0063_LLKf000.1155_LLK000.1329_SupportThreshold0.29807.cxi\n",
      "All elements in mask array are equal to 1 : False\n",
      "Shape of support array (128, 300, 294)\n",
      "Shape of real space complex electronic density array (128, 300, 294)\n",
      "Maximum value in amplitude array: 16.12104606628418\n",
      "Indices where result == 1:\n",
      " (array([30, 30, 30, ..., 86, 86, 86], dtype=int64), array([115, 115, 115, ..., 142, 142, 142], dtype=int64), array([149, 150, 151, ..., 133, 134, 135], dtype=int64))\n",
      "Percentage of 3D array occupied by support:\n",
      "0.007889672076967289\n",
      "\n",
      "Pt_p2\\pynxraw\\S1398_pynx_norm_128_300_294_1_1_1-2020-12-04T20-14-50_Run0089_LLKf000.1156_LLK000.1331_SupportThreshold0.29090.cxi\n",
      "All elements in mask array are equal to 1 : False\n",
      "Shape of support array (128, 300, 294)\n",
      "Shape of real space complex electronic density array (128, 300, 294)\n",
      "Maximum value in amplitude array: 16.351085662841797\n",
      "Indices where result == 1:\n",
      " (array([35, 35, 35, ..., 91, 91, 91], dtype=int64), array([148, 149, 149, ..., 176, 176, 177], dtype=int64), array([164, 162, 163, ..., 146, 147, 144], dtype=int64))\n",
      "Percentage of 3D array occupied by support:\n",
      "0.007918826537362795\n",
      "\n",
      "Pt_p2\\pynxraw\\S1398_pynx_norm_128_300_294_1_1_1-2020-12-04T20-18-28_Run0095_LLKf000.1159_LLK000.1332_SupportThreshold0.28434.cxi\n",
      "All elements in mask array are equal to 1 : False\n",
      "Shape of support array (128, 300, 294)\n",
      "Shape of real space complex electronic density array (128, 300, 294)\n",
      "Maximum value in amplitude array: 17.062744140625\n",
      "Indices where result == 1:\n",
      " (array([ 44,  44,  44, ..., 101, 101, 101], dtype=int64), array([151, 151, 151, ..., 175, 175, 175], dtype=int64), array([157, 158, 159, ..., 137, 138, 139], dtype=int64))\n",
      "Percentage of 3D array occupied by support:\n",
      "0.007882653662466441\n",
      "\n",
      "\n",
      "\n",
      "Mask saved in Pt_p2\\pynxraw as Mask_Threshold_0.25.npz\n",
      "Indices where result == 1:\n",
      " (array([38, 38, 38, ..., 91, 91, 91], dtype=int64), array([146, 146, 146, ..., 157, 158, 158], dtype=int64), array([146, 147, 148, ..., 134, 134, 135], dtype=int64))\n",
      "Percentage of 3D array occupied by support:\n",
      "0.006520953406146575\n"
     ]
    }
   ],
   "source": [
    "%run -i Scripts/MakeMask"
   ]
  },
  {
   "cell_type": "markdown",
   "metadata": {},
   "source": [
    "<font color=#163e5a>  \n",
    "    <h1>Try to extract a support determination from the 10 runs</h1>\n",
    "    <p></p>\n",
    "</font>"
   ]
  },
  {
   "cell_type": "code",
   "execution_count": 22,
   "metadata": {},
   "outputs": [],
   "source": [
    "def CreateSupport(Path, Threshold):\n",
    "\n",
    "    with tb.open_file(Path, \"r\") as f:\n",
    "        print(f\"\\n{Path}\")\n",
    "        # Since .cxi files follow a specific architectture, we know where our data is.\n",
    "        mask = f.root.entry_1.image_1.mask[:]\n",
    "        print(f\"All elements in mask array are equal to 1 : {np.all(mask == 1)}\")\n",
    "        print(f\"Shape of support array {np.shape(mask)}\")\n",
    "\n",
    "        # support = f.root.entry_1.image_1.support[:]\n",
    "        # print(f\"All elements in support array are equal to 1 : {np.all(support == 1)}\")\n",
    "\n",
    "        ED = f.root.entry_1.data_1.data[:]\n",
    "        print(f\"Shape of real space complex electronic density array {np.shape(ED)}\")\n",
    "\n",
    "        # Find max value of real space image, we work with the amplitude\n",
    "        Amp = np.abs(ED)\n",
    "        MaxRS = Amp.max()\n",
    "        print(f\"Maximum value in amplitude array: {MaxRS}\")\n",
    "        \n",
    "        result = np.where(Amp < Threshold * MaxRS, 0, 1)\n",
    "        # Check if the indices we have seem to be around the center of the array\n",
    "        rocc = np.where(result == 1)\n",
    "        rnocc = np.where(result == 0)\n",
    "        \n",
    "        print(\"Indices where result == 1:\\n\",rocc)\n",
    "        print(f\"Percentage of 3D array occupied by support:\\n{np.shape(rocc)[1] / np.shape(rnocc)[1]}\")\n",
    "\n",
    "        return result"
   ]
  },
  {
   "cell_type": "markdown",
   "metadata": {},
   "source": [
    "<font color=#163e5a>  \n",
    "    <p>Take an 'average', so at least half of the 10 good phase retrieval must have the point over the threshold to be in the support</p>\n",
    "</font>"
   ]
  },
  {
   "cell_type": "code",
   "execution_count": 23,
   "metadata": {
    "scrolled": true
   },
   "outputs": [
    {
     "name": "stdout",
     "output_type": "stream",
     "text": [
      "\n",
      "Pt_p2\\pynxraw\\S1398_pynx_norm_128_300_294_1_1_1-2020-12-04T19-25-40_Run0008_LLKf000.1159_LLK000.1328_SupportThreshold0.29541.cxi\n",
      "All elements in mask array are equal to 1 : False\n",
      "Shape of support array (128, 300, 294)\n",
      "Shape of real space complex electronic density array (128, 300, 294)\n",
      "Maximum value in amplitude array: 17.2003116607666\n",
      "Indices where result == 1:\n",
      " (array([ 57,  57,  57, ..., 114, 114, 114], dtype=int64), array([161, 161, 161, ..., 187, 187, 187], dtype=int64), array([148, 149, 150, ..., 128, 129, 130], dtype=int64))\n",
      "Percentage of 3D array occupied by support:\n",
      "0.008098829688839139\n",
      "\n",
      "Pt_p2\\pynxraw\\S1398_pynx_norm_128_300_294_1_1_1-2020-12-04T19-26-53_Run0010_LLKf000.1158_LLK000.1330_SupportThreshold0.29706.cxi\n",
      "All elements in mask array are equal to 1 : False\n",
      "Shape of support array (128, 300, 294)\n",
      "Shape of real space complex electronic density array (128, 300, 294)\n",
      "Maximum value in amplitude array: 19.13443946838379\n",
      "Indices where result == 1:\n",
      " (array([40, 40, 40, ..., 97, 97, 97], dtype=int64), array([123, 123, 123, ..., 147, 148, 148], dtype=int64), array([149, 150, 151, ..., 133, 131, 132], dtype=int64))\n",
      "Percentage of 3D array occupied by support:\n",
      "0.00798839013372078\n",
      "\n",
      "Pt_p2\\pynxraw\\S1398_pynx_norm_128_300_294_1_1_1-2020-12-04T19-37-13_Run0027_LLKf000.1157_LLK000.1329_SupportThreshold0.29221.cxi\n",
      "All elements in mask array are equal to 1 : False\n",
      "Shape of support array (128, 300, 294)\n",
      "Shape of real space complex electronic density array (128, 300, 294)\n",
      "Maximum value in amplitude array: 17.914710998535156\n",
      "Indices where result == 1:\n",
      " (array([39, 39, 39, ..., 95, 95, 96], dtype=int64), array([141, 141, 141, ..., 170, 170, 166], dtype=int64), array([142, 143, 144, ..., 123, 124, 124], dtype=int64))\n",
      "Percentage of 3D array occupied by support:\n",
      "0.008061203715939897\n",
      "\n",
      "Pt_p2\\pynxraw\\S1398_pynx_norm_128_300_294_1_1_1-2020-12-04T19-39-39_Run0031_LLKf000.1158_LLK000.1330_SupportThreshold0.28916.cxi\n",
      "All elements in mask array are equal to 1 : False\n",
      "Shape of support array (128, 300, 294)\n",
      "Shape of real space complex electronic density array (128, 300, 294)\n",
      "Maximum value in amplitude array: 17.676389694213867\n",
      "Indices where result == 1:\n",
      " (array([36, 36, 36, ..., 93, 93, 93], dtype=int64), array([154, 154, 156, ..., 176, 176, 176], dtype=int64), array([146, 147, 145, ..., 126, 127, 128], dtype=int64))\n",
      "Percentage of 3D array occupied by support:\n",
      "0.008112062456942758\n",
      "\n",
      "Pt_p2\\pynxraw\\S1398_pynx_norm_128_300_294_1_1_1-2020-12-04T19-41-28_Run0034_LLKf000.1158_LLK000.1332_SupportThreshold0.28754.cxi\n",
      "All elements in mask array are equal to 1 : False\n",
      "Shape of support array (128, 300, 294)\n",
      "Shape of real space complex electronic density array (128, 300, 294)\n",
      "Maximum value in amplitude array: 17.436721801757812\n",
      "Indices where result == 1:\n",
      " (array([31, 31, 31, ..., 88, 88, 88], dtype=int64), array([131, 131, 131, ..., 155, 156, 156], dtype=int64), array([154, 155, 156, ..., 137, 134, 135], dtype=int64))\n",
      "Percentage of 3D array occupied by support:\n",
      "0.008107651495641856\n",
      "\n",
      "Pt_p2\\pynxraw\\S1398_pynx_norm_128_300_294_1_1_1-2020-12-04T19-44-30_Run0039_LLKf000.1158_LLK000.1330_SupportThreshold0.29166.cxi\n",
      "All elements in mask array are equal to 1 : False\n",
      "Shape of support array (128, 300, 294)\n",
      "Shape of real space complex electronic density array (128, 300, 294)\n",
      "Maximum value in amplitude array: 20.267004013061523\n",
      "Indices where result == 1:\n",
      " (array([28, 28, 28, ..., 84, 84, 84], dtype=int64), array([150, 150, 150, ..., 177, 177, 177], dtype=int64), array([161, 162, 163, ..., 144, 145, 146], dtype=int64))\n",
      "Percentage of 3D array occupied by support:\n",
      "0.007912707560148809\n",
      "\n",
      "Pt_p2\\pynxraw\\S1398_pynx_norm_128_300_294_1_1_1-2020-12-04T19-47-34_Run0044_LLKf000.1158_LLK000.1329_SupportThreshold0.29538.cxi\n",
      "All elements in mask array are equal to 1 : False\n",
      "Shape of support array (128, 300, 294)\n",
      "Shape of real space complex electronic density array (128, 300, 294)\n",
      "Maximum value in amplitude array: 15.862114906311035\n",
      "Indices where result == 1:\n",
      " (array([20, 20, 20, ..., 78, 78, 78], dtype=int64), array([114, 114, 114, ..., 132, 132, 132], dtype=int64), array([149, 150, 151, ..., 129, 130, 131], dtype=int64))\n",
      "Percentage of 3D array occupied by support:\n",
      "0.008187414839079907\n",
      "\n",
      "Pt_p2\\pynxraw\\S1398_pynx_norm_128_300_294_1_1_1-2020-12-04T19-59-06_Run0063_LLKf000.1155_LLK000.1329_SupportThreshold0.29807.cxi\n",
      "All elements in mask array are equal to 1 : False\n",
      "Shape of support array (128, 300, 294)\n",
      "Shape of real space complex electronic density array (128, 300, 294)\n",
      "Maximum value in amplitude array: 16.12104606628418\n",
      "Indices where result == 1:\n",
      " (array([29, 29, 29, ..., 86, 86, 86], dtype=int64), array([117, 118, 118, ..., 143, 143, 143], dtype=int64), array([154, 152, 153, ..., 132, 133, 134], dtype=int64))\n",
      "Percentage of 3D array occupied by support:\n",
      "0.008119174088079698\n",
      "\n",
      "Pt_p2\\pynxraw\\S1398_pynx_norm_128_300_294_1_1_1-2020-12-04T20-14-50_Run0089_LLKf000.1156_LLK000.1331_SupportThreshold0.29090.cxi\n",
      "All elements in mask array are equal to 1 : False\n",
      "Shape of support array (128, 300, 294)\n",
      "Shape of real space complex electronic density array (128, 300, 294)\n",
      "Maximum value in amplitude array: 16.351085662841797\n",
      "Indices where result == 1:\n",
      " (array([34, 35, 35, ..., 92, 92, 92], dtype=int64), array([159, 148, 148, ..., 172, 173, 173], dtype=int64), array([165, 163, 164, ..., 145, 143, 144], dtype=int64))\n",
      "Percentage of 3D array occupied by support:\n",
      "0.008150772548573113\n",
      "\n",
      "Pt_p2\\pynxraw\\S1398_pynx_norm_128_300_294_1_1_1-2020-12-04T20-18-28_Run0095_LLKf000.1159_LLK000.1332_SupportThreshold0.28434.cxi\n",
      "All elements in mask array are equal to 1 : False\n",
      "Shape of support array (128, 300, 294)\n",
      "Shape of real space complex electronic density array (128, 300, 294)\n",
      "Maximum value in amplitude array: 17.062744140625\n",
      "Indices where result == 1:\n",
      " (array([ 44,  44,  44, ..., 101, 101, 101], dtype=int64), array([150, 150, 150, ..., 175, 176, 176], dtype=int64), array([157, 158, 159, ..., 142, 137, 138], dtype=int64))\n",
      "Percentage of 3D array occupied by support:\n",
      "0.008149602199897878\n"
     ]
    }
   ],
   "source": [
    "import glob\n",
    "Path = sorted(glob.glob(\"Pt_p2\\\\pynxraw\\\\S1398_pynx_norm_128_300_294_1_1_1-2020*cxi\"))\n",
    "t = 0.20\n",
    "\n",
    "TenSupports = [CreateSupport(p,t) for p in Path]\n",
    "\n",
    "# 3D array of 1 and 0 -> mask\n",
    "\n",
    "\n",
    "a = TenSupports[0]\n",
    "\n",
    "for t in TenSupports[1:]:\n",
    "    a = np.add(a, t)\n",
    "    \n",
    "mask = np.where(a > 4, 1, 0)\n",
    "\n",
    "np.savez(\"Mask_10_100_0_1.npz\", mask = mask)"
   ]
  },
  {
   "cell_type": "markdown",
   "metadata": {},
   "source": [
    "<font color=#163e5a>  \n",
    "    <p>Need to smooth by convoluting with a gaussian, the edges look rough</p>\n",
    "</font>"
   ]
  },
  {
   "cell_type": "code",
   "execution_count": 2,
   "metadata": {},
   "outputs": [
    {
     "name": "stdout",
     "output_type": "stream",
     "text": [
      "Pt_p2/pynxraw/Mask_10_100_0_1.npz\n",
      "Pt_p2/pynxraw/S1398_ampdispstrain_gap_iso0.2_mode_avg3_apodize_blackman_lab-frame.npz\n",
      "Pt_p2/pynxraw/S1398_avg_obj_prtf_gap_iso0.2_mode_avg3_apodize_blackman.npz\n",
      "Pt_p2/pynxraw/S1398_maskpynx_norm_128_300_294_1_1_1.npz\n",
      "Pt_p2/pynxraw/S1398_pynx_norm_128_300_294_1_1_1.npz\n"
     ]
    }
   ],
   "source": [
    "%%bash\n",
    "ls Pt_p2/pynxraw/*.npz"
   ]
  },
  {
   "cell_type": "code",
   "execution_count": 3,
   "metadata": {},
   "outputs": [
    {
     "name": "stdout",
     "output_type": "stream",
     "text": [
      "Path to file from current folder: Pt_p2/pynxraw/Mask_10_100_0_1.npz\n",
      "Stored arrays :['mask']\n"
     ]
    },
    {
     "data": {
      "application/vnd.jupyter.widget-view+json": {
       "model_id": "6ee9c24a05fe45febb8189587021d030",
       "version_major": 2,
       "version_minor": 0
      },
      "text/plain": [
       "interactive(children=(Dropdown(description='Array used:', options=('mask',), style=DescriptionStyle(descriptio…"
      ]
     },
     "metadata": {},
     "output_type": "display_data"
    }
   ],
   "source": [
    "%run -i Scripts/PlotNPZ"
   ]
  },
  {
   "cell_type": "code",
   "execution_count": 13,
   "metadata": {},
   "outputs": [
    {
     "name": "stdout",
     "output_type": "stream",
     "text": [
      "Indices where result == 1:\n",
      " (array([35, 35, 35, ..., 95, 95, 95], dtype=int64), array([138, 139, 140, ..., 150, 150, 153], dtype=int64), array([155, 155, 153, ..., 139, 140, 140], dtype=int64))\n",
      "Percentage of 3D array occupied by support:\n",
      "0.007585090853659189\n"
     ]
    }
   ],
   "source": [
    "rocc = np.where(mask == 1)\n",
    "rnocc = np.where(mask == 0)\n",
    "\n",
    "print(\"Indices where result == 1:\\n\",rocc)\n",
    "print(f\"Percentage of 3D array occupied by support:\\n{np.shape(rocc)[1] / np.shape(rnocc)[1]}\")"
   ]
  },
  {
   "cell_type": "markdown",
   "metadata": {},
   "source": [
    "<font color=#163e5a>  \n",
    "    <h1>Create modes</h1>\n",
    "    <p>Only on lid01 because pynx package</p>\n",
    "</font>"
   ]
  },
  {
   "cell_type": "markdown",
   "metadata": {},
   "source": [
    "! python pynx-cdi-analysis.py S1398_pynx_norm_128_300_294_1_1_1-* modes=1"
   ]
  },
  {
   "cell_type": "markdown",
   "metadata": {},
   "source": [
    "<font color=#163e5a>  \n",
    "    <h1>Launch strain analysis</h1>\n",
    "    <p>Only on lid01 because local bcdi package has problems</p>\n",
    "</font>"
   ]
  },
  {
   "cell_type": "markdown",
   "metadata": {},
   "source": [
    "!python D:/Documents/PythonScripts/PhDScripts/Pt_p2/pynxraw/strain.py"
   ]
  },
  {
   "cell_type": "markdown",
   "metadata": {},
   "source": [
    "<font color=#163e5a>  \n",
    "    <h1>Check final data</h1>\n",
    "    <p></p>\n",
    "</font>"
   ]
  },
  {
   "cell_type": "code",
   "execution_count": 19,
   "metadata": {},
   "outputs": [
    {
     "name": "stdout",
     "output_type": "stream",
     "text": [
      "Pt_p2/pynxraw/Mask_10_100_0_1.npz\n",
      "Pt_p2/pynxraw/S1398_ampdispstrain_gap_iso0.2_mode_avg3_apodize_blackman_lab-frame.npz\n",
      "Pt_p2/pynxraw/S1398_avg_obj_prtf_gap_iso0.2_mode_avg3_apodize_blackman.npz\n",
      "Pt_p2/pynxraw/S1398_maskpynx_norm_128_300_294_1_1_1.npz\n",
      "Pt_p2/pynxraw/S1398_pynx_norm_128_300_294_1_1_1.npz\n"
     ]
    }
   ],
   "source": [
    "%%bash\n",
    "ls Pt_p2/pynxraw/*.npz"
   ]
  },
  {
   "cell_type": "code",
   "execution_count": 20,
   "metadata": {},
   "outputs": [
    {
     "name": "stdout",
     "output_type": "stream",
     "text": [
      "Path to file from current folder: Pt_p2/pynxraw/S1398_ampdispstrain_gap_iso0.2_mode_avg3_apodize_blackman_lab-frame.npz\n",
      "Stored arrays :['amp', 'displacement', 'bulk', 'strain']\n"
     ]
    },
    {
     "data": {
      "application/vnd.jupyter.widget-view+json": {
       "model_id": "5e3e0714f76d4f9fb9919caeef3e4859",
       "version_major": 2,
       "version_minor": 0
      },
      "text/plain": [
       "interactive(children=(Dropdown(description='Array used:', options=('amp', 'displacement', 'bulk', 'strain'), s…"
      ]
     },
     "metadata": {},
     "output_type": "display_data"
    }
   ],
   "source": [
    "%run -i Scripts/PlotNPZ"
   ]
  },
  {
   "cell_type": "code",
   "execution_count": null,
   "metadata": {},
   "outputs": [],
   "source": []
  }
 ],
 "metadata": {
  "kernelspec": {
   "display_name": "Python 3",
   "language": "python",
   "name": "python3"
  },
  "language_info": {
   "codemirror_mode": {
    "name": "ipython",
    "version": 3
   },
   "file_extension": ".py",
   "mimetype": "text/x-python",
   "name": "python",
   "nbconvert_exporter": "python",
   "pygments_lexer": "ipython3",
   "version": "3.8.5"
  }
 },
 "nbformat": 4,
 "nbformat_minor": 4
}
