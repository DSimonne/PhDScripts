{
 "cells": [
  {
   "cell_type": "markdown",
   "metadata": {},
   "source": [
    "<font color=#163e5a>  \n",
    "    <h1>Preprocessing the data</h1>\n",
    "</font>"
   ]
  },
  {
   "cell_type": "markdown",
   "metadata": {},
   "source": [
    "!python D:/Documents/PythonScripts/PhDScripts/Pt_p2/preprocess_bcdi.py"
   ]
  },
  {
   "cell_type": "markdown",
   "metadata": {},
   "source": [
    "## Preprocess output\n",
    "\n",
    "**Two .npz files**\n",
    "* the mask\n",
    "* the (normalised?) detector data\n",
    "\n",
    "Pt_p2/pynxraw/S1398_ampdispstrain_gap_iso0.2_mode_avg3_apodize_blackman_lab-frame.npz, probably final output ?"
   ]
  },
  {
   "cell_type": "markdown",
   "metadata": {},
   "source": [
    "<font color=#163e5a>  \n",
    "    <h1>Find the .npz files</h1>\n",
    "    <a href = \"https://www.pytables.org/cookbook/inmemory_hdf5_files.html\" target = \"_blank\">Documentation</a>\n",
    "</font>"
   ]
  },
  {
   "cell_type": "code",
   "execution_count": 12,
   "metadata": {},
   "outputs": [
    {
     "name": "stdout",
     "output_type": "stream",
     "text": [
      "Pt_p2/pynxraw/Mask_10_100_0_1.npz\n",
      "Pt_p2/pynxraw/S1398_maskpynx_norm_128_300_294_1_1_1.npz\n",
      "Pt_p2/pynxraw/S1398_pynx_norm_128_300_294_1_1_1.npz\n"
     ]
    }
   ],
   "source": [
    "%%bash\n",
    "ls Pt_p2/pynxraw/*.npz"
   ]
  },
  {
   "cell_type": "code",
   "execution_count": 3,
   "metadata": {},
   "outputs": [
    {
     "name": "stdout",
     "output_type": "stream",
     "text": [
      "Path to file from current folder: Pt_p2/pynxraw/S1398_pynx_norm_128_300_294_1_1_1.npz\n",
      "Stored arrays :['data']\n"
     ]
    },
    {
     "data": {
      "application/vnd.jupyter.widget-view+json": {
       "model_id": "c0bc4a669f0d4410a79fda6b18fa9535",
       "version_major": 2,
       "version_minor": 0
      },
      "text/plain": [
       "interactive(children=(Dropdown(description='Array used:', options=('data',), style=DescriptionStyle(descriptio…"
      ]
     },
     "metadata": {},
     "output_type": "display_data"
    }
   ],
   "source": [
    "%run -i Scripts/PlotNPZ"
   ]
  },
  {
   "cell_type": "markdown",
   "metadata": {},
   "source": [
    "<font color=#163e5a>  \n",
    "    <h1>Find the .cxi files</h1>\n",
    "    <a href = \"https://raw.githubusercontent.com/cxidb/CXI/master/cxi_file_format.pdf\" target = \"_blank\">Documentation</a>\n",
    "</font>"
   ]
  },
  {
   "cell_type": "code",
   "execution_count": 14,
   "metadata": {},
   "outputs": [
    {
     "name": "stdout",
     "output_type": "stream",
     "text": [
      "Pt_p2/pynxraw/S1398_pynx_norm_128_300_294_1_1_1-2020-12-04T19-25-40_Run0008_LLKf000.1159_LLK000.1328_SupportThreshold0.29541.cxi\n",
      "Pt_p2/pynxraw/S1398_pynx_norm_128_300_294_1_1_1-2020-12-04T19-26-53_Run0010_LLKf000.1158_LLK000.1330_SupportThreshold0.29706.cxi\n",
      "Pt_p2/pynxraw/S1398_pynx_norm_128_300_294_1_1_1-2020-12-04T19-37-13_Run0027_LLKf000.1157_LLK000.1329_SupportThreshold0.29221.cxi\n",
      "Pt_p2/pynxraw/S1398_pynx_norm_128_300_294_1_1_1-2020-12-04T19-39-39_Run0031_LLKf000.1158_LLK000.1330_SupportThreshold0.28916.cxi\n",
      "Pt_p2/pynxraw/S1398_pynx_norm_128_300_294_1_1_1-2020-12-04T19-41-28_Run0034_LLKf000.1158_LLK000.1332_SupportThreshold0.28754.cxi\n",
      "Pt_p2/pynxraw/S1398_pynx_norm_128_300_294_1_1_1-2020-12-04T19-44-30_Run0039_LLKf000.1158_LLK000.1330_SupportThreshold0.29166.cxi\n",
      "Pt_p2/pynxraw/S1398_pynx_norm_128_300_294_1_1_1-2020-12-04T19-47-34_Run0044_LLKf000.1158_LLK000.1329_SupportThreshold0.29538.cxi\n",
      "Pt_p2/pynxraw/S1398_pynx_norm_128_300_294_1_1_1-2020-12-04T19-59-06_Run0063_LLKf000.1155_LLK000.1329_SupportThreshold0.29807.cxi\n",
      "Pt_p2/pynxraw/S1398_pynx_norm_128_300_294_1_1_1-2020-12-04T20-14-50_Run0089_LLKf000.1156_LLK000.1331_SupportThreshold0.29090.cxi\n",
      "Pt_p2/pynxraw/S1398_pynx_norm_128_300_294_1_1_1-2020-12-04T20-18-28_Run0095_LLKf000.1159_LLK000.1332_SupportThreshold0.28434.cxi\n",
      "Pt_p2/pynxraw/S1398_pynx_norm_128_300_294_1_1_1.cxi\n"
     ]
    }
   ],
   "source": [
    "%%bash\n",
    "ls Pt_p2/pynxraw/*.cxi"
   ]
  },
  {
   "cell_type": "markdown",
   "metadata": {},
   "source": [
    "* The last .cxi file contains only the detector and the mask data\n",
    "\n",
    "* All the other .cxi files are in real space and show the **complex** electronic density, they each are the output of the phase retrieval process. The image size in real space is also given.\n",
    "* The support is linked to the mask, seems that it must be a binary array (0 masks, 1 does not mask)\n",
    "* Free pixel mask is not the original .npz file ? Boolean array maybe fixes which pixels cannot be assigned to the recalculated intensity, final one ?\n",
    "* entry_last is just a link to entry_1, idk why, doubles data size ? not ure if just link"
   ]
  },
  {
   "cell_type": "code",
   "execution_count": 3,
   "metadata": {
    "scrolled": false
   },
   "outputs": [
    {
     "name": "stdout",
     "output_type": "stream",
     "text": [
      "Path to file from current folder: Pt_p2/pynxraw/S1398_pynx_norm_128_300_294_1_1_1-2020-12-04T19-25-40_Run0008_LLKf000.1159_LLK000.1328_SupportThreshold0.29541.cxi\n",
      "Data file architecture :\n",
      "\n",
      "Pt_p2/pynxraw/S1398_pynx_norm_128_300_294_1_1_1-2020-12-04T19-25-40_Run0008_LLKf000.1159_LLK000.1328_SupportThreshold0.29541.cxi (File) ''\n",
      "Last modif.: 'Fri Dec  4 19:26:17 2020'\n",
      "Object Tree: \n",
      "/ (RootGroup) ''\n",
      "/cxi_version (Array()) ''\n",
      "/entry_last (SoftLink) -> /entry_1\n",
      "/entry_1 (Group) ''\n",
      "/entry_1/program_name (UnImplemented()) ''\n",
      "/entry_1/start_time (UnImplemented()) ''\n",
      "/entry_1/data_1 (Group) ''\n",
      "/entry_1/data_1/data (SoftLink) -> /entry_1/image_1/data\n",
      "/entry_1/image_1 (Group) ''\n",
      "/entry_1/image_1/data (CArray(128, 300, 294), shuffle, zlib(4)) ''\n",
      "/entry_1/image_1/data_space (UnImplemented()) ''\n",
      "/entry_1/image_1/data_type (UnImplemented()) ''\n",
      "/entry_1/image_1/image_size (Array(3,)) ''\n",
      "/entry_1/image_1/mask (CArray(128, 300, 294), shuffle, zlib(4)) ''\n",
      "/entry_1/image_1/support (SoftLink) -> /entry_1/image_1/mask\n",
      "/entry_1/image_1/instrument_1 (Group) ''\n",
      "/entry_1/image_1/instrument_1/name (UnImplemented()) ''\n",
      "/entry_1/image_1/process_1 (Group) ''\n",
      "/entry_1/image_1/process_1/command (UnImplemented()) ''\n",
      "/entry_1/image_1/process_1/program (UnImplemented()) ''\n",
      "/entry_1/image_1/process_1/version (UnImplemented()) ''\n",
      "/entry_1/image_1/process_1/configuration (Group) ''\n",
      "/entry_1/image_1/process_1/configuration/auto_center_resize (Array()) ''\n",
      "/entry_1/image_1/process_1/configuration/beta (Array()) ''\n",
      "/entry_1/image_1/process_1/configuration/confidence_interval_factor_mask_max (Array()) ''\n",
      "/entry_1/image_1/process_1/configuration/confidence_interval_factor_mask_min (Array()) ''\n",
      "/entry_1/image_1/process_1/configuration/crop_output (Array()) ''\n",
      "/entry_1/image_1/process_1/configuration/data (UnImplemented()) ''\n",
      "/entry_1/image_1/process_1/configuration/data2cxi (Array()) ''\n",
      "/entry_1/image_1/process_1/configuration/detector_distance (Array()) ''\n",
      "/entry_1/image_1/process_1/configuration/detwin (Array()) ''\n",
      "/entry_1/image_1/process_1/configuration/fig_num (Array()) ''\n",
      "/entry_1/image_1/process_1/configuration/free_pixel_mask (CArray(128, 300, 294), shuffle, zlib(4)) ''\n",
      "/entry_1/image_1/process_1/configuration/gps_inertia (Array()) ''\n",
      "/entry_1/image_1/process_1/configuration/gps_s (Array()) ''\n",
      "/entry_1/image_1/process_1/configuration/gps_sigma_f (Array()) ''\n",
      "/entry_1/image_1/process_1/configuration/gps_sigma_o (Array()) ''\n",
      "/entry_1/image_1/process_1/configuration/gps_t (Array()) ''\n",
      "/entry_1/image_1/process_1/configuration/imgcounter (UnImplemented()) ''\n",
      "/entry_1/image_1/process_1/configuration/instrument (UnImplemented()) ''\n",
      "/entry_1/image_1/process_1/configuration/iobs_shape (Array(3,)) ''\n",
      "/entry_1/image_1/process_1/configuration/iobs_shape_orig (Array(3,)) ''\n",
      "/entry_1/image_1/process_1/configuration/live_plot (Array()) ''\n",
      "/entry_1/image_1/process_1/configuration/mask (UnImplemented()) ''\n",
      "/entry_1/image_1/process_1/configuration/mask_interp (Array(2,)) ''\n",
      "/entry_1/image_1/process_1/configuration/mpi (UnImplemented()) ''\n",
      "/entry_1/image_1/process_1/configuration/nb_er (Array()) ''\n",
      "/entry_1/image_1/process_1/configuration/nb_hio (Array()) ''\n",
      "/entry_1/image_1/process_1/configuration/nb_ml (Array()) ''\n",
      "/entry_1/image_1/process_1/configuration/nb_raar (Array()) ''\n",
      "/entry_1/image_1/process_1/configuration/nb_run (Array()) ''\n",
      "/entry_1/image_1/process_1/configuration/nb_run_keep (Array()) ''\n",
      "/entry_1/image_1/process_1/configuration/output_format (UnImplemented()) ''\n",
      "/entry_1/image_1/process_1/configuration/pixel_size_detector (Array()) ''\n",
      "/entry_1/image_1/process_1/configuration/positivity (Array()) ''\n",
      "/entry_1/image_1/process_1/configuration/psf (Array()) ''\n",
      "/entry_1/image_1/process_1/configuration/rebin (Array(3,)) ''\n",
      "/entry_1/image_1/process_1/configuration/roi_final (Array(6,)) ''\n",
      "/entry_1/image_1/process_1/configuration/save (UnImplemented()) ''\n",
      "/entry_1/image_1/process_1/configuration/support (UnImplemented()) ''\n",
      "/entry_1/image_1/process_1/configuration/support_autocorrelation_threshold (Array()) ''\n",
      "/entry_1/image_1/process_1/configuration/support_only_shrink (Array()) ''\n",
      "/entry_1/image_1/process_1/configuration/support_post_expand (Array(3,)) ''\n",
      "/entry_1/image_1/process_1/configuration/support_smooth_width_begin (Array()) ''\n",
      "/entry_1/image_1/process_1/configuration/support_smooth_width_end (Array()) ''\n",
      "/entry_1/image_1/process_1/configuration/support_smooth_width_relax_n (Array()) ''\n",
      "/entry_1/image_1/process_1/configuration/support_threshold (Array()) ''\n",
      "/entry_1/image_1/process_1/configuration/support_threshold_method (UnImplemented()) ''\n",
      "/entry_1/image_1/process_1/configuration/support_update_border_n (Array()) ''\n",
      "/entry_1/image_1/process_1/configuration/support_update_period (Array()) ''\n",
      "/entry_1/image_1/process_1/configuration/verbose (Array()) ''\n",
      "/entry_1/image_1/process_1/configuration/wavelength (Array()) ''\n",
      "/entry_1/image_1/process_1/configuration/zero_mask (UnImplemented()) ''\n",
      "/entry_1/image_1/process_1/note_1 (Group) ''\n",
      "/entry_1/image_1/process_1/note_1/data (UnImplemented()) ''\n",
      "/entry_1/image_1/process_1/note_1/description (UnImplemented()) ''\n",
      "/entry_1/image_1/process_1/note_1/type (UnImplemented()) ''\n",
      "/entry_1/image_1/process_1/results (Group) ''\n",
      "/entry_1/image_1/process_1/results/cycle_history (Table(1701,)) ''\n",
      "/entry_1/image_1/process_1/results/cycle_history_algorithm (Table(1700,)) ''\n",
      "/entry_1/image_1/process_1/results/cycle_history_dt (Table(16,)) ''\n",
      "/entry_1/image_1/process_1/results/cycle_history_epoch (Table(1701,)) ''\n",
      "/entry_1/image_1/process_1/results/cycle_history_llk_euclidian (Table(17,)) ''\n",
      "/entry_1/image_1/process_1/results/cycle_history_llk_euclidian_free (Table(17,)) ''\n",
      "/entry_1/image_1/process_1/results/cycle_history_llk_gaussian (Table(17,)) ''\n",
      "/entry_1/image_1/process_1/results/cycle_history_llk_gaussian_free (Table(17,)) ''\n",
      "/entry_1/image_1/process_1/results/cycle_history_llk_poisson (Table(17,)) ''\n",
      "/entry_1/image_1/process_1/results/cycle_history_llk_poisson_free (Table(17,)) ''\n",
      "/entry_1/image_1/process_1/results/cycle_history_nb_photons_calc (Table(17,)) ''\n",
      "/entry_1/image_1/process_1/results/cycle_history_obj_average (Table(86,)) ''\n",
      "/entry_1/image_1/process_1/results/cycle_history_obj_max (Table(85,)) ''\n",
      "/entry_1/image_1/process_1/results/cycle_history_support_size (Table(85,)) ''\n",
      "/entry_1/image_1/process_1/results/cycle_history_support_update_threshold (Table(85,)) ''\n",
      "/entry_1/image_1/process_1/results/cycle_history_time (Table(1701,)) ''\n",
      "/entry_1/image_1/process_1/results/free_llk_euclidian (Array()) ''\n",
      "/entry_1/image_1/process_1/results/free_llk_gaussian (Array()) ''\n",
      "/entry_1/image_1/process_1/results/free_llk_poisson (Array()) ''\n",
      "/entry_1/image_1/process_1/results/llk_euclidian (Array()) ''\n",
      "/entry_1/image_1/process_1/results/llk_gaussian (Array()) ''\n",
      "/entry_1/image_1/process_1/results/llk_poisson (Array()) ''\n",
      "/entry_1/image_1/process_1/results/nb_point_support (Array()) ''\n",
      "/entry_1/image_1/instrument_1/beam_1 (Group) ''\n",
      "/entry_1/image_1/instrument_1/beam_1/incident_energy (Array()) ''\n",
      "/entry_1/image_1/instrument_1/beam_1/incident_wavelength (Array()) ''\n",
      "/entry_1/image_1/instrument_1/detector_1 (Group) ''\n",
      "/entry_1/image_1/instrument_1/detector_1/distance (Array()) ''\n",
      "/entry_1/image_1/instrument_1/detector_1/x_pixel_size (Array()) ''\n",
      "/entry_1/image_1/instrument_1/detector_1/y_pixel_size (Array()) ''\n",
      "/entry_1/image_1/instrument_1/source_1 (Group) ''\n",
      "/entry_1/image_1/instrument_1/source_1/energy (Array()) ''\n",
      "\n"
     ]
    },
    {
     "data": {
      "application/vnd.jupyter.widget-view+json": {
       "model_id": "97ed3ba1fd2e40b29ecd714aeb8a6748",
       "version_major": 2,
       "version_minor": 0
      },
      "text/plain": [
       "interactive(children=(Dropdown(description='First 2 axes:', index=1, options=('xy', 'yz', 'xz'), style=Descrip…"
      ]
     },
     "metadata": {},
     "output_type": "display_data"
    }
   ],
   "source": [
    "%run -i Scripts/PlotCXI"
   ]
  },
  {
   "cell_type": "markdown",
   "metadata": {},
   "source": [
    "# Try to extract a support determination from the 10 runs"
   ]
  },
  {
   "cell_type": "code",
   "execution_count": 11,
   "metadata": {},
   "outputs": [],
   "source": [
    "def CreateSupport(Path, Threshold):\n",
    "\n",
    "    with tb.open_file(Path, \"r\") as f:\n",
    "        print(f\"\\n{Path}\")\n",
    "        # Since .cxi files follow a specific architectture, we know where our data is.\n",
    "        mask = f.root.entry_1.image_1.mask[:]\n",
    "        print(f\"All elements in mask array are equal to 1 : {np.all(mask == 1)}\")\n",
    "        print(f\"Shape of support array {np.shape(mask)}\")\n",
    "\n",
    "        # support = f.root.entry_1.image_1.support[:]\n",
    "        # print(f\"All elements in support array are equal to 1 : {np.all(support == 1)}\")\n",
    "\n",
    "        ED = f.root.entry_1.data_1.data[:]\n",
    "        print(f\"Shape of real space complex electronic density array {np.shape(ED)}\")\n",
    "\n",
    "        # Find max value of real space image, we work with the amplitude\n",
    "        Amp = np.abs(ED)\n",
    "        MaxRS = Amp.max()\n",
    "        print(f\"Maximum value in amplitude array: {MaxRS}\")\n",
    "        \n",
    "        result = np.where(Amp < Threshold * MaxRS, 0, 1)\n",
    "        # Check if the indices we have seem to be around the center of the array\n",
    "        rocc = np.where(result == 1)\n",
    "        rnocc = np.where(result == 0)\n",
    "        \n",
    "        print(\"Indices where result == 1:\\n\",rocc)\n",
    "        print(f\"Percentage of 3D array occupied by support:\\n{np.shape(rocc)[1] / np.shape(rnocc)[1]}\")\n",
    "\n",
    "        return result"
   ]
  },
  {
   "cell_type": "code",
   "execution_count": 12,
   "metadata": {
    "scrolled": true
   },
   "outputs": [
    {
     "name": "stdout",
     "output_type": "stream",
     "text": [
      "\n",
      "Pt_p2\\pynxraw\\S1398_pynx_norm_128_300_294_1_1_1-2020-12-03T10-44-11_Run0019_LLKf000.1524_LLK4828897416.5916_SupportThreshold0.14254.cxi\n",
      "All elements in mask array are equal to 1 : True\n",
      "Shape of support array (128, 300, 294)\n",
      "Shape of real space complex electronic density array (128, 300, 294)\n",
      "Maximum value in amplitude array: 21.619176864624023\n",
      "Indices where result == 1:\n",
      " (array([35, 35, 35, ..., 97, 97, 97], dtype=int64), array([136, 137, 138, ..., 163, 163, 163], dtype=int64), array([151, 151, 155, ..., 141, 142, 143], dtype=int64))\n",
      "Percentage of 3D array occupied by support:\n",
      "0.007032888772175579\n",
      "\n",
      "Pt_p2\\pynxraw\\S1398_pynx_norm_128_300_294_1_1_1-2020-12-03T10-44-45_Run0020_LLKf000.1371_LLK5106613636.0168_SupportThreshold0.10094.cxi\n",
      "All elements in mask array are equal to 1 : False\n",
      "Shape of support array (128, 300, 294)\n",
      "Shape of real space complex electronic density array (128, 300, 294)\n",
      "Maximum value in amplitude array: 21.28377342224121\n",
      "Indices where result == 1:\n",
      " (array([ 36,  36,  36, ...,  97,  97, 121], dtype=int64), array([141, 141, 141, ..., 152, 152, 141], dtype=int64), array([147, 149, 150, ..., 129, 130, 156], dtype=int64))\n",
      "Percentage of 3D array occupied by support:\n",
      "0.007148330193280307\n",
      "\n",
      "Pt_p2\\pynxraw\\S1398_pynx_norm_128_300_294_1_1_1-2020-12-03T10-45-51_Run0022_LLKf000.1473_LLK4969885945.3201_SupportThreshold0.14390.cxi\n",
      "All elements in mask array are equal to 1 : True\n",
      "Shape of support array (128, 300, 294)\n",
      "Shape of real space complex electronic density array (128, 300, 294)\n",
      "Maximum value in amplitude array: 22.227218627929688\n",
      "Indices where result == 1:\n",
      " (array([32, 32, 32, ..., 94, 94, 94], dtype=int64), array([149, 149, 149, ..., 158, 158, 158], dtype=int64), array([153, 154, 155, ..., 132, 133, 134], dtype=int64))\n",
      "Percentage of 3D array occupied by support:\n",
      "0.006786552529232847\n",
      "\n",
      "Pt_p2\\pynxraw\\S1398_pynx_norm_128_300_294_1_1_1-2020-12-03T10-54-34_Run0037_LLKf000.1530_LLK4964432716.3696_SupportThreshold0.10306.cxi\n",
      "All elements in mask array are equal to 1 : False\n",
      "Shape of support array (128, 300, 294)\n",
      "Shape of real space complex electronic density array (128, 300, 294)\n",
      "Maximum value in amplitude array: 21.83814239501953\n",
      "Indices where result == 1:\n",
      " (array([33, 33, 33, ..., 95, 95, 95], dtype=int64), array([154, 154, 154, ..., 166, 166, 166], dtype=int64), array([158, 159, 160, ..., 138, 139, 140], dtype=int64))\n",
      "Percentage of 3D array occupied by support:\n",
      "0.007163514730890469\n",
      "\n",
      "Pt_p2\\pynxraw\\S1398_pynx_norm_128_300_294_1_1_1-2020-12-03T10-56-16_Run0040_LLKf000.1437_LLK4936279356.4796_SupportThreshold0.13960.cxi\n",
      "All elements in mask array are equal to 1 : False\n",
      "Shape of support array (128, 300, 294)\n",
      "Shape of real space complex electronic density array (128, 300, 294)\n",
      "Maximum value in amplitude array: 19.707258224487305\n",
      "Indices where result == 1:\n",
      " (array([ 30,  31,  31, ..., 100, 100, 121], dtype=int64), array([145, 139, 139, ..., 152, 152, 147], dtype=int64), array([151, 162, 163, ..., 140, 141, 136], dtype=int64))\n",
      "Percentage of 3D array occupied by support:\n",
      "0.007552448800644357\n",
      "\n",
      "Pt_p2\\pynxraw\\S1398_pynx_norm_128_300_294_1_1_1-2020-12-03T10-59-36_Run0046_LLKf000.1456_LLK4796542525.2914_SupportThreshold0.14391.cxi\n",
      "All elements in mask array are equal to 1 : False\n",
      "Shape of support array (128, 300, 294)\n",
      "Shape of real space complex electronic density array (128, 300, 294)\n",
      "Maximum value in amplitude array: 22.655376434326172\n",
      "Indices where result == 1:\n",
      " (array([41, 41, 41, ..., 98, 98, 98], dtype=int64), array([139, 139, 139, ..., 160, 160, 160], dtype=int64), array([155, 156, 157, ..., 138, 139, 140], dtype=int64))\n",
      "Percentage of 3D array occupied by support:\n",
      "0.006658537618396913\n",
      "\n",
      "Pt_p2\\pynxraw\\S1398_pynx_norm_128_300_294_1_1_1-2020-12-03T11-01-14_Run0049_LLKf000.1443_LLK5064797401.4282_SupportThreshold0.14046.cxi\n",
      "All elements in mask array are equal to 1 : False\n",
      "Shape of support array (128, 300, 294)\n",
      "Shape of real space complex electronic density array (128, 300, 294)\n",
      "Maximum value in amplitude array: 18.694765090942383\n",
      "Indices where result == 1:\n",
      " (array([ 2,  4, 12, ..., 95, 95, 95], dtype=int64), array([152, 151, 160, ..., 157, 157, 157], dtype=int64), array([146, 146, 150, ..., 142, 143, 144], dtype=int64))\n",
      "Percentage of 3D array occupied by support:\n",
      "0.007746083977769173\n",
      "\n",
      "Pt_p2\\pynxraw\\S1398_pynx_norm_128_300_294_1_1_1-2020-12-03T11-05-30_Run0057_LLKf000.1454_LLK5000520944.5953_SupportThreshold0.10299.cxi\n",
      "All elements in mask array are equal to 1 : False\n",
      "Shape of support array (128, 300, 294)\n",
      "Shape of real space complex electronic density array (128, 300, 294)\n",
      "Maximum value in amplitude array: 22.860572814941406\n",
      "Indices where result == 1:\n",
      " (array([29, 29, 29, ..., 88, 88, 88], dtype=int64), array([140, 140, 140, ..., 155, 155, 155], dtype=int64), array([156, 157, 158, ..., 127, 128, 129], dtype=int64))\n",
      "Percentage of 3D array occupied by support:\n",
      "0.006545272470938653\n",
      "\n",
      "Pt_p2\\pynxraw\\S1398_pynx_norm_128_300_294_1_1_1-2020-12-03T11-08-14_Run0062_LLKf000.1495_LLK5079728960.9909_SupportThreshold0.14758.cxi\n",
      "All elements in mask array are equal to 1 : False\n",
      "Shape of support array (128, 300, 294)\n",
      "Shape of real space complex electronic density array (128, 300, 294)\n",
      "Maximum value in amplitude array: 25.491230010986328\n",
      "Indices where result == 1:\n",
      " (array([33, 33, 33, ..., 91, 91, 91], dtype=int64), array([142, 142, 143, ..., 159, 160, 160], dtype=int64), array([158, 159, 158, ..., 142, 138, 139], dtype=int64))\n",
      "Percentage of 3D array occupied by support:\n",
      "0.005971619902476997\n",
      "\n",
      "Pt_p2\\pynxraw\\S1398_pynx_norm_128_300_294_1_1_1-2020-12-03T11-13-50_Run0073_LLKf000.1539_LLK4811616539.9551_SupportThreshold0.10281.cxi\n",
      "All elements in mask array are equal to 1 : False\n",
      "Shape of support array (128, 300, 294)\n",
      "Shape of real space complex electronic density array (128, 300, 294)\n",
      "Maximum value in amplitude array: 19.97889518737793\n",
      "Indices where result == 1:\n",
      " (array([ 33,  33,  33, ...,  94,  94, 104], dtype=int64), array([136, 136, 137, ..., 162, 162, 149], dtype=int64), array([157, 158, 156, ..., 147, 148, 141], dtype=int64))\n",
      "Percentage of 3D array occupied by support:\n",
      "0.007308105245209697\n"
     ]
    }
   ],
   "source": [
    "import glob\n",
    "Path = sorted(glob.glob(\"Pt_p2\\\\pynxraw\\\\S1398_pynx_norm_128_300_294_1_1_1-2020*cxi\"))\n",
    "t = 0.20\n",
    "\n",
    "TenSupports = [CreateSupport(p,t) for p in Path]\n",
    "\n",
    "# 3D array of 1 and 0 -> mask\n",
    "\n",
    "np.shape(TenSupports[0])\n",
    "\n",
    "a = TenSupports[0]\n",
    "\n",
    "for t in TenSupports[1:]:\n",
    "    a = np.add(a, t)\n",
    "    \n",
    "mask = np.where(a > 4, 1, 0)\n",
    "np.savez(\"Mask_10_100_0_1.npz\", mask = mask)"
   ]
  },
  {
   "cell_type": "markdown",
   "metadata": {},
   "source": [
    "Need to smooth by convoluting with a gaussian"
   ]
  },
  {
   "cell_type": "code",
   "execution_count": 13,
   "metadata": {},
   "outputs": [
    {
     "name": "stdout",
     "output_type": "stream",
     "text": [
      "Indices where result == 1:\n",
      " (array([35, 35, 35, ..., 95, 95, 95], dtype=int64), array([138, 139, 140, ..., 150, 150, 153], dtype=int64), array([155, 155, 153, ..., 139, 140, 140], dtype=int64))\n",
      "Percentage of 3D array occupied by support:\n",
      "0.007585090853659189\n"
     ]
    }
   ],
   "source": [
    "rocc = np.where(mask == 1)\n",
    "rnocc = np.where(mask == 0)\n",
    "\n",
    "print(\"Indices where result == 1:\\n\",rocc)\n",
    "print(f\"Percentage of 3D array occupied by support:\\n{np.shape(rocc)[1] / np.shape(rnocc)[1]}\")"
   ]
  },
  {
   "cell_type": "markdown",
   "metadata": {},
   "source": [
    "<font color=#163e5a>  \n",
    "    <h1>Create modes</h1>\n",
    "    <p>Only on lid01 because pynx package</p>\n",
    "</font>"
   ]
  },
  {
   "cell_type": "markdown",
   "metadata": {},
   "source": [
    "! python pynx-cdi-analysis.py S1398_pynx_norm_128_300_294_1_1_1-* modes=1"
   ]
  },
  {
   "cell_type": "markdown",
   "metadata": {},
   "source": [
    "<font color=#163e5a>  \n",
    "    <h1>Launch strain analysis</h1>\n",
    "    <p>Only on lid01 because local bcdi package has problems</p>\n",
    "</font>"
   ]
  },
  {
   "cell_type": "code",
   "execution_count": 16,
   "metadata": {},
   "outputs": [
    {
     "name": "stdout",
     "output_type": "stream",
     "text": [
      "^C\n"
     ]
    }
   ],
   "source": [
    "!python D:/Documents/PythonScripts/PhDScripts/Pt_p2/pynxraw/strain.py"
   ]
  },
  {
   "cell_type": "code",
   "execution_count": null,
   "metadata": {},
   "outputs": [],
   "source": []
  }
 ],
 "metadata": {
  "kernelspec": {
   "display_name": "Python 3",
   "language": "python",
   "name": "python3"
  },
  "language_info": {
   "codemirror_mode": {
    "name": "ipython",
    "version": 3
   },
   "file_extension": ".py",
   "mimetype": "text/x-python",
   "name": "python",
   "nbconvert_exporter": "python",
   "pygments_lexer": "ipython3",
   "version": "3.8.5"
  }
 },
 "nbformat": 4,
 "nbformat_minor": 4
}
