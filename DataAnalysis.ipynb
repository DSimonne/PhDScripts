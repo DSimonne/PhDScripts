{
 "cells": [
  {
   "cell_type": "markdown",
   "metadata": {},
   "source": [
    "<font color=#163e5a>  \n",
    "    <h1>Preprocessing the data</h1>\n",
    "    <p>The following command in jupyter notebook works ! =)</p>\n",
    "</font>"
   ]
  },
  {
   "cell_type": "code",
   "execution_count": 1,
   "metadata": {
    "scrolled": true
   },
   "outputs": [
    {
     "name": "stdout",
     "output_type": "stream",
     "text": [
      "homedir : D:/Documents/PythonScripts/PhDScripts/Pt_p2/\n",
      "root_folder : D:/Documents/PythonScripts/PhDScripts/Pt_p2/\n",
      "File has time stamps issues\n",
      "File has time stamps issues\n",
      "\n",
      "Scan 1398\n",
      "Setup:  SIXS_2019\n",
      "Detector:  Maxipix\n",
      "Pixel number (VxH):  516 516\n",
      "Detector ROI: [0, 303, 0, 296]\n",
      "Horizontal pixel size with binning:  5.5e-05 m\n",
      "Vertical pixel size with binning:  5.5e-05 m\n",
      "Specfile:  D:/Documents/PythonScripts/PhDScripts/Pt_p2/analysis/alias_dict.txt\n",
      "Scan type:  inplane\n",
      "Output will be non orthogonal, in the detector frame\n",
      "Detector ROI loaded (VxH): 303 296\n",
      "Detector physical size without binning (VxH): 516 516\n",
      "Detector size with binning (VxH): 516 516\n",
      "\n",
      "Loading frame 1\n",
      "Loading frame 2\n",
      "Loading frame 3\n",
      "Loading frame 4\n",
      "Loading frame 5\n",
      "Loading frame 6\n",
      "Loading frame 7\n",
      "Loading frame 8\n",
      "Loading frame 9\n",
      "Loading frame 10\n",
      "Loading frame 11\n",
      "Loading frame 12\n",
      "Loading frame 13\n",
      "Loading frame 14\n",
      "Loading frame 15\n",
      "Loading frame 16\n",
      "Loading frame 17\n",
      "Loading frame 18\n",
      "Loading frame 19\n",
      "Loading frame 20\n",
      "Loading frame 21\n",
      "Loading frame 22\n",
      "Loading frame 23\n",
      "Loading frame 24\n",
      "Loading frame 25\n",
      "Loading frame 26\n",
      "Loading frame 27\n",
      "Loading frame 28\n",
      "Loading frame 29\n",
      "Loading frame 30\n",
      "Loading frame 31\n",
      "Loading frame 32\n",
      "Loading frame 33\n",
      "Loading frame 34\n",
      "Loading frame 35\n",
      "Loading frame 36\n",
      "Loading frame 37\n",
      "Loading frame 38\n",
      "Loading frame 39\n",
      "Loading frame 40\n",
      "Loading frame 41\n",
      "Loading frame 42\n",
      "Loading frame 43\n",
      "Loading frame 44\n",
      "Loading frame 45\n",
      "Loading frame 46\n",
      "Loading frame 47\n",
      "Loading frame 48\n",
      "Loading frame 49\n",
      "Loading frame 50\n",
      "Loading frame 51\n",
      "Loading frame 52\n",
      "Loading frame 53\n",
      "Loading frame 54\n",
      "Loading frame 55\n",
      "Loading frame 56\n",
      "Loading frame 57\n",
      "Loading frame 58\n",
      "Loading frame 59\n",
      "Loading frame 60\n",
      "Loading frame 61\n",
      "Loading frame 62\n",
      "Loading frame 63\n",
      "Loading frame 64\n",
      "Loading frame 65\n",
      "Loading frame 66\n",
      "Loading frame 67\n",
      "Loading frame 68\n",
      "Loading frame 69\n",
      "Loading frame 70\n",
      "Loading frame 71\n",
      "Loading frame 72\n",
      "Loading frame 73\n",
      "Loading frame 74\n",
      "Loading frame 75\n",
      "Loading frame 76\n",
      "Loading frame 77\n",
      "Loading frame 78\n",
      "Loading frame 79\n",
      "Loading frame 80\n",
      "Loading frame 81\n",
      "Loading frame 82\n",
      "Loading frame 83\n",
      "Loading frame 84\n",
      "Loading frame 85\n",
      "Loading frame 86\n",
      "Loading frame 87\n",
      "Loading frame 88\n",
      "Loading frame 89\n",
      "Loading frame 90\n",
      "Loading frame 91\n",
      "Loading frame 92\n",
      "Loading frame 93\n",
      "Loading frame 94\n",
      "Loading frame 95\n",
      "Loading frame 96\n",
      "Loading frame 97\n",
      "Loading frame 98\n",
      "Loading frame 99\n",
      "Loading frame 100\n",
      "Loading frame 101\n",
      "Loading frame 102\n",
      "Loading frame 103\n",
      "Loading frame 104\n",
      "Loading frame 105\n",
      "Loading frame 106\n",
      "Loading frame 107\n",
      "Loading frame 108\n",
      "Loading frame 109\n",
      "Loading frame 110\n",
      "Loading frame 111\n",
      "Loading frame 112\n",
      "Loading frame 113\n",
      "Loading frame 114\n",
      "Loading frame 115\n",
      "Loading frame 116\n",
      "Loading frame 117\n",
      "Loading frame 118\n",
      "Loading frame 119\n",
      "Loading frame 120\n",
      "Loading frame 121\n",
      "Loading frame 122\n",
      "Loading frame 123\n",
      "Loading frame 124\n",
      "Loading frame 125\n",
      "Loading frame 126\n",
      "Loading frame 127\n",
      "Loading frame 128\n",
      "Loading frame 129\n",
      "check_pixels(): initial number of masked pixels = 3966 on a total of 89688\n",
      "check_pixels(): var_mean=57.05, 1/var_threshold=132.65\n",
      "check_pixels(): number of zero variance hotpixels = 0\n",
      "check_pixels(): number of pixels with too low variance = 0\n",
      "\n",
      "0  negative data points masked\n",
      "Intensity normalization using monitor\n",
      "Monitor min, max, mean: 0.0, 0.0, 0.0\n",
      "Data normalization by monitor.min()/monitor\n",
      "\n",
      "\n",
      "Input data shape: 129 303 296\n",
      "Max at (qx, qz, qy):  64 178 132\n",
      "Data peak value =  40088.21768417889\n",
      "Max symmetrical box (qx, qz, qy):  128 250 264\n",
      "FFT box (qx, qz, qy):  (128, 300, 294)\n",
      "\n",
      "Pad width: [0 0 0 0 0 0]\n",
      "\n",
      "Data size after cropping / padding: 128 300 294\n",
      "\n",
      "Skipping median filtering\n",
      "\n",
      "Data size after masking: 128 300 294\n",
      "\n",
      "Data size after binning the stacking dimension: (128, 300, 294)\n",
      "\n",
      "Saving directory: D:/Documents/PythonScripts/PhDScripts/Pt_p2/pynxraw/\n",
      "\n",
      "End of script\n"
     ]
    }
   ],
   "source": [
    "!python D:/Documents/PythonScripts/PhDScripts/Pt_p2/preprocess_bcdi.py"
   ]
  },
  {
   "cell_type": "markdown",
   "metadata": {},
   "source": [
    "<font color=#163e5a>\n",
    "    <h1>Preprocess output</h1>\n",
    "\n",
    "\n",
    "**Two .npz files**\n",
    "* <a href = \"https://numpy.org/doc/stable/reference/generated/numpy.savez.html\" target = \"_blank\">Documentation</a>\n",
    "* the mask: S1398_maskpynx_norm_128_300_294_1_1_1.npz\n",
    "* the (normalised?) detector data: S1398_pynx_norm_128_300_294_1_1_1.npz\n",
    "    \n",
    "<h2>Find the .npz files</h2>\n",
    "</font>"
   ]
  },
  {
   "cell_type": "code",
   "execution_count": 1,
   "metadata": {},
   "outputs": [
    {
     "name": "stdout",
     "output_type": "stream",
     "text": [
      "Pt_p2/pynxraw/Mask_10_100_0_1.npz\n",
      "Pt_p2/pynxraw/Mask_Threshold_0.15.npz\n",
      "Pt_p2/pynxraw/Mask_Threshold_0.2.npz\n",
      "Pt_p2/pynxraw/Mask_Threshold_0.25.npz\n",
      "Pt_p2/pynxraw/Mask_Threshold_0.3.npz\n",
      "Pt_p2/pynxraw/S1398_ampdispstrain_gap_iso0.2_mode_avg3_apodize_blackman_lab-frame.npz\n",
      "Pt_p2/pynxraw/S1398_avg_obj_prtf_gap_iso0.2_mode_avg3_apodize_blackman.npz\n",
      "Pt_p2/pynxraw/S1398_maskpynx_norm_128_300_294_1_1_1.npz\n",
      "Pt_p2/pynxraw/S1398_pynx_norm_128_300_294_1_1_1.npz\n"
     ]
    }
   ],
   "source": [
    "%%bash\n",
    "ls Pt_p2/pynxraw/*.npz"
   ]
  },
  {
   "cell_type": "code",
   "execution_count": 3,
   "metadata": {},
   "outputs": [
    {
     "name": "stdout",
     "output_type": "stream",
     "text": [
      "Path to file from current folder: Pt_p2/pynxraw/S1398_avg_obj_prtf_gap_iso0.2_mode_avg3_apodize_blackman.npz\n",
      "Stored arrays :['obj']\n"
     ]
    },
    {
     "data": {
      "application/vnd.jupyter.widget-view+json": {
       "model_id": "4fac4d675a3440b6a06b97ca3e1b871a",
       "version_major": 2,
       "version_minor": 0
      },
      "text/plain": [
       "interactive(children=(Dropdown(description='Array used:', options=('obj',), style=DescriptionStyle(description…"
      ]
     },
     "metadata": {},
     "output_type": "display_data"
    }
   ],
   "source": [
    "%run -i Scripts/PlotNPZ"
   ]
  },
  {
   "cell_type": "code",
   "execution_count": 2,
   "metadata": {},
   "outputs": [
    {
     "name": "stdout",
     "output_type": "stream",
     "text": [
      "Path to file from current folder: Pt_p2/pynxraw/S1398_ampdispstrain_gap_iso0.2_mode_avg3_apodize_blackman_lab-frame.npz\n",
      "Stored arrays :['amp', 'displacement', 'bulk', 'strain']\n"
     ]
    },
    {
     "data": {
      "application/vnd.jupyter.widget-view+json": {
       "model_id": "498ee633a7224a9eb25583766dc9d059",
       "version_major": 2,
       "version_minor": 0
      },
      "text/plain": [
       "interactive(children=(Dropdown(description='Array used:', options=('amp', 'displacement', 'bulk', 'strain'), s…"
      ]
     },
     "metadata": {},
     "output_type": "display_data"
    }
   ],
   "source": [
    "%run -i Scripts/PlotNPZ"
   ]
  },
  {
   "cell_type": "markdown",
   "metadata": {},
   "source": [
    "<font color=#163e5a>  \n",
    "    <h1>Find the .cxi files</h1>\n",
    "    <a href = \"https://raw.githubusercontent.com/cxidb/CXI/master/cxi_file_format.pdf\" target = \"_blank\">Documentation</a>\n",
    "</font>"
   ]
  },
  {
   "cell_type": "code",
   "execution_count": 13,
   "metadata": {},
   "outputs": [
    {
     "name": "stdout",
     "output_type": "stream",
     "text": [
      "Pt_p2/pynxraw/S1398_pynx_norm_128_300_294_1_1_1-2020-12-04T19-25-40_Run0008_LLKf000.1159_LLK000.1328_SupportThreshold0.29541.cxi\n",
      "Pt_p2/pynxraw/S1398_pynx_norm_128_300_294_1_1_1-2020-12-04T19-26-53_Run0010_LLKf000.1158_LLK000.1330_SupportThreshold0.29706.cxi\n",
      "Pt_p2/pynxraw/S1398_pynx_norm_128_300_294_1_1_1-2020-12-04T19-37-13_Run0027_LLKf000.1157_LLK000.1329_SupportThreshold0.29221.cxi\n",
      "Pt_p2/pynxraw/S1398_pynx_norm_128_300_294_1_1_1-2020-12-04T19-39-39_Run0031_LLKf000.1158_LLK000.1330_SupportThreshold0.28916.cxi\n",
      "Pt_p2/pynxraw/S1398_pynx_norm_128_300_294_1_1_1-2020-12-04T19-41-28_Run0034_LLKf000.1158_LLK000.1332_SupportThreshold0.28754.cxi\n",
      "Pt_p2/pynxraw/S1398_pynx_norm_128_300_294_1_1_1-2020-12-04T19-44-30_Run0039_LLKf000.1158_LLK000.1330_SupportThreshold0.29166.cxi\n",
      "Pt_p2/pynxraw/S1398_pynx_norm_128_300_294_1_1_1-2020-12-04T19-47-34_Run0044_LLKf000.1158_LLK000.1329_SupportThreshold0.29538.cxi\n",
      "Pt_p2/pynxraw/S1398_pynx_norm_128_300_294_1_1_1-2020-12-04T19-59-06_Run0063_LLKf000.1155_LLK000.1329_SupportThreshold0.29807.cxi\n",
      "Pt_p2/pynxraw/S1398_pynx_norm_128_300_294_1_1_1-2020-12-04T20-14-50_Run0089_LLKf000.1156_LLK000.1331_SupportThreshold0.29090.cxi\n",
      "Pt_p2/pynxraw/S1398_pynx_norm_128_300_294_1_1_1-2020-12-04T20-18-28_Run0095_LLKf000.1159_LLK000.1332_SupportThreshold0.28434.cxi\n",
      "Pt_p2/pynxraw/S1398_pynx_norm_128_300_294_1_1_1.cxi\n"
     ]
    }
   ],
   "source": [
    "%%bash\n",
    "ls Pt_p2/pynxraw/*.cxi"
   ]
  },
  {
   "cell_type": "markdown",
   "metadata": {},
   "source": [
    "* The last .cxi file contains only the detector and the mask data, output of PyNX\n",
    "\n",
    "* All the other .cxi files are in real space and show the **complex** electronic density, they each are the output of the phase retrieval process. The image size in real space is also given.\n",
    "* The support is linked to the mask, seems that it must be a binary array (0 masks, 1 does not mask)\n",
    "* Free pixel mask is not the original .npz file ? Boolean array maybe fixes which pixels cannot be assigned to the recalculated intensity, final one ?\n",
    "* entry_last is just a link to entry_1, idk why, doubles data size ? not sure since just link"
   ]
  },
  {
   "cell_type": "markdown",
   "metadata": {},
   "source": [
    "<font color=#163e5a>  \n",
    "    <h1>Check one of the 10 good datasets</h1>\n",
    "    <p></p>\n",
    "</font>"
   ]
  },
  {
   "cell_type": "code",
   "execution_count": 3,
   "metadata": {
    "scrolled": false
   },
   "outputs": [
    {
     "name": "stdout",
     "output_type": "stream",
     "text": [
      "Path to file from current folder: Pt_p2/pynxraw/S1398_pynx_norm_128_300_294_1_1_1-2020-12-04T19-25-40_Run0008_LLKf000.1159_LLK000.1328_SupportThreshold0.29541.cxi\n",
      "Data file architecture :\n",
      "\n",
      "Pt_p2/pynxraw/S1398_pynx_norm_128_300_294_1_1_1-2020-12-04T19-25-40_Run0008_LLKf000.1159_LLK000.1328_SupportThreshold0.29541.cxi (File) ''\n",
      "Last modif.: 'Fri Dec  4 19:26:17 2020'\n",
      "Object Tree: \n",
      "/ (RootGroup) ''\n",
      "/cxi_version (Array()) ''\n",
      "/entry_last (SoftLink) -> /entry_1\n",
      "/entry_1 (Group) ''\n",
      "/entry_1/program_name (UnImplemented()) ''\n",
      "/entry_1/start_time (UnImplemented()) ''\n",
      "/entry_1/data_1 (Group) ''\n",
      "/entry_1/data_1/data (SoftLink) -> /entry_1/image_1/data\n",
      "/entry_1/image_1 (Group) ''\n",
      "/entry_1/image_1/data (CArray(128, 300, 294), shuffle, zlib(4)) ''\n",
      "/entry_1/image_1/data_space (UnImplemented()) ''\n",
      "/entry_1/image_1/data_type (UnImplemented()) ''\n",
      "/entry_1/image_1/image_size (Array(3,)) ''\n",
      "/entry_1/image_1/mask (CArray(128, 300, 294), shuffle, zlib(4)) ''\n",
      "/entry_1/image_1/support (SoftLink) -> /entry_1/image_1/mask\n",
      "/entry_1/image_1/instrument_1 (Group) ''\n",
      "/entry_1/image_1/instrument_1/name (UnImplemented()) ''\n",
      "/entry_1/image_1/process_1 (Group) ''\n",
      "/entry_1/image_1/process_1/command (UnImplemented()) ''\n",
      "/entry_1/image_1/process_1/program (UnImplemented()) ''\n",
      "/entry_1/image_1/process_1/version (UnImplemented()) ''\n",
      "/entry_1/image_1/process_1/configuration (Group) ''\n",
      "/entry_1/image_1/process_1/configuration/auto_center_resize (Array()) ''\n",
      "/entry_1/image_1/process_1/configuration/beta (Array()) ''\n",
      "/entry_1/image_1/process_1/configuration/confidence_interval_factor_mask_max (Array()) ''\n",
      "/entry_1/image_1/process_1/configuration/confidence_interval_factor_mask_min (Array()) ''\n",
      "/entry_1/image_1/process_1/configuration/crop_output (Array()) ''\n",
      "/entry_1/image_1/process_1/configuration/data (UnImplemented()) ''\n",
      "/entry_1/image_1/process_1/configuration/data2cxi (Array()) ''\n",
      "/entry_1/image_1/process_1/configuration/detector_distance (Array()) ''\n",
      "/entry_1/image_1/process_1/configuration/detwin (Array()) ''\n",
      "/entry_1/image_1/process_1/configuration/fig_num (Array()) ''\n",
      "/entry_1/image_1/process_1/configuration/free_pixel_mask (CArray(128, 300, 294), shuffle, zlib(4)) ''\n",
      "/entry_1/image_1/process_1/configuration/gps_inertia (Array()) ''\n",
      "/entry_1/image_1/process_1/configuration/gps_s (Array()) ''\n",
      "/entry_1/image_1/process_1/configuration/gps_sigma_f (Array()) ''\n",
      "/entry_1/image_1/process_1/configuration/gps_sigma_o (Array()) ''\n",
      "/entry_1/image_1/process_1/configuration/gps_t (Array()) ''\n",
      "/entry_1/image_1/process_1/configuration/imgcounter (UnImplemented()) ''\n",
      "/entry_1/image_1/process_1/configuration/instrument (UnImplemented()) ''\n",
      "/entry_1/image_1/process_1/configuration/iobs_shape (Array(3,)) ''\n",
      "/entry_1/image_1/process_1/configuration/iobs_shape_orig (Array(3,)) ''\n",
      "/entry_1/image_1/process_1/configuration/live_plot (Array()) ''\n",
      "/entry_1/image_1/process_1/configuration/mask (UnImplemented()) ''\n",
      "/entry_1/image_1/process_1/configuration/mask_interp (Array(2,)) ''\n",
      "/entry_1/image_1/process_1/configuration/mpi (UnImplemented()) ''\n",
      "/entry_1/image_1/process_1/configuration/nb_er (Array()) ''\n",
      "/entry_1/image_1/process_1/configuration/nb_hio (Array()) ''\n",
      "/entry_1/image_1/process_1/configuration/nb_ml (Array()) ''\n",
      "/entry_1/image_1/process_1/configuration/nb_raar (Array()) ''\n",
      "/entry_1/image_1/process_1/configuration/nb_run (Array()) ''\n",
      "/entry_1/image_1/process_1/configuration/nb_run_keep (Array()) ''\n",
      "/entry_1/image_1/process_1/configuration/output_format (UnImplemented()) ''\n",
      "/entry_1/image_1/process_1/configuration/pixel_size_detector (Array()) ''\n",
      "/entry_1/image_1/process_1/configuration/positivity (Array()) ''\n",
      "/entry_1/image_1/process_1/configuration/psf (Array()) ''\n",
      "/entry_1/image_1/process_1/configuration/rebin (Array(3,)) ''\n",
      "/entry_1/image_1/process_1/configuration/roi_final (Array(6,)) ''\n",
      "/entry_1/image_1/process_1/configuration/save (UnImplemented()) ''\n",
      "/entry_1/image_1/process_1/configuration/support (UnImplemented()) ''\n",
      "/entry_1/image_1/process_1/configuration/support_autocorrelation_threshold (Array()) ''\n",
      "/entry_1/image_1/process_1/configuration/support_only_shrink (Array()) ''\n",
      "/entry_1/image_1/process_1/configuration/support_post_expand (Array(3,)) ''\n",
      "/entry_1/image_1/process_1/configuration/support_smooth_width_begin (Array()) ''\n",
      "/entry_1/image_1/process_1/configuration/support_smooth_width_end (Array()) ''\n",
      "/entry_1/image_1/process_1/configuration/support_smooth_width_relax_n (Array()) ''\n",
      "/entry_1/image_1/process_1/configuration/support_threshold (Array()) ''\n",
      "/entry_1/image_1/process_1/configuration/support_threshold_method (UnImplemented()) ''\n",
      "/entry_1/image_1/process_1/configuration/support_update_border_n (Array()) ''\n",
      "/entry_1/image_1/process_1/configuration/support_update_period (Array()) ''\n",
      "/entry_1/image_1/process_1/configuration/verbose (Array()) ''\n",
      "/entry_1/image_1/process_1/configuration/wavelength (Array()) ''\n",
      "/entry_1/image_1/process_1/configuration/zero_mask (UnImplemented()) ''\n",
      "/entry_1/image_1/process_1/note_1 (Group) ''\n",
      "/entry_1/image_1/process_1/note_1/data (UnImplemented()) ''\n",
      "/entry_1/image_1/process_1/note_1/description (UnImplemented()) ''\n",
      "/entry_1/image_1/process_1/note_1/type (UnImplemented()) ''\n",
      "/entry_1/image_1/process_1/results (Group) ''\n",
      "/entry_1/image_1/process_1/results/cycle_history (Table(1701,)) ''\n",
      "/entry_1/image_1/process_1/results/cycle_history_algorithm (Table(1700,)) ''\n",
      "/entry_1/image_1/process_1/results/cycle_history_dt (Table(16,)) ''\n",
      "/entry_1/image_1/process_1/results/cycle_history_epoch (Table(1701,)) ''\n",
      "/entry_1/image_1/process_1/results/cycle_history_llk_euclidian (Table(17,)) ''\n",
      "/entry_1/image_1/process_1/results/cycle_history_llk_euclidian_free (Table(17,)) ''\n",
      "/entry_1/image_1/process_1/results/cycle_history_llk_gaussian (Table(17,)) ''\n",
      "/entry_1/image_1/process_1/results/cycle_history_llk_gaussian_free (Table(17,)) ''\n",
      "/entry_1/image_1/process_1/results/cycle_history_llk_poisson (Table(17,)) ''\n",
      "/entry_1/image_1/process_1/results/cycle_history_llk_poisson_free (Table(17,)) ''\n",
      "/entry_1/image_1/process_1/results/cycle_history_nb_photons_calc (Table(17,)) ''\n",
      "/entry_1/image_1/process_1/results/cycle_history_obj_average (Table(86,)) ''\n",
      "/entry_1/image_1/process_1/results/cycle_history_obj_max (Table(85,)) ''\n",
      "/entry_1/image_1/process_1/results/cycle_history_support_size (Table(85,)) ''\n",
      "/entry_1/image_1/process_1/results/cycle_history_support_update_threshold (Table(85,)) ''\n",
      "/entry_1/image_1/process_1/results/cycle_history_time (Table(1701,)) ''\n",
      "/entry_1/image_1/process_1/results/free_llk_euclidian (Array()) ''\n",
      "/entry_1/image_1/process_1/results/free_llk_gaussian (Array()) ''\n",
      "/entry_1/image_1/process_1/results/free_llk_poisson (Array()) ''\n",
      "/entry_1/image_1/process_1/results/llk_euclidian (Array()) ''\n",
      "/entry_1/image_1/process_1/results/llk_gaussian (Array()) ''\n",
      "/entry_1/image_1/process_1/results/llk_poisson (Array()) ''\n",
      "/entry_1/image_1/process_1/results/nb_point_support (Array()) ''\n",
      "/entry_1/image_1/instrument_1/beam_1 (Group) ''\n",
      "/entry_1/image_1/instrument_1/beam_1/incident_energy (Array()) ''\n",
      "/entry_1/image_1/instrument_1/beam_1/incident_wavelength (Array()) ''\n",
      "/entry_1/image_1/instrument_1/detector_1 (Group) ''\n",
      "/entry_1/image_1/instrument_1/detector_1/distance (Array()) ''\n",
      "/entry_1/image_1/instrument_1/detector_1/x_pixel_size (Array()) ''\n",
      "/entry_1/image_1/instrument_1/detector_1/y_pixel_size (Array()) ''\n",
      "/entry_1/image_1/instrument_1/source_1 (Group) ''\n",
      "/entry_1/image_1/instrument_1/source_1/energy (Array()) ''\n",
      "\n"
     ]
    },
    {
     "data": {
      "application/vnd.jupyter.widget-view+json": {
       "model_id": "97ed3ba1fd2e40b29ecd714aeb8a6748",
       "version_major": 2,
       "version_minor": 0
      },
      "text/plain": [
       "interactive(children=(Dropdown(description='First 2 axes:', index=1, options=('xy', 'yz', 'xz'), style=Descrip…"
      ]
     },
     "metadata": {},
     "output_type": "display_data"
    }
   ],
   "source": [
    "%run -i Scripts/PlotCXI"
   ]
  },
  {
   "cell_type": "markdown",
   "metadata": {},
   "source": [
    "<font color=#163e5a>  \n",
    "    <h1>Try to extract a support determination from the 10 runs</h1>\n",
    "    <p></p>\n",
    "</font>"
   ]
  },
  {
   "cell_type": "code",
   "execution_count": 39,
   "metadata": {},
   "outputs": [
    {
     "name": "stdout",
     "output_type": "stream",
     "text": [
      "Example of used files : Pt_p2\\pynxraw\\S1398_pynx_norm_128_300_294_1_1_1-2020*cxi\n",
      "Example of folder : Pt_p2\\pynxraw\n",
      "Example of file name : S1398_pynx_norm_128_300_294_1_1_1-2020\n",
      "\n",
      "Please write your folder like in the example: Pt_p2\\pynxraw\n",
      "Please write your file name like in the example: S1398_pynx_norm_128_300_294_1_1_1-2020\n",
      "\n",
      "Used files: ['Pt_p2\\\\pynxraw\\\\S1398_pynx_norm_128_300_294_1_1_1-2020-12-04T19-25-40_Run0008_LLKf000.1159_LLK000.1328_SupportThreshold0.29541.cxi', 'Pt_p2\\\\pynxraw\\\\S1398_pynx_norm_128_300_294_1_1_1-2020-12-04T19-26-53_Run0010_LLKf000.1158_LLK000.1330_SupportThreshold0.29706.cxi', 'Pt_p2\\\\pynxraw\\\\S1398_pynx_norm_128_300_294_1_1_1-2020-12-04T19-37-13_Run0027_LLKf000.1157_LLK000.1329_SupportThreshold0.29221.cxi', 'Pt_p2\\\\pynxraw\\\\S1398_pynx_norm_128_300_294_1_1_1-2020-12-04T19-39-39_Run0031_LLKf000.1158_LLK000.1330_SupportThreshold0.28916.cxi', 'Pt_p2\\\\pynxraw\\\\S1398_pynx_norm_128_300_294_1_1_1-2020-12-04T19-41-28_Run0034_LLKf000.1158_LLK000.1332_SupportThreshold0.28754.cxi', 'Pt_p2\\\\pynxraw\\\\S1398_pynx_norm_128_300_294_1_1_1-2020-12-04T19-44-30_Run0039_LLKf000.1158_LLK000.1330_SupportThreshold0.29166.cxi', 'Pt_p2\\\\pynxraw\\\\S1398_pynx_norm_128_300_294_1_1_1-2020-12-04T19-47-34_Run0044_LLKf000.1158_LLK000.1329_SupportThreshold0.29538.cxi', 'Pt_p2\\\\pynxraw\\\\S1398_pynx_norm_128_300_294_1_1_1-2020-12-04T19-59-06_Run0063_LLKf000.1155_LLK000.1329_SupportThreshold0.29807.cxi', 'Pt_p2\\\\pynxraw\\\\S1398_pynx_norm_128_300_294_1_1_1-2020-12-04T20-14-50_Run0089_LLKf000.1156_LLK000.1331_SupportThreshold0.29090.cxi', 'Pt_p2\\\\pynxraw\\\\S1398_pynx_norm_128_300_294_1_1_1-2020-12-04T20-18-28_Run0095_LLKf000.1159_LLK000.1332_SupportThreshold0.28434.cxi']\n",
      "\n",
      "Threshold value (int from 1 to 100): 30\n",
      "\n",
      "Amount of .cxi files,  between the N files that were kept, for which the threshold must be respected: 5\n",
      "\n",
      "Pt_p2\\pynxraw\\S1398_pynx_norm_128_300_294_1_1_1-2020-12-04T19-25-40_Run0008_LLKf000.1159_LLK000.1328_SupportThreshold0.29541.cxi\n",
      "All elements in mask array are equal to 1 : False\n",
      "Shape of support array (128, 300, 294)\n",
      "Shape of real space complex electronic density array (128, 300, 294)\n",
      "Maximum value in amplitude array: 17.2003116607666\n",
      "Indices where result == 1:\n",
      " (array([ 57,  57,  57, ..., 113, 113, 113], dtype=int64), array([162, 162, 162, ..., 189, 189, 189], dtype=int64), array([148, 149, 150, ..., 130, 131, 132], dtype=int64))\n",
      "Percentage of 3D array occupied by support:\n",
      "0.00750605216674575\n",
      "\n",
      "Pt_p2\\pynxraw\\S1398_pynx_norm_128_300_294_1_1_1-2020-12-04T19-26-53_Run0010_LLKf000.1158_LLK000.1330_SupportThreshold0.29706.cxi\n",
      "All elements in mask array are equal to 1 : False\n",
      "Shape of support array (128, 300, 294)\n",
      "Shape of real space complex electronic density array (128, 300, 294)\n",
      "Maximum value in amplitude array: 19.13443946838379\n",
      "Indices where result == 1:\n",
      " (array([40, 40, 41, ..., 97, 97, 97], dtype=int64), array([126, 126, 121, ..., 146, 146, 146], dtype=int64), array([150, 151, 148, ..., 130, 131, 132], dtype=int64))\n",
      "Percentage of 3D array occupied by support:\n",
      "0.00726972944615154\n",
      "\n",
      "Pt_p2\\pynxraw\\S1398_pynx_norm_128_300_294_1_1_1-2020-12-04T19-37-13_Run0027_LLKf000.1157_LLK000.1329_SupportThreshold0.29221.cxi\n",
      "All elements in mask array are equal to 1 : False\n",
      "Shape of support array (128, 300, 294)\n",
      "Shape of real space complex electronic density array (128, 300, 294)\n",
      "Maximum value in amplitude array: 17.914710998535156\n",
      "Indices where result == 1:\n",
      " (array([39, 39, 39, ..., 95, 95, 95], dtype=int64), array([142, 142, 142, ..., 169, 169, 169], dtype=int64), array([142, 143, 144, ..., 124, 125, 126], dtype=int64))\n",
      "Percentage of 3D array occupied by support:\n",
      "0.007405810465719951\n",
      "\n",
      "Pt_p2\\pynxraw\\S1398_pynx_norm_128_300_294_1_1_1-2020-12-04T19-39-39_Run0031_LLKf000.1158_LLK000.1330_SupportThreshold0.28916.cxi\n",
      "All elements in mask array are equal to 1 : False\n",
      "Shape of support array (128, 300, 294)\n",
      "Shape of real space complex electronic density array (128, 300, 294)\n",
      "Maximum value in amplitude array: 17.676389694213867\n",
      "Indices where result == 1:\n",
      " (array([37, 37, 37, ..., 93, 93, 93], dtype=int64), array([148, 148, 148, ..., 175, 175, 175], dtype=int64), array([145, 146, 147, ..., 126, 127, 128], dtype=int64))\n",
      "Percentage of 3D array occupied by support:\n",
      "0.007513874555526958\n",
      "\n",
      "Pt_p2\\pynxraw\\S1398_pynx_norm_128_300_294_1_1_1-2020-12-04T19-41-28_Run0034_LLKf000.1158_LLK000.1332_SupportThreshold0.28754.cxi\n",
      "All elements in mask array are equal to 1 : False\n",
      "Shape of support array (128, 300, 294)\n",
      "Shape of real space complex electronic density array (128, 300, 294)\n",
      "Maximum value in amplitude array: 17.436721801757812\n",
      "Indices where result == 1:\n",
      " (array([31, 32, 32, ..., 88, 88, 88], dtype=int64), array([132, 129, 129, ..., 154, 155, 155], dtype=int64), array([155, 151, 152, ..., 136, 133, 135], dtype=int64))\n",
      "Percentage of 3D array occupied by support:\n",
      "0.0074949032248564675\n",
      "\n",
      "Pt_p2\\pynxraw\\S1398_pynx_norm_128_300_294_1_1_1-2020-12-04T19-44-30_Run0039_LLKf000.1158_LLK000.1330_SupportThreshold0.29166.cxi\n",
      "All elements in mask array are equal to 1 : False\n",
      "Shape of support array (128, 300, 294)\n",
      "Shape of real space complex electronic density array (128, 300, 294)\n",
      "Maximum value in amplitude array: 20.267004013061523\n",
      "Indices where result == 1:\n",
      " (array([28, 28, 28, ..., 84, 84, 84], dtype=int64), array([151, 151, 151, ..., 176, 176, 176], dtype=int64), array([161, 162, 164, ..., 143, 144, 145], dtype=int64))\n",
      "Percentage of 3D array occupied by support:\n",
      "0.007019684319809029\n",
      "\n",
      "Pt_p2\\pynxraw\\S1398_pynx_norm_128_300_294_1_1_1-2020-12-04T19-47-34_Run0044_LLKf000.1158_LLK000.1329_SupportThreshold0.29538.cxi\n",
      "All elements in mask array are equal to 1 : False\n",
      "Shape of support array (128, 300, 294)\n",
      "Shape of real space complex electronic density array (128, 300, 294)\n",
      "Maximum value in amplitude array: 15.862114906311035\n",
      "Indices where result == 1:\n",
      " (array([21, 21, 21, ..., 78, 78, 78], dtype=int64), array([112, 112, 112, ..., 129, 129, 129], dtype=int64), array([148, 149, 150, ..., 129, 130, 131], dtype=int64))\n",
      "Percentage of 3D array occupied by support:\n",
      "0.007726744096266039\n",
      "\n",
      "Pt_p2\\pynxraw\\S1398_pynx_norm_128_300_294_1_1_1-2020-12-04T19-59-06_Run0063_LLKf000.1155_LLK000.1329_SupportThreshold0.29807.cxi\n",
      "All elements in mask array are equal to 1 : False\n",
      "Shape of support array (128, 300, 294)\n",
      "Shape of real space complex electronic density array (128, 300, 294)\n",
      "Maximum value in amplitude array: 16.12104606628418\n",
      "Indices where result == 1:\n",
      " (array([30, 30, 30, ..., 86, 86, 86], dtype=int64), array([115, 115, 115, ..., 142, 142, 142], dtype=int64), array([150, 151, 152, ..., 132, 133, 134], dtype=int64))\n",
      "Percentage of 3D array occupied by support:\n",
      "0.007612519007199642\n",
      "\n",
      "Pt_p2\\pynxraw\\S1398_pynx_norm_128_300_294_1_1_1-2020-12-04T20-14-50_Run0089_LLKf000.1156_LLK000.1331_SupportThreshold0.29090.cxi\n",
      "All elements in mask array are equal to 1 : False\n",
      "Shape of support array (128, 300, 294)\n",
      "Shape of real space complex electronic density array (128, 300, 294)\n",
      "Maximum value in amplitude array: 16.351085662841797\n",
      "Indices where result == 1:\n",
      " (array([35, 35, 35, ..., 91, 91, 91], dtype=int64), array([149, 149, 150, ..., 176, 176, 176], dtype=int64), array([163, 164, 161, ..., 143, 144, 145], dtype=int64))\n",
      "Percentage of 3D array occupied by support:\n",
      "0.007642197051993234\n",
      "\n",
      "Pt_p2\\pynxraw\\S1398_pynx_norm_128_300_294_1_1_1-2020-12-04T20-18-28_Run0095_LLKf000.1159_LLK000.1332_SupportThreshold0.28434.cxi\n",
      "All elements in mask array are equal to 1 : False\n",
      "Shape of support array (128, 300, 294)\n",
      "Shape of real space complex electronic density array (128, 300, 294)\n",
      "Maximum value in amplitude array: 17.062744140625\n",
      "Indices where result == 1:\n",
      " (array([ 44,  44,  44, ..., 101, 101, 101], dtype=int64), array([151, 151, 151, ..., 174, 174, 175], dtype=int64), array([160, 161, 162, ..., 138, 139, 137], dtype=int64))\n",
      "Percentage of 3D array occupied by support:\n",
      "0.007551999200355556\n",
      "\n",
      "\n",
      "\n",
      "Mask saved in Pt_p2\\pynxraw as Mask_Threshold_0.3.npz\n",
      "Indices where result == 1:\n",
      " (array([38, 38, 38, ..., 90, 90, 90], dtype=int64), array([146, 147, 151, ..., 158, 159, 159], dtype=int64), array([147, 148, 153, ..., 134, 134, 135], dtype=int64))\n",
      "Percentage of 3D array occupied by support:\n",
      "0.006190025852602466\n"
     ]
    }
   ],
   "source": [
    "%run -i Scripts/MakeMask"
   ]
  },
  {
   "cell_type": "markdown",
   "metadata": {},
   "source": [
    "<font color=#163e5a>\n",
    "    \n",
    "* Take an 'average', so at least half of the 10 good phase retrieval must have the point over the threshold to be in the support\n",
    "    \n",
    "* Need to smooth by convoluting with a gaussian, the edges look rough\n",
    "</font>"
   ]
  },
  {
   "cell_type": "markdown",
   "metadata": {},
   "source": [
    "<font color=#163e5a>\n",
    "\n",
    "**Check the .npz files again, a mask should be here**\n",
    "    \n",
    "* We can compare different threshold for the mask\n",
    "    \n",
    "</font>"
   ]
  },
  {
   "cell_type": "code",
   "execution_count": 40,
   "metadata": {},
   "outputs": [
    {
     "name": "stdout",
     "output_type": "stream",
     "text": [
      "Pt_p2/pynxraw/Mask_10_100_0_1.npz\n",
      "Pt_p2/pynxraw/Mask_Threshold_0.15.npz\n",
      "Pt_p2/pynxraw/Mask_Threshold_0.2.npz\n",
      "Pt_p2/pynxraw/Mask_Threshold_0.25.npz\n",
      "Pt_p2/pynxraw/Mask_Threshold_0.3.npz\n",
      "Pt_p2/pynxraw/S1398_ampdispstrain_gap_iso0.2_mode_avg3_apodize_blackman_lab-frame.npz\n",
      "Pt_p2/pynxraw/S1398_avg_obj_prtf_gap_iso0.2_mode_avg3_apodize_blackman.npz\n",
      "Pt_p2/pynxraw/S1398_maskpynx_norm_128_300_294_1_1_1.npz\n",
      "Pt_p2/pynxraw/S1398_pynx_norm_128_300_294_1_1_1.npz\n"
     ]
    }
   ],
   "source": [
    "%%bash\n",
    "ls Pt_p2/pynxraw/*.npz"
   ]
  },
  {
   "cell_type": "code",
   "execution_count": 41,
   "metadata": {},
   "outputs": [
    {
     "name": "stdout",
     "output_type": "stream",
     "text": [
      "Path to file from current folder: Pt_p2/pynxraw/Mask_Threshold_0.3.npz\n",
      "Stored arrays :['mask']\n"
     ]
    },
    {
     "data": {
      "application/vnd.jupyter.widget-view+json": {
       "model_id": "2c8feaf1eaae4ff7afe4149a0e49b5c9",
       "version_major": 2,
       "version_minor": 0
      },
      "text/plain": [
       "interactive(children=(Dropdown(description='Array used:', options=('mask',), style=DescriptionStyle(descriptio…"
      ]
     },
     "metadata": {},
     "output_type": "display_data"
    }
   ],
   "source": [
    "%run -i Scripts/PlotNPZ"
   ]
  },
  {
   "cell_type": "code",
   "execution_count": 21,
   "metadata": {},
   "outputs": [
    {
     "name": "stdout",
     "output_type": "stream",
     "text": [
      "Path to file from current folder: Pt_p2/pynxraw/Mask_Threshold_0.2.npz\n",
      "Stored arrays :['mask']\n"
     ]
    },
    {
     "data": {
      "application/vnd.jupyter.widget-view+json": {
       "model_id": "a5b7de93763b4e7c943f7885435ca750",
       "version_major": 2,
       "version_minor": 0
      },
      "text/plain": [
       "interactive(children=(Dropdown(description='Array used:', options=('mask',), style=DescriptionStyle(descriptio…"
      ]
     },
     "metadata": {},
     "output_type": "display_data"
    }
   ],
   "source": [
    "%run -i Scripts/PlotNPZ"
   ]
  },
  {
   "cell_type": "code",
   "execution_count": 19,
   "metadata": {},
   "outputs": [
    {
     "name": "stdout",
     "output_type": "stream",
     "text": [
      "Path to file from current folder: Pt_p2/pynxraw/Mask_10_100_0_1.npz\n",
      "Stored arrays :['mask']\n"
     ]
    },
    {
     "data": {
      "application/vnd.jupyter.widget-view+json": {
       "model_id": "ee3997bdb47a4808864c2f2bee5a461f",
       "version_major": 2,
       "version_minor": 0
      },
      "text/plain": [
       "interactive(children=(Dropdown(description='Array used:', options=('mask',), style=DescriptionStyle(descriptio…"
      ]
     },
     "metadata": {},
     "output_type": "display_data"
    }
   ],
   "source": [
    "%run -i Scripts/PlotNPZ"
   ]
  },
  {
   "cell_type": "markdown",
   "metadata": {},
   "source": [
    "<font color=#163e5a>  \n",
    "    <h1>Create modes</h1>\n",
    "    <p>Only on lid01 because pynx package</p>\n",
    "</font>"
   ]
  },
  {
   "cell_type": "markdown",
   "metadata": {},
   "source": [
    "`python pynx-cdi-analysis.py S1398_pynx_norm_128_300_294_1_1_1-* modes=1`"
   ]
  },
  {
   "cell_type": "markdown",
   "metadata": {},
   "source": [
    "<font color=#163e5a>  \n",
    "    <h1>Launch strain analysis</h1>\n",
    "    <p>Only on lid01 because local bcdi package has problems, the window opens, I can click on a file but then nothing happens (for Jupyter) and it is blocked. In the command, it crashed after the 3rd figure but here I do not see the figure opening.</p>\n",
    "</font>"
   ]
  },
  {
   "cell_type": "markdown",
   "metadata": {},
   "source": [
    "`python D:/Documents/PythonScripts/PhDScripts/Pt_p2/pynxraw/strain.py`"
   ]
  },
  {
   "cell_type": "markdown",
   "metadata": {},
   "source": [
    "<font color=#163e5a>  \n",
    "    <h1>Check final data</h1>\n",
    "\n",
    "* `S1398_ampdispstrain_gap_iso0.2_mode_avg3_apodize_blackman_lab-frame.npz` is the reconstructed data in real space with detail on bulk (support), strain\n",
    "* `S1398_avg_obj_prtf_gap_iso0.2_mode_avg3_apodize_blackman.npz` is the electronic density of the object\n",
    "</font>"
   ]
  },
  {
   "cell_type": "code",
   "execution_count": 4,
   "metadata": {},
   "outputs": [
    {
     "name": "stdout",
     "output_type": "stream",
     "text": [
      "Pt_p2/pynxraw/Mask_10_100_0_1.npz\n",
      "Pt_p2/pynxraw/Mask_Threshold_0.15.npz\n",
      "Pt_p2/pynxraw/Mask_Threshold_0.2.npz\n",
      "Pt_p2/pynxraw/Mask_Threshold_0.25.npz\n",
      "Pt_p2/pynxraw/Mask_Threshold_0.3.npz\n",
      "Pt_p2/pynxraw/S1398_ampdispstrain_gap_iso0.2_mode_avg3_apodize_blackman_lab-frame.npz\n",
      "Pt_p2/pynxraw/S1398_avg_obj_prtf_gap_iso0.2_mode_avg3_apodize_blackman.npz\n",
      "Pt_p2/pynxraw/S1398_maskpynx_norm_128_300_294_1_1_1.npz\n",
      "Pt_p2/pynxraw/S1398_pynx_norm_128_300_294_1_1_1.npz\n"
     ]
    }
   ],
   "source": [
    "%%bash\n",
    "ls Pt_p2/pynxraw/*.npz"
   ]
  },
  {
   "cell_type": "code",
   "execution_count": 43,
   "metadata": {},
   "outputs": [
    {
     "name": "stdout",
     "output_type": "stream",
     "text": [
      "Path to file from current folder: Pt_p2/pynxraw/S1398_ampdispstrain_gap_iso0.2_mode_avg3_apodize_blackman_lab-frame.npz\n",
      "Stored arrays :['amp', 'displacement', 'bulk', 'strain']\n"
     ]
    },
    {
     "data": {
      "application/vnd.jupyter.widget-view+json": {
       "model_id": "e268b497e2434c8f8d0de424ec410f20",
       "version_major": 2,
       "version_minor": 0
      },
      "text/plain": [
       "interactive(children=(Dropdown(description='Array used:', options=('amp', 'displacement', 'bulk', 'strain'), s…"
      ]
     },
     "metadata": {},
     "output_type": "display_data"
    }
   ],
   "source": [
    "%run -i Scripts/PlotNPZ"
   ]
  },
  {
   "cell_type": "code",
   "execution_count": null,
   "metadata": {},
   "outputs": [],
   "source": []
  }
 ],
 "metadata": {
  "kernelspec": {
   "display_name": "Python 3",
   "language": "python",
   "name": "python3"
  },
  "language_info": {
   "codemirror_mode": {
    "name": "ipython",
    "version": 3
   },
   "file_extension": ".py",
   "mimetype": "text/x-python",
   "name": "python",
   "nbconvert_exporter": "python",
   "pygments_lexer": "ipython3",
   "version": "3.8.5"
  }
 },
 "nbformat": 4,
 "nbformat_minor": 4
}
