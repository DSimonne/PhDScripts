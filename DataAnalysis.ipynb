{
 "cells": [
  {
   "cell_type": "markdown",
   "metadata": {},
   "source": [
    "<font color=#163e5a>  \n",
    "    <h1>Find the .npz files</h1>\n",
    "    <a href = \"https://www.pytables.org/cookbook/inmemory_hdf5_files.html\" target = \"_blank\">Documentation</a>\n",
    "</font>"
   ]
  },
  {
   "cell_type": "code",
   "execution_count": 1,
   "metadata": {},
   "outputs": [
    {
     "name": "stdout",
     "output_type": "stream",
     "text": [
      "OldResults\n",
      "S1398_ampdispstrain_gap_iso0.2_mode_avg3_apodize_blackman_lab-frame.npz\n",
      "S1398_avg_obj_prtf_gap_iso0.2_mode_avg3_apodize_blackman.npz\n",
      "S1398_maskpynx_norm_128_300_294_1_1_1.npz\n",
      "S1398_pynx_norm_128_300_294_1_1_1-2020-12-03T10-44-11_Run0019_LLKf000.1524_LLK4828897416.5916_SupportThreshold0.14254.cxi\n",
      "S1398_pynx_norm_128_300_294_1_1_1-2020-12-03T10-44-45_Run0020_LLKf000.1371_LLK5106613636.0168_SupportThreshold0.10094.cxi\n",
      "S1398_pynx_norm_128_300_294_1_1_1-2020-12-03T10-45-51_Run0022_LLKf000.1473_LLK4969885945.3201_SupportThreshold0.14390.cxi\n",
      "S1398_pynx_norm_128_300_294_1_1_1-2020-12-03T10-54-34_Run0037_LLKf000.1530_LLK4964432716.3696_SupportThreshold0.10306.cxi\n",
      "S1398_pynx_norm_128_300_294_1_1_1-2020-12-03T10-56-16_Run0040_LLKf000.1437_LLK4936279356.4796_SupportThreshold0.13960.cxi\n",
      "S1398_pynx_norm_128_300_294_1_1_1-2020-12-03T10-59-36_Run0046_LLKf000.1456_LLK4796542525.2914_SupportThreshold0.14391.cxi\n",
      "S1398_pynx_norm_128_300_294_1_1_1-2020-12-03T11-01-14_Run0049_LLKf000.1443_LLK5064797401.4282_SupportThreshold0.14046.cxi\n",
      "S1398_pynx_norm_128_300_294_1_1_1-2020-12-03T11-05-30_Run0057_LLKf000.1454_LLK5000520944.5953_SupportThreshold0.10299.cxi\n",
      "S1398_pynx_norm_128_300_294_1_1_1-2020-12-03T11-08-14_Run0062_LLKf000.1495_LLK5079728960.9909_SupportThreshold0.14758.cxi\n",
      "S1398_pynx_norm_128_300_294_1_1_1-2020-12-03T11-13-50_Run0073_LLKf000.1539_LLK4811616539.9551_SupportThreshold0.10281.cxi\n",
      "S1398_pynx_norm_128_300_294_1_1_1.cxi\n",
      "S1398_pynx_norm_128_300_294_1_1_1.npz\n",
      "finalmask_S1398_norm_128_300_294_1_1_1.png\n",
      "finalsum_S1398_norm_128_300_294_1_1_1.png\n",
      "modes.h5\n",
      "pynx-cdi-analysis.py\n",
      "pynx-cdi-input_try0.txt\n",
      "pynx-id01cdi.py\n",
      "strain.py\n"
     ]
    }
   ],
   "source": [
    "%%bash\n",
    "cd Pt_p2/pynxraw\n",
    "ls"
   ]
  },
  {
   "cell_type": "code",
   "execution_count": null,
   "metadata": {},
   "outputs": [],
   "source": [
    "Pt_p2/pynxraw/S1398_ampdispstrain_gap_iso0.2_mode_avg3_apodize_blackman_lab-frame.npz"
   ]
  },
  {
   "cell_type": "code",
   "execution_count": 3,
   "metadata": {},
   "outputs": [
    {
     "name": "stdout",
     "output_type": "stream",
     "text": [
      "Path to file from current folder: Pt_p2/pynxraw/S1398_ampdispstrain_gap_iso0.2_mode_avg3_apodize_blackman_lab-frame.npz\n",
      "Stored arrays :['amp', 'bulk', 'displacement', 'strain']\n"
     ]
    },
    {
     "data": {
      "application/vnd.jupyter.widget-view+json": {
       "model_id": "3bb7a2a4648d4d6594a64c05f6443c68",
       "version_major": 2,
       "version_minor": 0
      },
      "text/plain": [
       "interactive(children=(Dropdown(description='Array used:', options=('amp', 'bulk', 'displacement', 'strain'), s…"
      ]
     },
     "metadata": {},
     "output_type": "display_data"
    }
   ],
   "source": [
    "%run -i Scripts/PlotNPZ"
   ]
  },
  {
   "cell_type": "code",
   "execution_count": 3,
   "metadata": {},
   "outputs": [
    {
     "name": "stdout",
     "output_type": "stream",
     "text": [
      "/entry_1/instrument_1/detector_1/data (CArray(128, 300, 294), shuffle, zlib(4)) ''\n"
     ]
    }
   ],
   "source": [
    "with tb.open_file(\"Pt_p2/pynxraw/S1398_pynx_norm_128_300_294_1_1_1.cxi\", \"r\") as f:\n",
    "    data = f.root.entry_1.instrument_1.detector_1.data\n",
    "    print(data)"
   ]
  }
 ],
 "metadata": {
  "kernelspec": {
   "display_name": "Python 3",
   "language": "python",
   "name": "python3"
  },
  "language_info": {
   "codemirror_mode": {
    "name": "ipython",
    "version": 3
   },
   "file_extension": ".py",
   "mimetype": "text/x-python",
   "name": "python",
   "nbconvert_exporter": "python",
   "pygments_lexer": "ipython3",
   "version": "3.8.5"
  }
 },
 "nbformat": 4,
 "nbformat_minor": 4
}
