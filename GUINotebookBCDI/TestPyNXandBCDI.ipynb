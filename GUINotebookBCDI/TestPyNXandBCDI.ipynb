{
 "cells": [
  {
   "cell_type": "markdown",
   "metadata": {},
   "source": [
    "### Description of input variables"
   ]
  },
  {
   "cell_type": "markdown",
   "metadata": {},
   "source": [
    "Prepare experimental data for Bragg CDI phasing: crop/pad, center, mask, normalize and filter the data.\n",
    "\n",
    "Beamlines currently supported: ESRF ID01, SOLEIL CRISTAL, SOLEIL SIXS, PETRAIII P10 and APS 34ID-C.\n",
    "\n",
    "Output: data and mask as numpy .npz or Matlab .mat 3D arrays for phasing\n",
    "\n",
    "File structure should be (e.g. scan 1):\n",
    "specfile, hotpixels file and flatfield file in:    /rootdir/\n",
    "data in:                                           /rootdir/S1/data/\n",
    "\n",
    "output files saved in:   /rootdir/S1/pynxraw/ or /rootdir/S1/pynx/ depending on 'use_rawdata' option"
   ]
  },
  {
   "cell_type": "markdown",
   "metadata": {},
   "source": [
    "## BCDI doc\n",
    "\n",
    " -> 2 1 1 bin les données, 2 pixels font donc un, pour réduire la mémoire\n",
    " \n",
    " center_fft = 'crop_sym_ZYX' pour recentrer\n",
    " flag_medianfilter = 'skip' MI puts median\n",
    " \n",
    " mpx4 : maxipix 4 cadrans\n",
    " \n",
    " VTI saving FOR PARAVIEW\n",
    " \n",
    " rocking angle inplace for SIXS\n",
    " \n",
    " no specfile\n",
    " detector maxipix\n",
    " \n",
    " keep photon threshold = 0\n",
    " \n",
    " flatfield car les pixels absorbent différemment\n",
    " \n",
    " u for next frame\n",
    " \n",
    " ATTENTION a root folder dans le code\n",
    " \n",
    " OUTPUT BCDI TWO NPZ DATA FILES"
   ]
  },
  {
   "cell_type": "markdown",
   "metadata": {},
   "source": [
    "## Files detail\n",
    "`hotpixels.py` and `maskMaker.py` are two python files that can be loaded by bcdi to apply a mask to the data.\n",
    "\n",
    "The `.nxs` are the Nexus files that can be read via silx"
   ]
  },
  {
   "cell_type": "code",
   "execution_count": 1,
   "metadata": {},
   "outputs": [],
   "source": [
    "import preprocess_bcdi_GUI\n",
    "from importlib import reload"
   ]
  },
  {
   "cell_type": "code",
   "execution_count": 2,
   "metadata": {},
   "outputs": [
    {
     "data": {
      "application/vnd.jupyter.widget-view+json": {
       "model_id": "932b2bb541f34fb5bac4a27ca62a98d8",
       "version_major": 2,
       "version_minor": 0
      },
      "text/plain": [
       "Tab(children=(VBox(children=(HBox(children=(BoundedIntText(value=1305, description='Scan nb:', layout=Layout(w…"
      ]
     },
     "metadata": {},
     "output_type": "display_data"
    }
   ],
   "source": [
    "reload(preprocess_bcdi_GUI)\n",
    "preprocess_bcdi_GUI.Window"
   ]
  },
  {
   "cell_type": "code",
   "execution_count": null,
   "metadata": {},
   "outputs": [],
   "source": []
  }
 ],
 "metadata": {
  "kernelspec": {
   "display_name": "Python 3",
   "language": "python",
   "name": "python3"
  },
  "language_info": {
   "codemirror_mode": {
    "name": "ipython",
    "version": 3
   },
   "file_extension": ".py",
   "mimetype": "text/x-python",
   "name": "python",
   "nbconvert_exporter": "python",
   "pygments_lexer": "ipython3",
   "version": "3.7.9"
  }
 },
 "nbformat": 4,
 "nbformat_minor": 4
}
