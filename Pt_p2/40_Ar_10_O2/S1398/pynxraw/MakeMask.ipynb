{
 "cells": [
  {
   "cell_type": "markdown",
   "metadata": {},
   "source": [
    "<font color=#163e5a>\n",
    "    <h1>Execute notebook with p9.widgets kernel</h1>\n",
    "</font>"
   ]
  },
  {
   "cell_type": "markdown",
   "metadata": {},
   "source": [
    "<font color=#163e5a>\n",
    "    <h1>Preprocess output</h1>\n",
    "\n",
    "\n",
    "**Two .npz files**\n",
    "* <a href = \"https://numpy.org/doc/stable/reference/generated/numpy.savez.html\" target = \"_blank\">Documentation</a>\n",
    "* the mask: S1398_maskpynx_norm_128_300_294_1_1_1.npz\n",
    "* the (normalised?) detector data: S1398_pynx_norm_128_300_294_1_1_1.npz\n",
    "    \n",
    "<h2>Find the .npz files</h2>\n",
    "</font>"
   ]
  },
  {
   "cell_type": "code",
   "execution_count": 1,
   "metadata": {},
   "outputs": [
    {
     "name": "stdout",
     "output_type": "stream",
     "text": [
      "direct_mask.npz\n",
      "Mask_10_100_0_1.npz\n",
      "S1398_maskpynx_norm_128_300_294_1_1_1.npz\n",
      "S1398_pynx_norm_128_300_294_1_1_1.npz\n"
     ]
    }
   ],
   "source": [
    "%%bash\n",
    "ls *.npz"
   ]
  },
  {
   "cell_type": "code",
   "execution_count": 13,
   "metadata": {},
   "outputs": [
    {
     "name": "stdout",
     "output_type": "stream",
     "text": [
      "BCDI\n",
      "create_mask.py\n",
      "gaussian_filter_mask.py\n",
      "plot_cxi.py\n",
      "plot_npz.py\n",
      "PyNX\n",
      "README.md\n",
      "S1398_ampdispstrain_gap_iso0.2_mode_avg3_apodize_blackman_lab-frame.npz\n",
      "S1398_amp-disp-strain_gap_iso0.2_mode_avg3_apodize_blackman_lab-frame.vti\n",
      "S1398_avg_obj_prtf_gap_iso0.2_mode_avg3_apodize_blackman.npz\n"
     ]
    }
   ],
   "source": [
    "%%bash\n",
    "ls /data/id01/inhouse/david/Scripts/"
   ]
  },
  {
   "cell_type": "code",
   "execution_count": 3,
   "metadata": {},
   "outputs": [
    {
     "name": "stdin",
     "output_type": "stream",
     "text": [
      "Path to file from current folder:  S1399_pynx_norm_128_300_294_1_1_1.npz\n"
     ]
    },
    {
     "name": "stdout",
     "output_type": "stream",
     "text": [
      "Stored arrays :['data']\n"
     ]
    },
    {
     "data": {
      "application/vnd.jupyter.widget-view+json": {
       "model_id": "bd8dced774b44979b97c952ef43938a7",
       "version_major": 2,
       "version_minor": 0
      },
      "text/plain": [
       "interactive(children=(Dropdown(description='Array used:', options=('data',), style=DescriptionStyle(descriptio…"
      ]
     },
     "metadata": {},
     "output_type": "display_data"
    }
   ],
   "source": [
    "%run -i /data/id01/inhouse/david/Scripts/plot_npz"
   ]
  },
  {
   "cell_type": "markdown",
   "metadata": {},
   "source": [
    "<font color=#163e5a>  \n",
    "    <h1>Run PyNX</h1>\n",
    "* On slurm (`source /data/id01/inhouse/richard/pynx-gap.p9/bin/activate`)\n",
    "* On lid01 (`source /sware/exp/pynx/devel.debian9/bin/activate`)\n",
    "    \n",
    "`python pynx-id01cdi.py pynx-cdi-input_100.txt` \n",
    "</font>"
   ]
  },
  {
   "cell_type": "markdown",
   "metadata": {},
   "source": [
    "<font color=#163e5a>  \n",
    "    <h1>Find the .cxi files</h1>\n",
    "    <a href = \"https://raw.githubusercontent.com/cxidb/CXI/master/cxi_file_format.pdf\" target = \"_blank\">Documentation</a>\n",
    "</font>"
   ]
  },
  {
   "cell_type": "code",
   "execution_count": 16,
   "metadata": {},
   "outputs": [
    {
     "name": "stdout",
     "output_type": "stream",
     "text": [
      "before_mask/S1398_pynx_norm_128_300_294_1_1_1-2021-01-11T23-34-08_Run0008_LLKf000.1203_LLK000.1331_SupportThreshold0.29902.cxi\n",
      "before_mask/S1398_pynx_norm_128_300_294_1_1_1-2021-01-11T23-35-30_Run0010_LLKf000.1202_LLK000.1333_SupportThreshold0.29495.cxi\n",
      "before_mask/S1398_pynx_norm_128_300_294_1_1_1-2021-01-11T23-37-31_Run0013_LLKf000.1203_LLK000.1332_SupportThreshold0.29415.cxi\n",
      "before_mask/S1398_pynx_norm_128_300_294_1_1_1-2021-01-11T23-44-23_Run0023_LLKf000.1206_LLK000.1333_SupportThreshold0.29070.cxi\n",
      "before_mask/S1398_pynx_norm_128_300_294_1_1_1-2021-01-11T23-47-49_Run0028_LLKf000.1205_LLK000.1332_SupportThreshold0.29519.cxi\n",
      "before_mask/S1398_pynx_norm_128_300_294_1_1_1-2021-01-12T00-09-29_Run0060_LLKf000.1203_LLK000.1330_SupportThreshold0.29976.cxi\n",
      "before_mask/S1398_pynx_norm_128_300_294_1_1_1-2021-01-12T00-10-52_Run0062_LLKf000.1208_LLK000.1333_SupportThreshold0.29019.cxi\n",
      "before_mask/S1398_pynx_norm_128_300_294_1_1_1-2021-01-12T00-14-58_Run0068_LLKf000.1205_LLK000.1333_SupportThreshold0.29837.cxi\n",
      "before_mask/S1398_pynx_norm_128_300_294_1_1_1-2021-01-12T00-34-31_Run0097_LLKf000.1204_LLK000.1333_SupportThreshold0.29290.cxi\n",
      "before_mask/S1398_pynx_norm_128_300_294_1_1_1-2021-01-12T00-35-12_Run0098_LLKf000.1200_LLK000.1331_SupportThreshold0.29585.cxi\n"
     ]
    }
   ],
   "source": [
    "%%bash\n",
    "ls before_mask/*.cxi"
   ]
  },
  {
   "cell_type": "markdown",
   "metadata": {},
   "source": [
    "* The last .cxi file contains only the detector and the mask data, output of PyNX\n",
    "\n",
    "* All the other .cxi files are in real space and show the **complex** electronic density, they each are the output of the phase retrieval process. The image size in real space is also given.\n",
    "* The support is linked to the mask, seems that it must be a binary array (0 masks, 1 does not mask)\n",
    "* Free pixel mask is not the original .npz file ? Boolean array maybe fixes which pixels cannot be assigned to the recalculated intensity, final one ?\n",
    "* entry_last is just a link to entry_1, idk why, doubles data size ? not sure since just link"
   ]
  },
  {
   "cell_type": "markdown",
   "metadata": {},
   "source": [
    "<font color=#163e5a>  \n",
    "    <h1>Check one of the 10 good datasets</h1>\n",
    "    <p></p>\n",
    "</font>"
   ]
  },
  {
   "cell_type": "code",
   "execution_count": 17,
   "metadata": {},
   "outputs": [
    {
     "name": "stdin",
     "output_type": "stream",
     "text": [
      "Path to file from current folder:  before_mask/S1398_pynx_norm_128_300_294_1_1_1-2021-01-11T23-34-08_Run0008_LLKf000.1203_LLK000.1331_SupportThreshold0.29902.cxi\n"
     ]
    },
    {
     "name": "stdout",
     "output_type": "stream",
     "text": [
      "Data file architecture :\n",
      "\n",
      "before_mask/S1398_pynx_norm_128_300_294_1_1_1-2021-01-11T23-34-08_Run0008_LLKf000.1203_LLK000.1331_SupportThreshold0.29902.cxi (File) ''\n",
      "Last modif.: 'Mon Jan 11 23:34:49 2021'\n",
      "Object Tree: \n",
      "/ (RootGroup) ''\n",
      "/cxi_version (Array()) ''\n",
      "/entry_last (SoftLink) -> /entry_1\n",
      "/entry_1 (Group) ''\n",
      "/entry_1/program_name (UnImplemented()) ''\n",
      "/entry_1/start_time (UnImplemented()) ''\n",
      "/entry_1/data_1 (Group) ''\n",
      "/entry_1/data_1/data (SoftLink) -> /entry_1/image_1/data\n",
      "/entry_1/image_1 (Group) ''\n",
      "/entry_1/image_1/data (CArray(128, 300, 294), shuffle, zlib(4)) ''\n",
      "/entry_1/image_1/data_space (UnImplemented()) ''\n",
      "/entry_1/image_1/data_type (UnImplemented()) ''\n",
      "/entry_1/image_1/image_size (Array(3,)) ''\n",
      "/entry_1/image_1/mask (CArray(128, 300, 294), shuffle, zlib(4)) ''\n",
      "/entry_1/image_1/support (SoftLink) -> /entry_1/image_1/mask\n",
      "/entry_1/image_1/instrument_1 (Group) ''\n",
      "/entry_1/image_1/instrument_1/name (UnImplemented()) ''\n",
      "/entry_1/image_1/process_1 (Group) ''\n",
      "/entry_1/image_1/process_1/command (UnImplemented()) ''\n",
      "/entry_1/image_1/process_1/program (UnImplemented()) ''\n",
      "/entry_1/image_1/process_1/version (UnImplemented()) ''\n",
      "/entry_1/image_1/process_1/configuration (Group) ''\n",
      "/entry_1/image_1/process_1/configuration/auto_center_resize (Array()) ''\n",
      "/entry_1/image_1/process_1/configuration/beta (Array()) ''\n",
      "/entry_1/image_1/process_1/configuration/confidence_interval_factor_mask_max (Array()) ''\n",
      "/entry_1/image_1/process_1/configuration/confidence_interval_factor_mask_min (Array()) ''\n",
      "/entry_1/image_1/process_1/configuration/crop_output (Array()) ''\n",
      "/entry_1/image_1/process_1/configuration/data (UnImplemented()) ''\n",
      "/entry_1/image_1/process_1/configuration/data2cxi (Array()) ''\n",
      "/entry_1/image_1/process_1/configuration/detector_distance (Array()) ''\n",
      "/entry_1/image_1/process_1/configuration/detwin (Array()) ''\n",
      "/entry_1/image_1/process_1/configuration/fig_num (Array()) ''\n",
      "/entry_1/image_1/process_1/configuration/free_pixel_mask (CArray(128, 300, 294), shuffle, zlib(4)) ''\n",
      "/entry_1/image_1/process_1/configuration/gps_inertia (Array()) ''\n",
      "/entry_1/image_1/process_1/configuration/gps_s (Array()) ''\n",
      "/entry_1/image_1/process_1/configuration/gps_sigma_f (Array()) ''\n",
      "/entry_1/image_1/process_1/configuration/gps_sigma_o (Array()) ''\n",
      "/entry_1/image_1/process_1/configuration/gps_t (Array()) ''\n",
      "/entry_1/image_1/process_1/configuration/imgcounter (UnImplemented()) ''\n",
      "/entry_1/image_1/process_1/configuration/instrument (UnImplemented()) ''\n",
      "/entry_1/image_1/process_1/configuration/iobs_shape (Array(3,)) ''\n",
      "/entry_1/image_1/process_1/configuration/iobs_shape_orig (Array(3,)) ''\n",
      "/entry_1/image_1/process_1/configuration/live_plot (Array()) ''\n",
      "/entry_1/image_1/process_1/configuration/mask (UnImplemented()) ''\n",
      "/entry_1/image_1/process_1/configuration/mask_interp (Array(2,)) ''\n",
      "/entry_1/image_1/process_1/configuration/mpi (UnImplemented()) ''\n",
      "/entry_1/image_1/process_1/configuration/nb_er (Array()) ''\n",
      "/entry_1/image_1/process_1/configuration/nb_hio (Array()) ''\n",
      "/entry_1/image_1/process_1/configuration/nb_ml (Array()) ''\n",
      "/entry_1/image_1/process_1/configuration/nb_raar (Array()) ''\n",
      "/entry_1/image_1/process_1/configuration/nb_run (Array()) ''\n",
      "/entry_1/image_1/process_1/configuration/nb_run_keep (Array()) ''\n",
      "/entry_1/image_1/process_1/configuration/output_format (UnImplemented()) ''\n",
      "/entry_1/image_1/process_1/configuration/pixel_size_detector (Array()) ''\n",
      "/entry_1/image_1/process_1/configuration/positivity (Array()) ''\n",
      "/entry_1/image_1/process_1/configuration/psf (Array()) ''\n",
      "/entry_1/image_1/process_1/configuration/rebin (Array(3,)) ''\n",
      "/entry_1/image_1/process_1/configuration/roi_final (Array(6,)) ''\n",
      "/entry_1/image_1/process_1/configuration/save (UnImplemented()) ''\n",
      "/entry_1/image_1/process_1/configuration/support (UnImplemented()) ''\n",
      "/entry_1/image_1/process_1/configuration/support_autocorrelation_threshold (Array()) ''\n",
      "/entry_1/image_1/process_1/configuration/support_only_shrink (Array()) ''\n",
      "/entry_1/image_1/process_1/configuration/support_post_expand (Array(3,)) ''\n",
      "/entry_1/image_1/process_1/configuration/support_smooth_width_begin (Array()) ''\n",
      "/entry_1/image_1/process_1/configuration/support_smooth_width_end (Array()) ''\n",
      "/entry_1/image_1/process_1/configuration/support_smooth_width_relax_n (Array()) ''\n",
      "/entry_1/image_1/process_1/configuration/support_threshold (Array()) ''\n",
      "/entry_1/image_1/process_1/configuration/support_threshold_method (UnImplemented()) ''\n",
      "/entry_1/image_1/process_1/configuration/support_update_border_n (Array()) ''\n",
      "/entry_1/image_1/process_1/configuration/support_update_period (Array()) ''\n",
      "/entry_1/image_1/process_1/configuration/verbose (Array()) ''\n",
      "/entry_1/image_1/process_1/configuration/wavelength (Array()) ''\n",
      "/entry_1/image_1/process_1/configuration/zero_mask (UnImplemented()) ''\n",
      "/entry_1/image_1/process_1/note_1 (Group) ''\n",
      "/entry_1/image_1/process_1/note_1/data (UnImplemented()) ''\n",
      "/entry_1/image_1/process_1/note_1/description (UnImplemented()) ''\n",
      "/entry_1/image_1/process_1/note_1/type (UnImplemented()) ''\n",
      "/entry_1/image_1/process_1/results (Group) ''\n",
      "/entry_1/image_1/process_1/results/cycle_history (Table(1701,)) ''\n",
      "/entry_1/image_1/process_1/results/cycle_history_algorithm (Table(1700,)) ''\n",
      "/entry_1/image_1/process_1/results/cycle_history_dt (Table(16,)) ''\n",
      "/entry_1/image_1/process_1/results/cycle_history_epoch (Table(1701,)) ''\n",
      "/entry_1/image_1/process_1/results/cycle_history_llk_euclidian (Table(17,)) ''\n",
      "/entry_1/image_1/process_1/results/cycle_history_llk_euclidian_free (Table(17,)) ''\n",
      "/entry_1/image_1/process_1/results/cycle_history_llk_gaussian (Table(17,)) ''\n",
      "/entry_1/image_1/process_1/results/cycle_history_llk_gaussian_free (Table(17,)) ''\n",
      "/entry_1/image_1/process_1/results/cycle_history_llk_poisson (Table(17,)) ''\n",
      "/entry_1/image_1/process_1/results/cycle_history_llk_poisson_free (Table(17,)) ''\n",
      "/entry_1/image_1/process_1/results/cycle_history_nb_photons_calc (Table(17,)) ''\n",
      "/entry_1/image_1/process_1/results/cycle_history_obj_average (Table(86,)) ''\n",
      "/entry_1/image_1/process_1/results/cycle_history_obj_max (Table(85,)) ''\n",
      "/entry_1/image_1/process_1/results/cycle_history_support_size (Table(85,)) ''\n",
      "/entry_1/image_1/process_1/results/cycle_history_support_update_threshold (Table(85,)) ''\n",
      "/entry_1/image_1/process_1/results/cycle_history_time (Table(1701,)) ''\n",
      "/entry_1/image_1/process_1/results/free_llk_euclidian (Array()) ''\n",
      "/entry_1/image_1/process_1/results/free_llk_gaussian (Array()) ''\n",
      "/entry_1/image_1/process_1/results/free_llk_poisson (Array()) ''\n",
      "/entry_1/image_1/process_1/results/llk_euclidian (Array()) ''\n",
      "/entry_1/image_1/process_1/results/llk_gaussian (Array()) ''\n",
      "/entry_1/image_1/process_1/results/llk_poisson (Array()) ''\n",
      "/entry_1/image_1/process_1/results/nb_point_support (Array()) ''\n",
      "/entry_1/image_1/instrument_1/beam_1 (Group) ''\n",
      "/entry_1/image_1/instrument_1/beam_1/incident_energy (Array()) ''\n",
      "/entry_1/image_1/instrument_1/beam_1/incident_wavelength (Array()) ''\n",
      "/entry_1/image_1/instrument_1/detector_1 (Group) ''\n",
      "/entry_1/image_1/instrument_1/detector_1/distance (Array()) ''\n",
      "/entry_1/image_1/instrument_1/detector_1/x_pixel_size (Array()) ''\n",
      "/entry_1/image_1/instrument_1/detector_1/y_pixel_size (Array()) ''\n",
      "/entry_1/image_1/instrument_1/source_1 (Group) ''\n",
      "/entry_1/image_1/instrument_1/source_1/energy (Array()) ''\n",
      "\n"
     ]
    },
    {
     "data": {
      "application/vnd.jupyter.widget-view+json": {
       "model_id": "6f8c9fe4f1334fc0a152ffe72d62c84c",
       "version_major": 2,
       "version_minor": 0
      },
      "text/plain": [
       "interactive(children=(Dropdown(description='First 2 axes:', index=1, options=('xy', 'yz', 'xz'), style=Descrip…"
      ]
     },
     "metadata": {},
     "output_type": "display_data"
    }
   ],
   "source": [
    "%run -i /data/id01/inhouse/david/Scripts/plot_cxi"
   ]
  },
  {
   "cell_type": "markdown",
   "metadata": {},
   "source": [
    "<font color=#163e5a>  \n",
    "    <h1>Try to extract a support determination from the 10 runs</h1>\n",
    "    <p>Becareful, if maximum is very high along one ax, then the threshold may completely overlook the values in other axes</p>\n",
    "</font>"
   ]
  },
  {
   "cell_type": "code",
   "execution_count": 31,
   "metadata": {},
   "outputs": [
    {
     "name": "stdout",
     "output_type": "stream",
     "text": [
      "/data/id01/inhouse/david/Pt_p2/40_Ar_10_O2/S1398/pynxraw_2020/before_mask\n"
     ]
    }
   ],
   "source": [
    "%%bash\n",
    "cd before_mask\n",
    "pwd"
   ]
  },
  {
   "cell_type": "code",
   "execution_count": 32,
   "metadata": {},
   "outputs": [
    {
     "name": "stdout",
     "output_type": "stream",
     "text": [
      "S1398_pynx_norm_128_300_294_1_1_1-2021-01-11T23-34-08_Run0008_LLKf000.1203_LLK000.1331_SupportThreshold0.29902.cxi\n",
      "S1398_pynx_norm_128_300_294_1_1_1-2021-01-11T23-35-30_Run0010_LLKf000.1202_LLK000.1333_SupportThreshold0.29495.cxi\n",
      "S1398_pynx_norm_128_300_294_1_1_1-2021-01-11T23-37-31_Run0013_LLKf000.1203_LLK000.1332_SupportThreshold0.29415.cxi\n",
      "S1398_pynx_norm_128_300_294_1_1_1-2021-01-11T23-44-23_Run0023_LLKf000.1206_LLK000.1333_SupportThreshold0.29070.cxi\n",
      "S1398_pynx_norm_128_300_294_1_1_1-2021-01-12T00-14-58_Run0068_LLKf000.1205_LLK000.1333_SupportThreshold0.29837.cxi\n",
      "S1398_pynx_norm_128_300_294_1_1_1-2021-01-12T00-34-31_Run0097_LLKf000.1204_LLK000.1333_SupportThreshold0.29290.cxi\n"
     ]
    }
   ],
   "source": [
    "%%bash\n",
    "cd before_mask\n",
    "ls S1398_pynx_norm_128_300_294_1_1_1-2021*.cxi"
   ]
  },
  {
   "cell_type": "code",
   "execution_count": 33,
   "metadata": {},
   "outputs": [
    {
     "name": "stdout",
     "output_type": "stream",
     "text": [
      "Example of used files : Pt_p2/pynxraw/S1398_pynx_norm_128_300_294_1_1_1-2020*cxi\n",
      "Example of folder : Pt_p2/pynxraw\n",
      "Example of file name : S1398_pynx_norm_128_300_294_1_1_1-2020\n"
     ]
    },
    {
     "name": "stdin",
     "output_type": "stream",
     "text": [
      "\n",
      "Please write your folder like in the example:  /data/id01/inhouse/david/Pt_p2/40_Ar_10_O2/S1398/pynxraw_2020/before_mask\n",
      "Please write your file name like in the example:  S1398_pynx_norm_128_300_294_1_1_1-2021\n"
     ]
    },
    {
     "name": "stdout",
     "output_type": "stream",
     "text": [
      "\n",
      "Used files: ['/data/id01/inhouse/david/Pt_p2/40_Ar_10_O2/S1398/pynxraw_2020/before_mask/S1398_pynx_norm_128_300_294_1_1_1-2021-01-11T23-34-08_Run0008_LLKf000.1203_LLK000.1331_SupportThreshold0.29902.cxi', '/data/id01/inhouse/david/Pt_p2/40_Ar_10_O2/S1398/pynxraw_2020/before_mask/S1398_pynx_norm_128_300_294_1_1_1-2021-01-11T23-35-30_Run0010_LLKf000.1202_LLK000.1333_SupportThreshold0.29495.cxi', '/data/id01/inhouse/david/Pt_p2/40_Ar_10_O2/S1398/pynxraw_2020/before_mask/S1398_pynx_norm_128_300_294_1_1_1-2021-01-11T23-37-31_Run0013_LLKf000.1203_LLK000.1332_SupportThreshold0.29415.cxi', '/data/id01/inhouse/david/Pt_p2/40_Ar_10_O2/S1398/pynxraw_2020/before_mask/S1398_pynx_norm_128_300_294_1_1_1-2021-01-11T23-44-23_Run0023_LLKf000.1206_LLK000.1333_SupportThreshold0.29070.cxi', '/data/id01/inhouse/david/Pt_p2/40_Ar_10_O2/S1398/pynxraw_2020/before_mask/S1398_pynx_norm_128_300_294_1_1_1-2021-01-12T00-14-58_Run0068_LLKf000.1205_LLK000.1333_SupportThreshold0.29837.cxi', '/data/id01/inhouse/david/Pt_p2/40_Ar_10_O2/S1398/pynxraw_2020/before_mask/S1398_pynx_norm_128_300_294_1_1_1-2021-01-12T00-34-31_Run0097_LLKf000.1204_LLK000.1333_SupportThreshold0.29290.cxi']\n"
     ]
    },
    {
     "name": "stdin",
     "output_type": "stream",
     "text": [
      "\n",
      "Threshold value (int from 1 to 100):  10\n",
      "\n",
      "Amount of .cxi files,  between the N files that were kept, for which the threshold must be respected:  5\n"
     ]
    },
    {
     "name": "stdout",
     "output_type": "stream",
     "text": [
      "\n",
      "/data/id01/inhouse/david/Pt_p2/40_Ar_10_O2/S1398/pynxraw_2020/before_mask/S1398_pynx_norm_128_300_294_1_1_1-2021-01-11T23-34-08_Run0008_LLKf000.1203_LLK000.1331_SupportThreshold0.29902.cxi\n",
      "All elements in mask array are equal to 1 : False\n",
      "Shape of support array (128, 300, 294)\n",
      "Shape of real space complex electronic density array (128, 300, 294)\n",
      "Maximum value in amplitude array: 17.699050903320312\n",
      "Indices where result == 1:\n",
      " (array([ 49,  49,  49, ..., 106, 106, 106]), array([121, 121, 121, ..., 147, 147, 147]), array([158, 159, 160, ..., 139, 140, 141]))\n",
      "Percentage of 3D array occupied by support:\n",
      "0.008344907977005349\n",
      "\n",
      "/data/id01/inhouse/david/Pt_p2/40_Ar_10_O2/S1398/pynxraw_2020/before_mask/S1398_pynx_norm_128_300_294_1_1_1-2021-01-11T23-35-30_Run0010_LLKf000.1202_LLK000.1333_SupportThreshold0.29495.cxi\n",
      "All elements in mask array are equal to 1 : False\n",
      "Shape of support array (128, 300, 294)\n",
      "Shape of real space complex electronic density array (128, 300, 294)\n",
      "Maximum value in amplitude array: 19.323808670043945\n",
      "Indices where result == 1:\n",
      " (array([34, 34, 34, ..., 91, 91, 91]), array([128, 128, 128, ..., 154, 154, 154]), array([152, 153, 154, ..., 136, 137, 138]))\n",
      "Percentage of 3D array occupied by support:\n",
      "0.008372737779857913\n",
      "\n",
      "/data/id01/inhouse/david/Pt_p2/40_Ar_10_O2/S1398/pynxraw_2020/before_mask/S1398_pynx_norm_128_300_294_1_1_1-2021-01-11T23-37-31_Run0013_LLKf000.1203_LLK000.1332_SupportThreshold0.29415.cxi\n",
      "All elements in mask array are equal to 1 : False\n",
      "Shape of support array (128, 300, 294)\n",
      "Shape of real space complex electronic density array (128, 300, 294)\n",
      "Maximum value in amplitude array: 16.337175369262695\n",
      "Indices where result == 1:\n",
      " (array([  0,   0,   0, ..., 124, 126, 126]), array([126, 129, 129, ..., 127, 130, 131]), array([141, 137, 139, ..., 136, 136, 136]))\n",
      "Percentage of 3D array occupied by support:\n",
      "0.008442273968726285\n",
      "\n",
      "/data/id01/inhouse/david/Pt_p2/40_Ar_10_O2/S1398/pynxraw_2020/before_mask/S1398_pynx_norm_128_300_294_1_1_1-2021-01-11T23-44-23_Run0023_LLKf000.1206_LLK000.1333_SupportThreshold0.29070.cxi\n",
      "All elements in mask array are equal to 1 : False\n",
      "Shape of support array (128, 300, 294)\n",
      "Shape of real space complex electronic density array (128, 300, 294)\n",
      "Maximum value in amplitude array: 15.930387496948242\n",
      "Indices where result == 1:\n",
      " (array([  1,   1,   1, ..., 127, 127, 127]), array([110, 111, 111, ..., 115, 116, 116]), array([151, 148, 150, ..., 151, 151, 152]))\n",
      "Percentage of 3D array occupied by support:\n",
      "0.0084711901551859\n",
      "\n",
      "/data/id01/inhouse/david/Pt_p2/40_Ar_10_O2/S1398/pynxraw_2020/before_mask/S1398_pynx_norm_128_300_294_1_1_1-2021-01-12T00-14-58_Run0068_LLKf000.1205_LLK000.1333_SupportThreshold0.29837.cxi\n",
      "All elements in mask array are equal to 1 : False\n",
      "Shape of support array (128, 300, 294)\n",
      "Shape of real space complex electronic density array (128, 300, 294)\n",
      "Maximum value in amplitude array: 17.203887939453125\n",
      "Indices where result == 1:\n",
      " (array([  6,  33,  33, ..., 100, 100, 109]), array([118, 109, 109, ..., 118, 119, 120]), array([135, 138, 139, ..., 137, 137, 135]))\n",
      "Percentage of 3D array occupied by support:\n",
      "0.008380573632566505\n",
      "\n",
      "/data/id01/inhouse/david/Pt_p2/40_Ar_10_O2/S1398/pynxraw_2020/before_mask/S1398_pynx_norm_128_300_294_1_1_1-2021-01-12T00-34-31_Run0097_LLKf000.1204_LLK000.1333_SupportThreshold0.29290.cxi\n",
      "All elements in mask array are equal to 1 : False\n",
      "Shape of support array (128, 300, 294)\n",
      "Shape of real space complex electronic density array (128, 300, 294)\n",
      "Maximum value in amplitude array: 15.732051849365234\n",
      "Indices where result == 1:\n",
      " (array([  2,   4,   4, ..., 126, 126, 126]), array([126, 124, 125, ..., 126, 127, 129]), array([159, 157, 157, ..., 157, 154, 156]))\n",
      "Percentage of 3D array occupied by support:\n",
      "0.008456686813885717\n",
      "\n",
      "\n",
      "\n",
      "Mask saved in /data/id01/inhouse/david/Pt_p2/40_Ar_10_O2/S1398/pynxraw_2020/before_mask as mask_0.1.npz\n",
      "Indices where result == 1:\n",
      " (array([41, 41, 41, ..., 84, 84, 84]), array([122, 122, 122, ..., 134, 135, 136]), array([145, 146, 147, ..., 140, 139, 139]))\n",
      "Percentage of 3D array occupied by support:\n",
      "0.0026200482446955614\n"
     ]
    }
   ],
   "source": [
    "%run -i /data/id01/inhouse/david/Scripts/create_mask"
   ]
  },
  {
   "cell_type": "markdown",
   "metadata": {},
   "source": [
    "<font color=#163e5a>\n",
    "    \n",
    "* Take an 'average', so at least half of the 10 good phase retrieval must have the point over the threshold to be in the support\n",
    "    \n",
    "* Need to smooth by convoluting with a gaussian, the edges look rough\n",
    "</font>"
   ]
  },
  {
   "cell_type": "markdown",
   "metadata": {},
   "source": [
    "<font color=#163e5a>\n",
    "\n",
    "**Check the .npz files again, a mask should be here**\n",
    "    \n",
    "* We can compare different threshold for the mask\n",
    "    \n",
    "</font>"
   ]
  },
  {
   "cell_type": "markdown",
   "metadata": {},
   "source": [
    "Take mask directly from /entry_1/image_1/mask"
   ]
  },
  {
   "cell_type": "code",
   "execution_count": 39,
   "metadata": {},
   "outputs": [
    {
     "name": "stdout",
     "output_type": "stream",
     "text": [
      "Shape of real space complex electronic density array (128, 300, 294)\n",
      "Indices where result == 1:\n",
      " (array([41, 41, 41, ..., 98, 98, 98]), array([117, 117, 117, ..., 143, 143, 143]), array([147, 148, 149, ..., 131, 132, 133]))\n",
      "Percentage of 3D array occupied by the mask :\n",
      "0.00844632753978703\n"
     ]
    }
   ],
   "source": [
    "Path = \"before_mask/S1398_pynx_norm_128_300_294_1_1_1-2021-01-11T23-37-31_Run0013_LLKf000.1203_LLK000.1332_SupportThreshold0.29415.cxi\"\n",
    "\n",
    "with tb.open_file(Path, \"r\") as f:\n",
    "    # print(f\"\\n{Path}\")\n",
    "    # Since .cxi files follow a specific architectture, we know where our data is.\n",
    "    mask = f.root.entry_1.image_1.mask[:]\n",
    "\n",
    "    ED = f.root.entry_1.data_1.data[:]\n",
    "    print(f\"Shape of real space complex electronic density array {np.shape(ED)}\")\n",
    "        \n",
    "    # Check if the indices we have seem to be around the center of the array\n",
    "    rocc = np.where(mask == 1)\n",
    "    rnocc = np.where(mask == 0)\n",
    "\n",
    "    print(\"Indices where result == 1:\\n\",rocc)\n",
    "    print(f\"Percentage of 3D array occupied by the mask :\\n{np.shape(rocc)[1] / np.shape(rnocc)[1]}\")\n",
    "    \n",
    "    np.savez(f\"direct_mask.npz\", mask = mask)"
   ]
  },
  {
   "cell_type": "code",
   "execution_count": 42,
   "metadata": {},
   "outputs": [
    {
     "name": "stdout",
     "output_type": "stream",
     "text": [
      "direct_mask.npz\n",
      "filter_sig3_t40_mask_0.1.npz\n",
      "mask_0.1.npz\n",
      "Mask_10_100_0_1.npz\n",
      "S1398_maskpynx_norm_128_300_294_1_1_1.npz\n",
      "S1398_pynx_norm_128_300_294_1_1_1.npz\n"
     ]
    }
   ],
   "source": [
    "%%bash\n",
    "ls *.npz"
   ]
  },
  {
   "cell_type": "code",
   "execution_count": 41,
   "metadata": {},
   "outputs": [
    {
     "name": "stdout",
     "output_type": "stream",
     "text": [
      "mask_0.1.npz\n"
     ]
    }
   ],
   "source": [
    "%%bash\n",
    "cd before_mask\n",
    "ls *.npz"
   ]
  },
  {
   "cell_type": "code",
   "execution_count": 43,
   "metadata": {},
   "outputs": [
    {
     "name": "stdin",
     "output_type": "stream",
     "text": [
      "Path to file from current folder:  direct_mask.npz\n"
     ]
    },
    {
     "name": "stdout",
     "output_type": "stream",
     "text": [
      "Stored arrays :['mask']\n"
     ]
    },
    {
     "data": {
      "application/vnd.jupyter.widget-view+json": {
       "model_id": "c1cf6b7c32824072a5322c310204e7e6",
       "version_major": 2,
       "version_minor": 0
      },
      "text/plain": [
       "interactive(children=(Dropdown(description='Array used:', options=('mask',), style=DescriptionStyle(descriptio…"
      ]
     },
     "metadata": {},
     "output_type": "display_data"
    }
   ],
   "source": [
    "%run -i /data/id01/inhouse/david/Scripts/plot_npz"
   ]
  },
  {
   "cell_type": "markdown",
   "metadata": {},
   "source": [
    "<font color=#163e5a>\n",
    "\n",
    "Apply a gaussian convolution to the mask to avoid holes and discontinuity at the borders.\n",
    "    \n",
    "</font>"
   ]
  },
  {
   "cell_type": "code",
   "execution_count": 10,
   "metadata": {},
   "outputs": [
    {
     "name": "stdin",
     "output_type": "stream",
     "text": [
      "filename =  mask_0.1.npz\n",
      "sigma =  3\n",
      "threshold =  40\n"
     ]
    },
    {
     "name": "stdout",
     "output_type": "stream",
     "text": [
      "New mask saved as filter_sig3_t40_mask_0.1.npz\n"
     ]
    }
   ],
   "source": [
    "%run -i /data/id01/inhouse/david/Scripts/gaussian_filter_mask"
   ]
  },
  {
   "cell_type": "code",
   "execution_count": 11,
   "metadata": {},
   "outputs": [
    {
     "name": "stdin",
     "output_type": "stream",
     "text": [
      "Path to file from current folder:  filter_sig3_t40_mask_0.1.npz\n"
     ]
    },
    {
     "name": "stdout",
     "output_type": "stream",
     "text": [
      "Stored arrays :['oldmask', 'mask']\n"
     ]
    },
    {
     "data": {
      "application/vnd.jupyter.widget-view+json": {
       "model_id": "f721575fefee4302810dc64fedf77c5e",
       "version_major": 2,
       "version_minor": 0
      },
      "text/plain": [
       "interactive(children=(Dropdown(description='Array used:', options=('oldmask', 'mask'), style=DescriptionStyle(…"
      ]
     },
     "metadata": {},
     "output_type": "display_data"
    }
   ],
   "source": [
    "%run -i /data/id01/inhouse/david/Scripts/plot_npz"
   ]
  },
  {
   "cell_type": "markdown",
   "metadata": {},
   "source": [
    "<font color=#163e5a>  \n",
    "    <h1>Create modes</h1>\n",
    "    <p>Only on lid01 because pynx package</p>\n",
    "</font>"
   ]
  },
  {
   "cell_type": "markdown",
   "metadata": {},
   "source": [
    "`python pynx-cdi-analysis.py S1398_pynx_norm_128_300_294_1_1_1-* modes=1`"
   ]
  },
  {
   "cell_type": "markdown",
   "metadata": {},
   "source": [
    "<font color=#163e5a>  \n",
    "    <h1>Launch strain analysis</h1>\n",
    "    <p>Only on lid01 because local bcdi package has problems, the window opens, I can click on a file but then nothing happens (for Jupyter) and it is blocked. In the command, it crashed after the 3rd figure but here I do not see the figure opening.</p>\n",
    "</font>"
   ]
  },
  {
   "cell_type": "markdown",
   "metadata": {},
   "source": [
    "`python D:/Documents/PythonScripts/PhDScripts/Pt_p2/pynxraw/strain.py`"
   ]
  },
  {
   "cell_type": "markdown",
   "metadata": {},
   "source": [
    "<font color=#163e5a>  \n",
    "    <h1>Check final data</h1>\n",
    "\n",
    "* `S1398_ampdispstrain_gap_iso0.2_mode_avg3_apodize_blackman_lab-frame.npz` is the reconstructed data in real space with detail on bulk (support), strain\n",
    "* `S1398_avg_obj_prtf_gap_iso0.2_mode_avg3_apodize_blackman.npz` is the electronic density of the object\n",
    "</font>"
   ]
  },
  {
   "cell_type": "code",
   "execution_count": 43,
   "metadata": {},
   "outputs": [
    {
     "name": "stdout",
     "output_type": "stream",
     "text": [
      "Path to file from current folder: Pt_p2/pynxraw/S1398_ampdispstrain_gap_iso0.2_mode_avg3_apodize_blackman_lab-frame.npz\n",
      "Stored arrays :['amp', 'displacement', 'bulk', 'strain']\n"
     ]
    },
    {
     "data": {
      "application/vnd.jupyter.widget-view+json": {
       "model_id": "e268b497e2434c8f8d0de424ec410f20",
       "version_major": 2,
       "version_minor": 0
      },
      "text/plain": [
       "interactive(children=(Dropdown(description='Array used:', options=('amp', 'displacement', 'bulk', 'strain'), s…"
      ]
     },
     "metadata": {},
     "output_type": "display_data"
    }
   ],
   "source": [
    "%run -i /data/id01/inhouse/david/Scripts/plot_npz"
   ]
  }
 ],
 "metadata": {
  "kernelspec": {
   "display_name": "p9.widgets",
   "language": "python",
   "name": "p9.widgets"
  },
  "language_info": {
   "codemirror_mode": {
    "name": "ipython",
    "version": 3
   },
   "file_extension": ".py",
   "mimetype": "text/x-python",
   "name": "python",
   "nbconvert_exporter": "python",
   "pygments_lexer": "ipython3",
   "version": "3.8.5"
  }
 },
 "nbformat": 4,
 "nbformat_minor": 4
}
