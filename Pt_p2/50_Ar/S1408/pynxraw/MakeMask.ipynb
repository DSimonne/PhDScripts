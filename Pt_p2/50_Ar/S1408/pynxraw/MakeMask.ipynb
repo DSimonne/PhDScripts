{
 "cells": [
  {
   "cell_type": "markdown",
   "metadata": {},
   "source": [
    "<font color=#163e5a>\n",
    "    <h1>Execute notebook with p9.widgets kernel</h1>\n",
    "</font>"
   ]
  },
  {
   "cell_type": "markdown",
   "metadata": {},
   "source": [
    "<font color=#163e5a>\n",
    "    <h1>Preprocess output</h1>\n",
    "\n",
    "\n",
    "**Two .npz files**\n",
    "* <a href = \"https://numpy.org/doc/stable/reference/generated/numpy.savez.html\" target = \"_blank\">Documentation</a>\n",
    "* the mask: S1398_maskpynx_norm_128_300_294_1_1_1.npz\n",
    "* the (normalised?) detector data: S1398_pynx_norm_128_300_294_1_1_1.npz\n",
    "    \n",
    "<h2>Find the .npz files</h2>\n",
    "</font>"
   ]
  },
  {
   "cell_type": "code",
   "execution_count": 1,
   "metadata": {},
   "outputs": [
    {
     "name": "stdout",
     "output_type": "stream",
     "text": [
      "S1408_maskpynx_norm_128_300_294_1_1_1.npz\n",
      "S1408_pynx_norm_128_300_294_1_1_1.npz\n"
     ]
    }
   ],
   "source": [
    "%%bash\n",
    "ls S1408*.npz"
   ]
  },
  {
   "cell_type": "code",
   "execution_count": 4,
   "metadata": {},
   "outputs": [
    {
     "name": "stdout",
     "output_type": "stream",
     "text": [
      "BCDI\n",
      "create_mask.py\n",
      "gaussian_filter_mask.py\n",
      "plot_cxi.py\n",
      "plot_npz.py\n",
      "PyNX\n",
      "README.md\n",
      "S1398_ampdispstrain_gap_iso0.2_mode_avg3_apodize_blackman_lab-frame.npz\n",
      "S1398_amp-disp-strain_gap_iso0.2_mode_avg3_apodize_blackman_lab-frame.vti\n",
      "S1398_avg_obj_prtf_gap_iso0.2_mode_avg3_apodize_blackman.npz\n"
     ]
    }
   ],
   "source": [
    "%%bash\n",
    "ls /data/id01/inhouse/david/Scripts/"
   ]
  },
  {
   "cell_type": "code",
   "execution_count": 4,
   "metadata": {},
   "outputs": [
    {
     "name": "stdin",
     "output_type": "stream",
     "text": [
      "Path to file from current folder:  S1406_pynx_norm_128_300_294_1_1_1.npz\n"
     ]
    },
    {
     "name": "stdout",
     "output_type": "stream",
     "text": [
      "Stored arrays :['data']\n"
     ]
    },
    {
     "data": {
      "application/vnd.jupyter.widget-view+json": {
       "model_id": "6a9687092739462a8c8c9ab54fa5b04a",
       "version_major": 2,
       "version_minor": 0
      },
      "text/plain": [
       "interactive(children=(Dropdown(description='Array used:', options=('data',), style=DescriptionStyle(descriptio…"
      ]
     },
     "metadata": {},
     "output_type": "display_data"
    }
   ],
   "source": [
    "%run -i /data/id01/inhouse/david/Scripts/plot_npz"
   ]
  },
  {
   "cell_type": "markdown",
   "metadata": {},
   "source": [
    "<font color=#163e5a>  \n",
    "    <h1>Run PyNX</h1>\n",
    "* On slurm (`source /data/id01/inhouse/richard/pynx-gap.p9/bin/activate`)\n",
    "* On lid01 (`source /sware/exp/pynx/devel.debian9/bin/activate`)\n",
    "    \n",
    "`python pynx-id01cdi.py pynx-cdi-input_100.txt` \n",
    "</font>"
   ]
  },
  {
   "cell_type": "markdown",
   "metadata": {},
   "source": [
    "<font color=#163e5a>  \n",
    "    <h1>Find the .cxi files</h1>\n",
    "    <a href = \"https://raw.githubusercontent.com/cxidb/CXI/master/cxi_file_format.pdf\" target = \"_blank\">Documentation</a>\n",
    "</font>"
   ]
  },
  {
   "cell_type": "code",
   "execution_count": 5,
   "metadata": {},
   "outputs": [
    {
     "name": "stdout",
     "output_type": "stream",
     "text": [
      "S1408_pynx_norm_128_300_294_1_1_1-2020-12-22T16-03-27_Run0005_LLKf000.1711_LLK000.1809_SupportThreshold0.19738.cxi\n",
      "S1408_pynx_norm_128_300_294_1_1_1-2020-12-22T16-23-34_Run0024_LLKf000.2503_LLK86265106201.1719_SupportThreshold0.13079.cxi\n",
      "S1408_pynx_norm_128_300_294_1_1_1-2020-12-22T16-26-58_Run0027_LLKf000.2510_LLK41086502075.1953_SupportThreshold0.13155.cxi\n",
      "S1408_pynx_norm_128_300_294_1_1_1-2020-12-22T16-40-29_Run0040_LLKf000.2488_LLK36668307781.2195_SupportThreshold0.12897.cxi\n",
      "S1408_pynx_norm_128_300_294_1_1_1-2020-12-22T16-45-25_Run0048_LLKf000.2571_LLK11724853515.6250_SupportThreshold0.12259.cxi\n",
      "S1408_pynx_norm_128_300_294_1_1_1-2020-12-22T16-57-40_Run0065_LLKf000.1747_LLK000.1836_SupportThreshold0.19485.cxi\n",
      "S1408_pynx_norm_128_300_294_1_1_1-2020-12-22T17-01-12_Run0069_LLKf000.1756_LLK000.1832_SupportThreshold0.19303.cxi\n",
      "S1408_pynx_norm_128_300_294_1_1_1-2020-12-22T17-07-16_Run0078_LLKf000.2469_LLK11359636783.5999_SupportThreshold0.11963.cxi\n",
      "S1408_pynx_norm_128_300_294_1_1_1-2020-12-22T17-13-26_Run0087_LLKf000.2418_LLK11815028190.6128_SupportThreshold0.12815.cxi\n",
      "S1408_pynx_norm_128_300_294_1_1_1-2020-12-22T17-17-47_Run0093_LLKf000.2570_LLK98003501892.0898_SupportThreshold0.12931.cxi\n",
      "S1408_pynx_norm_128_300_294_1_1_1.cxi\n"
     ]
    }
   ],
   "source": [
    "%%bash\n",
    "ls *.cxi"
   ]
  },
  {
   "cell_type": "markdown",
   "metadata": {},
   "source": [
    "* The last .cxi file contains only the detector and the mask data, output of PyNX\n",
    "\n",
    "* All the other .cxi files are in real space and show the **complex** electronic density, they each are the output of the phase retrieval process. The image size in real space is also given.\n",
    "* The support is linked to the mask, seems that it must be a binary array (0 masks, 1 does not mask)\n",
    "* Free pixel mask is not the original .npz file ? Boolean array maybe fixes which pixels cannot be assigned to the recalculated intensity, final one ?\n",
    "* entry_last is just a link to entry_1, idk why, doubles data size ? not sure since just link"
   ]
  },
  {
   "cell_type": "markdown",
   "metadata": {},
   "source": [
    "<font color=#163e5a>  \n",
    "    <h1>Check one of the 10 good datasets</h1>\n",
    "    <p></p>\n",
    "</font>"
   ]
  },
  {
   "cell_type": "code",
   "execution_count": 6,
   "metadata": {},
   "outputs": [
    {
     "name": "stdin",
     "output_type": "stream",
     "text": [
      "Path to file from current folder:  S1408_pynx_norm_128_300_294_1_1_1-2020-12-22T16-03-27_Run0005_LLKf000.1711_LLK000.1809_SupportThreshold0.19738.cxi\n"
     ]
    },
    {
     "name": "stdout",
     "output_type": "stream",
     "text": [
      "Data file architecture :\n",
      "\n",
      "S1408_pynx_norm_128_300_294_1_1_1-2020-12-22T16-03-27_Run0005_LLKf000.1711_LLK000.1809_SupportThreshold0.19738.cxi (File) ''\n",
      "Last modif.: 'Tue Dec 22 18:16:26 2020'\n",
      "Object Tree: \n",
      "/ (RootGroup) ''\n",
      "/cxi_version (Array()) ''\n",
      "/entry_last (SoftLink) -> /entry_1\n",
      "/entry_1 (Group) ''\n",
      "/entry_1/program_name (UnImplemented()) ''\n",
      "/entry_1/start_time (UnImplemented()) ''\n",
      "/entry_1/data_1 (Group) ''\n",
      "/entry_1/data_1/data (SoftLink) -> /entry_1/image_1/data\n",
      "/entry_1/image_1 (Group) ''\n",
      "/entry_1/image_1/data (CArray(128, 300, 294), shuffle, zlib(4)) ''\n",
      "/entry_1/image_1/data_space (UnImplemented()) ''\n",
      "/entry_1/image_1/data_type (UnImplemented()) ''\n",
      "/entry_1/image_1/image_size (Array(3,)) ''\n",
      "/entry_1/image_1/mask (CArray(128, 300, 294), shuffle, zlib(4)) ''\n",
      "/entry_1/image_1/support (SoftLink) -> /entry_1/image_1/mask\n",
      "/entry_1/image_1/instrument_1 (Group) ''\n",
      "/entry_1/image_1/instrument_1/name (UnImplemented()) ''\n",
      "/entry_1/image_1/process_1 (Group) ''\n",
      "/entry_1/image_1/process_1/command (UnImplemented()) ''\n",
      "/entry_1/image_1/process_1/program (UnImplemented()) ''\n",
      "/entry_1/image_1/process_1/version (UnImplemented()) ''\n",
      "/entry_1/image_1/process_1/configuration (Group) ''\n",
      "/entry_1/image_1/process_1/configuration/auto_center_resize (Array()) ''\n",
      "/entry_1/image_1/process_1/configuration/beta (Array()) ''\n",
      "/entry_1/image_1/process_1/configuration/confidence_interval_factor_mask_max (Array()) ''\n",
      "/entry_1/image_1/process_1/configuration/confidence_interval_factor_mask_min (Array()) ''\n",
      "/entry_1/image_1/process_1/configuration/crop_output (Array()) ''\n",
      "/entry_1/image_1/process_1/configuration/data (UnImplemented()) ''\n",
      "/entry_1/image_1/process_1/configuration/data2cxi (Array()) ''\n",
      "/entry_1/image_1/process_1/configuration/detector_distance (Array()) ''\n",
      "/entry_1/image_1/process_1/configuration/detwin (Array()) ''\n",
      "/entry_1/image_1/process_1/configuration/fig_num (Array()) ''\n",
      "/entry_1/image_1/process_1/configuration/free_pixel_mask (CArray(128, 300, 294), shuffle, zlib(4)) ''\n",
      "/entry_1/image_1/process_1/configuration/gps_inertia (Array()) ''\n",
      "/entry_1/image_1/process_1/configuration/gps_s (Array()) ''\n",
      "/entry_1/image_1/process_1/configuration/gps_sigma_f (Array()) ''\n",
      "/entry_1/image_1/process_1/configuration/gps_sigma_o (Array()) ''\n",
      "/entry_1/image_1/process_1/configuration/gps_t (Array()) ''\n",
      "/entry_1/image_1/process_1/configuration/imgcounter (UnImplemented()) ''\n",
      "/entry_1/image_1/process_1/configuration/instrument (UnImplemented()) ''\n",
      "/entry_1/image_1/process_1/configuration/iobs_shape (Array(3,)) ''\n",
      "/entry_1/image_1/process_1/configuration/iobs_shape_orig (Array(3,)) ''\n",
      "/entry_1/image_1/process_1/configuration/live_plot (Array()) ''\n",
      "/entry_1/image_1/process_1/configuration/mask (UnImplemented()) ''\n",
      "/entry_1/image_1/process_1/configuration/mask_interp (Array(2,)) ''\n",
      "/entry_1/image_1/process_1/configuration/mpi (UnImplemented()) ''\n",
      "/entry_1/image_1/process_1/configuration/nb_er (Array()) ''\n",
      "/entry_1/image_1/process_1/configuration/nb_hio (Array()) ''\n",
      "/entry_1/image_1/process_1/configuration/nb_ml (Array()) ''\n",
      "/entry_1/image_1/process_1/configuration/nb_raar (Array()) ''\n",
      "/entry_1/image_1/process_1/configuration/nb_run (Array()) ''\n",
      "/entry_1/image_1/process_1/configuration/nb_run_keep (Array()) ''\n",
      "/entry_1/image_1/process_1/configuration/output_format (UnImplemented()) ''\n",
      "/entry_1/image_1/process_1/configuration/pixel_size_detector (Array()) ''\n",
      "/entry_1/image_1/process_1/configuration/positivity (Array()) ''\n",
      "/entry_1/image_1/process_1/configuration/psf (Array()) ''\n",
      "/entry_1/image_1/process_1/configuration/rebin (Array(3,)) ''\n",
      "/entry_1/image_1/process_1/configuration/roi_final (Array(6,)) ''\n",
      "/entry_1/image_1/process_1/configuration/save (UnImplemented()) ''\n",
      "/entry_1/image_1/process_1/configuration/support (UnImplemented()) ''\n",
      "/entry_1/image_1/process_1/configuration/support_autocorrelation_threshold (Array()) ''\n",
      "/entry_1/image_1/process_1/configuration/support_only_shrink (Array()) ''\n",
      "/entry_1/image_1/process_1/configuration/support_post_expand (Array(3,)) ''\n",
      "/entry_1/image_1/process_1/configuration/support_smooth_width_begin (Array()) ''\n",
      "/entry_1/image_1/process_1/configuration/support_smooth_width_end (Array()) ''\n",
      "/entry_1/image_1/process_1/configuration/support_smooth_width_relax_n (Array()) ''\n",
      "/entry_1/image_1/process_1/configuration/support_threshold (Array()) ''\n",
      "/entry_1/image_1/process_1/configuration/support_threshold_method (UnImplemented()) ''\n",
      "/entry_1/image_1/process_1/configuration/support_update_border_n (Array()) ''\n",
      "/entry_1/image_1/process_1/configuration/support_update_period (Array()) ''\n",
      "/entry_1/image_1/process_1/configuration/verbose (Array()) ''\n",
      "/entry_1/image_1/process_1/configuration/wavelength (Array()) ''\n",
      "/entry_1/image_1/process_1/configuration/zero_mask (UnImplemented()) ''\n",
      "/entry_1/image_1/process_1/note_1 (Group) ''\n",
      "/entry_1/image_1/process_1/note_1/data (UnImplemented()) ''\n",
      "/entry_1/image_1/process_1/note_1/description (UnImplemented()) ''\n",
      "/entry_1/image_1/process_1/note_1/type (UnImplemented()) ''\n",
      "/entry_1/image_1/process_1/results (Group) ''\n",
      "/entry_1/image_1/process_1/results/cycle_history (Table(1701,)) ''\n",
      "/entry_1/image_1/process_1/results/cycle_history_algorithm (Table(1700,)) ''\n",
      "/entry_1/image_1/process_1/results/cycle_history_dt (Table(16,)) ''\n",
      "/entry_1/image_1/process_1/results/cycle_history_epoch (Table(1701,)) ''\n",
      "/entry_1/image_1/process_1/results/cycle_history_llk_euclidian (Table(17,)) ''\n",
      "/entry_1/image_1/process_1/results/cycle_history_llk_euclidian_free (Table(17,)) ''\n",
      "/entry_1/image_1/process_1/results/cycle_history_llk_gaussian (Table(17,)) ''\n",
      "/entry_1/image_1/process_1/results/cycle_history_llk_gaussian_free (Table(17,)) ''\n",
      "/entry_1/image_1/process_1/results/cycle_history_llk_poisson (Table(17,)) ''\n",
      "/entry_1/image_1/process_1/results/cycle_history_llk_poisson_free (Table(17,)) ''\n",
      "/entry_1/image_1/process_1/results/cycle_history_nb_photons_calc (Table(17,)) ''\n",
      "/entry_1/image_1/process_1/results/cycle_history_obj_average (Table(86,)) ''\n",
      "/entry_1/image_1/process_1/results/cycle_history_obj_max (Table(85,)) ''\n",
      "/entry_1/image_1/process_1/results/cycle_history_support_size (Table(85,)) ''\n",
      "/entry_1/image_1/process_1/results/cycle_history_support_update_threshold (Table(85,)) ''\n",
      "/entry_1/image_1/process_1/results/cycle_history_time (Table(1701,)) ''\n",
      "/entry_1/image_1/process_1/results/free_llk_euclidian (Array()) ''\n",
      "/entry_1/image_1/process_1/results/free_llk_gaussian (Array()) ''\n",
      "/entry_1/image_1/process_1/results/free_llk_poisson (Array()) ''\n",
      "/entry_1/image_1/process_1/results/llk_euclidian (Array()) ''\n",
      "/entry_1/image_1/process_1/results/llk_gaussian (Array()) ''\n",
      "/entry_1/image_1/process_1/results/llk_poisson (Array()) ''\n",
      "/entry_1/image_1/process_1/results/nb_point_support (Array()) ''\n",
      "/entry_1/image_1/instrument_1/beam_1 (Group) ''\n",
      "/entry_1/image_1/instrument_1/beam_1/incident_energy (Array()) ''\n",
      "/entry_1/image_1/instrument_1/beam_1/incident_wavelength (Array()) ''\n",
      "/entry_1/image_1/instrument_1/detector_1 (Group) ''\n",
      "/entry_1/image_1/instrument_1/detector_1/distance (Array()) ''\n",
      "/entry_1/image_1/instrument_1/detector_1/x_pixel_size (Array()) ''\n",
      "/entry_1/image_1/instrument_1/detector_1/y_pixel_size (Array()) ''\n",
      "/entry_1/image_1/instrument_1/source_1 (Group) ''\n",
      "/entry_1/image_1/instrument_1/source_1/energy (Array()) ''\n",
      "\n"
     ]
    },
    {
     "data": {
      "application/vnd.jupyter.widget-view+json": {
       "model_id": "564aefa5dfd54dd18176637ea9443916",
       "version_major": 2,
       "version_minor": 0
      },
      "text/plain": [
       "interactive(children=(Dropdown(description='First 2 axes:', index=1, options=('xy', 'yz', 'xz'), style=Descrip…"
      ]
     },
     "metadata": {},
     "output_type": "display_data"
    }
   ],
   "source": [
    "%run -i /data/id01/inhouse/david/Scripts/plot_cxi"
   ]
  },
  {
   "cell_type": "markdown",
   "metadata": {},
   "source": [
    "<font color=#163e5a>  \n",
    "    <h1>Try to extract a support determination from the 10 runs</h1>\n",
    "    <p>Becareful, if maximum is very high along one ax, then the threshold may completely overlook the values in other axes</p>\n",
    "</font>"
   ]
  },
  {
   "cell_type": "code",
   "execution_count": 7,
   "metadata": {},
   "outputs": [
    {
     "name": "stdout",
     "output_type": "stream",
     "text": [
      "/data/id01/inhouse/david/Pt_p2/50_Ar/S1408/pynxraw\n"
     ]
    }
   ],
   "source": [
    "%%bash\n",
    "pwd"
   ]
  },
  {
   "cell_type": "code",
   "execution_count": 8,
   "metadata": {},
   "outputs": [
    {
     "name": "stdout",
     "output_type": "stream",
     "text": [
      "S1408_pynx_norm_128_300_294_1_1_1-2020-12-22T16-03-27_Run0005_LLKf000.1711_LLK000.1809_SupportThreshold0.19738.cxi\n",
      "S1408_pynx_norm_128_300_294_1_1_1-2020-12-22T16-23-34_Run0024_LLKf000.2503_LLK86265106201.1719_SupportThreshold0.13079.cxi\n",
      "S1408_pynx_norm_128_300_294_1_1_1-2020-12-22T16-26-58_Run0027_LLKf000.2510_LLK41086502075.1953_SupportThreshold0.13155.cxi\n",
      "S1408_pynx_norm_128_300_294_1_1_1-2020-12-22T16-40-29_Run0040_LLKf000.2488_LLK36668307781.2195_SupportThreshold0.12897.cxi\n",
      "S1408_pynx_norm_128_300_294_1_1_1-2020-12-22T16-45-25_Run0048_LLKf000.2571_LLK11724853515.6250_SupportThreshold0.12259.cxi\n",
      "S1408_pynx_norm_128_300_294_1_1_1-2020-12-22T16-57-40_Run0065_LLKf000.1747_LLK000.1836_SupportThreshold0.19485.cxi\n",
      "S1408_pynx_norm_128_300_294_1_1_1-2020-12-22T17-01-12_Run0069_LLKf000.1756_LLK000.1832_SupportThreshold0.19303.cxi\n",
      "S1408_pynx_norm_128_300_294_1_1_1-2020-12-22T17-07-16_Run0078_LLKf000.2469_LLK11359636783.5999_SupportThreshold0.11963.cxi\n",
      "S1408_pynx_norm_128_300_294_1_1_1-2020-12-22T17-13-26_Run0087_LLKf000.2418_LLK11815028190.6128_SupportThreshold0.12815.cxi\n",
      "S1408_pynx_norm_128_300_294_1_1_1-2020-12-22T17-17-47_Run0093_LLKf000.2570_LLK98003501892.0898_SupportThreshold0.12931.cxi\n",
      "S1408_pynx_norm_128_300_294_1_1_1.cxi\n"
     ]
    }
   ],
   "source": [
    "%%bash\n",
    "ls *.cxi"
   ]
  },
  {
   "cell_type": "code",
   "execution_count": 9,
   "metadata": {},
   "outputs": [
    {
     "name": "stdout",
     "output_type": "stream",
     "text": [
      "Example of used files : Pt_p2/pynxraw/S1398_pynx_norm_128_300_294_1_1_1-2020*cxi\n",
      "Example of folder : Pt_p2/pynxraw\n",
      "Example of file name : S1398_pynx_norm_128_300_294_1_1_1-2020\n"
     ]
    },
    {
     "name": "stdin",
     "output_type": "stream",
     "text": [
      "\n",
      "Please write your folder like in the example:  /data/id01/inhouse/david/Pt_p2/50_Ar/S1408/pynxraw\n",
      "Please write your file name like in the example:  S1408_pynx_norm_128_300_294_1_1_1-2020-\n"
     ]
    },
    {
     "name": "stdout",
     "output_type": "stream",
     "text": [
      "\n",
      "Used files: ['/data/id01/inhouse/david/Pt_p2/50_Ar/S1408/pynxraw/S1408_pynx_norm_128_300_294_1_1_1-2020-12-22T16-03-27_Run0005_LLKf000.1711_LLK000.1809_SupportThreshold0.19738.cxi', '/data/id01/inhouse/david/Pt_p2/50_Ar/S1408/pynxraw/S1408_pynx_norm_128_300_294_1_1_1-2020-12-22T16-23-34_Run0024_LLKf000.2503_LLK86265106201.1719_SupportThreshold0.13079.cxi', '/data/id01/inhouse/david/Pt_p2/50_Ar/S1408/pynxraw/S1408_pynx_norm_128_300_294_1_1_1-2020-12-22T16-26-58_Run0027_LLKf000.2510_LLK41086502075.1953_SupportThreshold0.13155.cxi', '/data/id01/inhouse/david/Pt_p2/50_Ar/S1408/pynxraw/S1408_pynx_norm_128_300_294_1_1_1-2020-12-22T16-40-29_Run0040_LLKf000.2488_LLK36668307781.2195_SupportThreshold0.12897.cxi', '/data/id01/inhouse/david/Pt_p2/50_Ar/S1408/pynxraw/S1408_pynx_norm_128_300_294_1_1_1-2020-12-22T16-45-25_Run0048_LLKf000.2571_LLK11724853515.6250_SupportThreshold0.12259.cxi', '/data/id01/inhouse/david/Pt_p2/50_Ar/S1408/pynxraw/S1408_pynx_norm_128_300_294_1_1_1-2020-12-22T16-57-40_Run0065_LLKf000.1747_LLK000.1836_SupportThreshold0.19485.cxi', '/data/id01/inhouse/david/Pt_p2/50_Ar/S1408/pynxraw/S1408_pynx_norm_128_300_294_1_1_1-2020-12-22T17-01-12_Run0069_LLKf000.1756_LLK000.1832_SupportThreshold0.19303.cxi', '/data/id01/inhouse/david/Pt_p2/50_Ar/S1408/pynxraw/S1408_pynx_norm_128_300_294_1_1_1-2020-12-22T17-07-16_Run0078_LLKf000.2469_LLK11359636783.5999_SupportThreshold0.11963.cxi', '/data/id01/inhouse/david/Pt_p2/50_Ar/S1408/pynxraw/S1408_pynx_norm_128_300_294_1_1_1-2020-12-22T17-13-26_Run0087_LLKf000.2418_LLK11815028190.6128_SupportThreshold0.12815.cxi', '/data/id01/inhouse/david/Pt_p2/50_Ar/S1408/pynxraw/S1408_pynx_norm_128_300_294_1_1_1-2020-12-22T17-17-47_Run0093_LLKf000.2570_LLK98003501892.0898_SupportThreshold0.12931.cxi']\n"
     ]
    },
    {
     "name": "stdin",
     "output_type": "stream",
     "text": [
      "\n",
      "Threshold value (int from 1 to 100):  20\n",
      "\n",
      "Amount of .cxi files,  between the N files that were kept, for which the threshold must be respected:  5\n"
     ]
    },
    {
     "name": "stdout",
     "output_type": "stream",
     "text": [
      "\n",
      "/data/id01/inhouse/david/Pt_p2/50_Ar/S1408/pynxraw/S1408_pynx_norm_128_300_294_1_1_1-2020-12-22T16-03-27_Run0005_LLKf000.1711_LLK000.1809_SupportThreshold0.19738.cxi\n",
      "All elements in mask array are equal to 1 : False\n",
      "Shape of support array (128, 300, 294)\n",
      "Shape of real space complex electronic density array (128, 300, 294)\n",
      "Maximum value in amplitude array: 27.81977653503418\n",
      "Indices where result == 1:\n",
      " (array([38, 38, 38, ..., 95, 95, 95]), array([135, 135, 135, ..., 160, 160, 160]), array([155, 156, 157, ..., 135, 136, 137]))\n",
      "Percentage of 3D array occupied by support:\n",
      "0.008144110600095603\n",
      "\n",
      "/data/id01/inhouse/david/Pt_p2/50_Ar/S1408/pynxraw/S1408_pynx_norm_128_300_294_1_1_1-2020-12-22T16-23-34_Run0024_LLKf000.2503_LLK86265106201.1719_SupportThreshold0.13079.cxi\n",
      "All elements in mask array are equal to 1 : False\n",
      "Shape of support array (128, 300, 294)\n",
      "Shape of real space complex electronic density array (128, 300, 294)\n",
      "Maximum value in amplitude array: 29.815731048583984\n",
      "Indices where result == 1:\n",
      " (array([28, 28, 28, ..., 96, 97, 97]), array([143, 143, 144, ..., 161, 157, 158]), array([146, 147, 148, ..., 144, 151, 151]))\n",
      "Percentage of 3D array occupied by support:\n",
      "0.007358348708956277\n",
      "\n",
      "/data/id01/inhouse/david/Pt_p2/50_Ar/S1408/pynxraw/S1408_pynx_norm_128_300_294_1_1_1-2020-12-22T16-26-58_Run0027_LLKf000.2510_LLK41086502075.1953_SupportThreshold0.13155.cxi\n",
      "All elements in mask array are equal to 1 : False\n",
      "Shape of support array (128, 300, 294)\n",
      "Shape of real space complex electronic density array (128, 300, 294)\n",
      "Maximum value in amplitude array: 30.46541976928711\n",
      "Indices where result == 1:\n",
      " (array([34, 35, 35, ..., 95, 95, 95]), array([137, 144, 144, ..., 159, 159, 159]), array([150, 150, 151, ..., 150, 151, 152]))\n",
      "Percentage of 3D array occupied by support:\n",
      "0.007353315148578725\n",
      "\n",
      "/data/id01/inhouse/david/Pt_p2/50_Ar/S1408/pynxraw/S1408_pynx_norm_128_300_294_1_1_1-2020-12-22T16-40-29_Run0040_LLKf000.2488_LLK36668307781.2195_SupportThreshold0.12897.cxi\n",
      "All elements in mask array are equal to 1 : False\n",
      "Shape of support array (128, 300, 294)\n",
      "Shape of real space complex electronic density array (128, 300, 294)\n",
      "Maximum value in amplitude array: 28.53040313720703\n",
      "Indices where result == 1:\n",
      " (array([ 31,  31,  31, ..., 100, 100, 100]), array([142, 143, 144, ..., 152, 153, 153]), array([144, 143, 143, ..., 140, 138, 139]))\n",
      "Percentage of 3D array occupied by support:\n",
      "0.007673405851496345\n",
      "\n",
      "/data/id01/inhouse/david/Pt_p2/50_Ar/S1408/pynxraw/S1408_pynx_norm_128_300_294_1_1_1-2020-12-22T16-45-25_Run0048_LLKf000.2571_LLK11724853515.6250_SupportThreshold0.12259.cxi\n",
      "All elements in mask array are equal to 1 : True\n",
      "Shape of support array (128, 300, 294)\n",
      "Shape of real space complex electronic density array (128, 300, 294)\n",
      "Maximum value in amplitude array: 30.876781463623047\n",
      "Indices where result == 1:\n",
      " (array([ 29,  29,  29, ..., 100, 100, 100]), array([141, 142, 142, ..., 159, 160, 160]), array([167, 162, 163, ..., 140, 138, 139]))\n",
      "Percentage of 3D array occupied by support:\n",
      "0.0075012868630028135\n",
      "\n",
      "/data/id01/inhouse/david/Pt_p2/50_Ar/S1408/pynxraw/S1408_pynx_norm_128_300_294_1_1_1-2020-12-22T16-57-40_Run0065_LLKf000.1747_LLK000.1836_SupportThreshold0.19485.cxi\n",
      "All elements in mask array are equal to 1 : False\n",
      "Shape of support array (128, 300, 294)\n",
      "Shape of real space complex electronic density array (128, 300, 294)\n",
      "Maximum value in amplitude array: 33.30599594116211\n",
      "Indices where result == 1:\n",
      " (array([40, 41, 41, ..., 97, 97, 97]), array([145, 137, 137, ..., 167, 167, 167]), array([155, 158, 159, ..., 139, 140, 141]))\n",
      "Percentage of 3D array occupied by support:\n",
      "0.007620073252736937\n",
      "\n",
      "/data/id01/inhouse/david/Pt_p2/50_Ar/S1408/pynxraw/S1408_pynx_norm_128_300_294_1_1_1-2020-12-22T17-01-12_Run0069_LLKf000.1756_LLK000.1832_SupportThreshold0.19303.cxi\n",
      "All elements in mask array are equal to 1 : False\n",
      "Shape of support array (128, 300, 294)\n",
      "Shape of real space complex electronic density array (128, 300, 294)\n",
      "Maximum value in amplitude array: 32.37216567993164\n",
      "Indices where result == 1:\n",
      " (array([38, 38, 38, ..., 95, 95, 95]), array([139, 139, 139, ..., 164, 164, 164]), array([155, 156, 157, ..., 139, 140, 141]))\n",
      "Percentage of 3D array occupied by support:\n",
      "0.007579695327092128\n",
      "\n",
      "/data/id01/inhouse/david/Pt_p2/50_Ar/S1408/pynxraw/S1408_pynx_norm_128_300_294_1_1_1-2020-12-22T17-07-16_Run0078_LLKf000.2469_LLK11359636783.5999_SupportThreshold0.11963.cxi\n",
      "All elements in mask array are equal to 1 : True\n",
      "Shape of support array (128, 300, 294)\n",
      "Shape of real space complex electronic density array (128, 300, 294)\n",
      "Maximum value in amplitude array: 31.82692527770996\n",
      "Indices where result == 1:\n",
      " (array([37, 37, 37, ..., 99, 99, 99]), array([152, 152, 152, ..., 167, 167, 167]), array([152, 153, 154, ..., 137, 138, 139]))\n",
      "Percentage of 3D array occupied by support:\n",
      "0.006994623760456301\n",
      "\n",
      "/data/id01/inhouse/david/Pt_p2/50_Ar/S1408/pynxraw/S1408_pynx_norm_128_300_294_1_1_1-2020-12-22T17-13-26_Run0087_LLKf000.2418_LLK11815028190.6128_SupportThreshold0.12815.cxi\n",
      "All elements in mask array are equal to 1 : True\n",
      "Shape of support array (128, 300, 294)\n",
      "Shape of real space complex electronic density array (128, 300, 294)\n",
      "Maximum value in amplitude array: 33.39468002319336\n",
      "Indices where result == 1:\n",
      " (array([ 33,  33,  33, ..., 101, 101, 101]), array([150, 150, 150, ..., 162, 163, 163]), array([143, 144, 145, ..., 144, 143, 144]))\n",
      "Percentage of 3D array occupied by support:\n",
      "0.00662209612895063\n",
      "\n",
      "/data/id01/inhouse/david/Pt_p2/50_Ar/S1408/pynxraw/S1408_pynx_norm_128_300_294_1_1_1-2020-12-22T17-17-47_Run0093_LLKf000.2570_LLK98003501892.0898_SupportThreshold0.12931.cxi\n",
      "All elements in mask array are equal to 1 : False\n",
      "Shape of support array (128, 300, 294)\n",
      "Shape of real space complex electronic density array (128, 300, 294)\n",
      "Maximum value in amplitude array: 32.972347259521484\n",
      "Indices where result == 1:\n",
      " (array([34, 34, 34, ..., 96, 96, 96]), array([140, 141, 141, ..., 158, 158, 159]), array([160, 158, 159, ..., 157, 158, 157]))\n",
      "Percentage of 3D array occupied by support:\n",
      "0.006366541307640037\n",
      "\n",
      "\n",
      "\n",
      "Mask saved in /data/id01/inhouse/david/Pt_p2/50_Ar/S1408/pynxraw as mask_0.2.npz\n",
      "Indices where result == 1:\n",
      " (array([38, 38, 38, ..., 96, 96, 96]), array([139, 139, 139, ..., 161, 162, 163]), array([155, 156, 157, ..., 144, 138, 139]))\n",
      "Percentage of 3D array occupied by support:\n",
      "0.007756248957283457\n"
     ]
    }
   ],
   "source": [
    "%run -i /data/id01/inhouse/david/Scripts/create_mask"
   ]
  },
  {
   "cell_type": "markdown",
   "metadata": {},
   "source": [
    "<font color=#163e5a>\n",
    "    \n",
    "* Take an 'average', so at least half of the 10 good phase retrieval must have the point over the threshold to be in the support\n",
    "    \n",
    "* Need to smooth by convoluting with a gaussian, the edges look rough\n",
    "</font>"
   ]
  },
  {
   "cell_type": "markdown",
   "metadata": {},
   "source": [
    "<font color=#163e5a>\n",
    "\n",
    "**Check the .npz files again, a mask should be here**\n",
    "    \n",
    "* We can compare different threshold for the mask\n",
    "    \n",
    "</font>"
   ]
  },
  {
   "cell_type": "code",
   "execution_count": 10,
   "metadata": {},
   "outputs": [
    {
     "name": "stdout",
     "output_type": "stream",
     "text": [
      "mask_0.2.npz\n"
     ]
    }
   ],
   "source": [
    "%%bash\n",
    "ls mask*.npz"
   ]
  },
  {
   "cell_type": "markdown",
   "metadata": {},
   "source": [
    "<font color=#163e5a>\n",
    "\n",
    "Apply a gaussian convolution to the mask to avoid holes and discontinuity at the borders.\n",
    "    \n",
    "</font>"
   ]
  },
  {
   "cell_type": "code",
   "execution_count": 11,
   "metadata": {},
   "outputs": [
    {
     "name": "stdin",
     "output_type": "stream",
     "text": [
      "filename =  mask_0.2.npz\n",
      "sigma =  5\n",
      "threshold =  20\n"
     ]
    },
    {
     "name": "stdout",
     "output_type": "stream",
     "text": [
      "New mask saved as filter_sig5_t20_mask_0.2.npz\n"
     ]
    }
   ],
   "source": [
    "%run -i /data/id01/inhouse/david/Scripts/gaussian_filter_mask"
   ]
  },
  {
   "cell_type": "code",
   "execution_count": 1,
   "metadata": {},
   "outputs": [
    {
     "name": "stdin",
     "output_type": "stream",
     "text": [
      "Path to file from current folder:  filter_sig5_t20_mask_0.2.npz\n"
     ]
    },
    {
     "name": "stdout",
     "output_type": "stream",
     "text": [
      "Stored arrays :['oldmask', 'mask']\n"
     ]
    },
    {
     "data": {
      "application/vnd.jupyter.widget-view+json": {
       "model_id": "3a95d33176484484b110a2bf8e5dae76",
       "version_major": 2,
       "version_minor": 0
      },
      "text/plain": [
       "interactive(children=(Dropdown(description='Array used:', options=('oldmask', 'mask'), style=DescriptionStyle(…"
      ]
     },
     "metadata": {},
     "output_type": "display_data"
    }
   ],
   "source": [
    "%run -i /data/id01/inhouse/david/Scripts/plot_npz"
   ]
  },
  {
   "cell_type": "markdown",
   "metadata": {},
   "source": [
    "<font color=#163e5a>  \n",
    "    <h1>Create modes</h1>\n",
    "    <p>Only on lid01 because pynx package</p>\n",
    "</font>"
   ]
  },
  {
   "cell_type": "markdown",
   "metadata": {},
   "source": [
    "`python pynx-cdi-analysis.py S1398_pynx_norm_128_300_294_1_1_1-* modes=1`"
   ]
  },
  {
   "cell_type": "markdown",
   "metadata": {},
   "source": [
    "<font color=#163e5a>  \n",
    "    <h1>Launch strain analysis</h1>\n",
    "    <p>Only on lid01 because local bcdi package has problems, the window opens, I can click on a file but then nothing happens (for Jupyter) and it is blocked. In the command, it crashed after the 3rd figure but here I do not see the figure opening.</p>\n",
    "</font>"
   ]
  },
  {
   "cell_type": "markdown",
   "metadata": {},
   "source": [
    "`python D:/Documents/PythonScripts/PhDScripts/Pt_p2/pynxraw/strain.py`"
   ]
  },
  {
   "cell_type": "markdown",
   "metadata": {},
   "source": [
    "<font color=#163e5a>  \n",
    "    <h1>Check final data</h1>\n",
    "\n",
    "* `S1398_ampdispstrain_gap_iso0.2_mode_avg3_apodize_blackman_lab-frame.npz` is the reconstructed data in real space with detail on bulk (support), strain\n",
    "* `S1398_avg_obj_prtf_gap_iso0.2_mode_avg3_apodize_blackman.npz` is the electronic density of the object\n",
    "</font>"
   ]
  },
  {
   "cell_type": "code",
   "execution_count": 43,
   "metadata": {},
   "outputs": [
    {
     "name": "stdout",
     "output_type": "stream",
     "text": [
      "Path to file from current folder: Pt_p2/pynxraw/S1398_ampdispstrain_gap_iso0.2_mode_avg3_apodize_blackman_lab-frame.npz\n",
      "Stored arrays :['amp', 'displacement', 'bulk', 'strain']\n"
     ]
    },
    {
     "data": {
      "application/vnd.jupyter.widget-view+json": {
       "model_id": "e268b497e2434c8f8d0de424ec410f20",
       "version_major": 2,
       "version_minor": 0
      },
      "text/plain": [
       "interactive(children=(Dropdown(description='Array used:', options=('amp', 'displacement', 'bulk', 'strain'), s…"
      ]
     },
     "metadata": {},
     "output_type": "display_data"
    }
   ],
   "source": [
    "%run -i Scripts/PlotNPZ"
   ]
  }
 ],
 "metadata": {
  "kernelspec": {
   "display_name": "p9.widgets",
   "language": "python",
   "name": "p9.widgets"
  },
  "language_info": {
   "codemirror_mode": {
    "name": "ipython",
    "version": 3
   },
   "file_extension": ".py",
   "mimetype": "text/x-python",
   "name": "python",
   "nbconvert_exporter": "python",
   "pygments_lexer": "ipython3",
   "version": "3.8.5"
  }
 },
 "nbformat": 4,
 "nbformat_minor": 4
}
