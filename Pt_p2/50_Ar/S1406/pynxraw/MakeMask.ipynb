{
 "cells": [
  {
   "cell_type": "markdown",
   "metadata": {},
   "source": [
    "<font color=#163e5a>\n",
    "    <h1>Execute notebook with p9.widgets kernel</h1>\n",
    "</font>"
   ]
  },
  {
   "cell_type": "markdown",
   "metadata": {},
   "source": [
    "<font color=#163e5a>\n",
    "    <h1>Preprocess output</h1>\n",
    "\n",
    "\n",
    "**Two .npz files**\n",
    "* <a href = \"https://numpy.org/doc/stable/reference/generated/numpy.savez.html\" target = \"_blank\">Documentation</a>\n",
    "* the mask: S1398_maskpynx_norm_128_300_294_1_1_1.npz\n",
    "* the (normalised?) detector data: S1398_pynx_norm_128_300_294_1_1_1.npz\n",
    "    \n",
    "<h2>Find the .npz files</h2>\n",
    "</font>"
   ]
  },
  {
   "cell_type": "code",
   "execution_count": 1,
   "metadata": {},
   "outputs": [
    {
     "name": "stdout",
     "output_type": "stream",
     "text": [
      "S1406_maskpynx_norm_128_300_294_1_1_1.npz\n",
      "S1406_pynx_norm_128_300_294_1_1_1.npz\n"
     ]
    }
   ],
   "source": [
    "%%bash\n",
    "ls S1406*.npz"
   ]
  },
  {
   "cell_type": "code",
   "execution_count": 2,
   "metadata": {},
   "outputs": [
    {
     "name": "stdout",
     "output_type": "stream",
     "text": [
      "BCDI\n",
      "create_mask.py\n",
      "gaussian_filter_mask.py\n",
      "plot_cxi.py\n",
      "plot_npz.py\n",
      "PyNX\n",
      "README.md\n",
      "S1398_ampdispstrain_gap_iso0.2_mode_avg3_apodize_blackman_lab-frame.npz\n",
      "S1398_amp-disp-strain_gap_iso0.2_mode_avg3_apodize_blackman_lab-frame.vti\n",
      "S1398_avg_obj_prtf_gap_iso0.2_mode_avg3_apodize_blackman.npz\n"
     ]
    }
   ],
   "source": [
    "%%bash\n",
    "ls /data/id01/inhouse/david/Scripts/"
   ]
  },
  {
   "cell_type": "code",
   "execution_count": 4,
   "metadata": {},
   "outputs": [
    {
     "name": "stdin",
     "output_type": "stream",
     "text": [
      "Path to file from current folder:  S1406_pynx_norm_128_300_294_1_1_1.npz\n"
     ]
    },
    {
     "name": "stdout",
     "output_type": "stream",
     "text": [
      "Stored arrays :['data']\n"
     ]
    },
    {
     "data": {
      "application/vnd.jupyter.widget-view+json": {
       "model_id": "6a9687092739462a8c8c9ab54fa5b04a",
       "version_major": 2,
       "version_minor": 0
      },
      "text/plain": [
       "interactive(children=(Dropdown(description='Array used:', options=('data',), style=DescriptionStyle(descriptio…"
      ]
     },
     "metadata": {},
     "output_type": "display_data"
    }
   ],
   "source": [
    "%run -i /data/id01/inhouse/david/Scripts/plot_npz"
   ]
  },
  {
   "cell_type": "markdown",
   "metadata": {},
   "source": [
    "<font color=#163e5a>  \n",
    "    <h1>Run PyNX</h1>\n",
    "* On slurm (`source /data/id01/inhouse/richard/pynx-gap.p9/bin/activate`)\n",
    "* On lid01 (`source /sware/exp/pynx/devel.debian9/bin/activate`)\n",
    "    \n",
    "`python pynx-id01cdi.py pynx-cdi-input_100.txt` \n",
    "</font>"
   ]
  },
  {
   "cell_type": "markdown",
   "metadata": {},
   "source": [
    "<font color=#163e5a>  \n",
    "    <h1>Find the .cxi files</h1>\n",
    "    <a href = \"https://raw.githubusercontent.com/cxidb/CXI/master/cxi_file_format.pdf\" target = \"_blank\">Documentation</a>\n",
    "</font>"
   ]
  },
  {
   "cell_type": "code",
   "execution_count": 5,
   "metadata": {},
   "outputs": [
    {
     "name": "stdout",
     "output_type": "stream",
     "text": [
      "S1406_pynx_norm_128_300_294_1_1_1-2020-12-22T14-48-08_Run0005_LLKf000.2327_LLK10470912456.5125_SupportThreshold0.13284.cxi\n",
      "S1406_pynx_norm_128_300_294_1_1_1-2020-12-22T14-51-46_Run0013_LLKf000.2323_LLK9759708642.9596_SupportThreshold0.12291.cxi\n",
      "S1406_pynx_norm_128_300_294_1_1_1-2020-12-22T15-01-16_Run0027_LLKf000.2447_LLK9832724332.8094_SupportThreshold0.11711.cxi\n",
      "S1406_pynx_norm_128_300_294_1_1_1-2020-12-22T15-01-41_Run0028_LLKf000.2368_LLK10083626508.7128_SupportThreshold0.12326.cxi\n",
      "S1406_pynx_norm_128_300_294_1_1_1-2020-12-22T15-03-29_Run0031_LLKf000.2411_LLK9997524023.0560_SupportThreshold0.12192.cxi\n",
      "S1406_pynx_norm_128_300_294_1_1_1-2020-12-22T15-13-07_Run0048_LLKf000.2244_LLK11599699258.8043_SupportThreshold0.13188.cxi\n",
      "S1406_pynx_norm_128_300_294_1_1_1-2020-12-22T15-19-27_Run0059_LLKf000.2474_LLK9938840866.0889_SupportThreshold0.12395.cxi\n",
      "S1406_pynx_norm_128_300_294_1_1_1-2020-12-22T15-23-25_Run0066_LLKf000.2275_LLK10366835594.1772_SupportThreshold0.13098.cxi\n",
      "S1406_pynx_norm_128_300_294_1_1_1-2020-12-22T15-43-23_Run0092_LLKf000.2379_LLK9868516921.9971_SupportThreshold0.13061.cxi\n",
      "S1406_pynx_norm_128_300_294_1_1_1-2020-12-22T15-43-54_Run0093_LLKf000.2267_LLK9758049249.6490_SupportThreshold0.13073.cxi\n",
      "S1406_pynx_norm_128_300_294_1_1_1.cxi\n"
     ]
    }
   ],
   "source": [
    "%%bash\n",
    "ls *.cxi"
   ]
  },
  {
   "cell_type": "markdown",
   "metadata": {},
   "source": [
    "* The last .cxi file contains only the detector and the mask data, output of PyNX\n",
    "\n",
    "* All the other .cxi files are in real space and show the **complex** electronic density, they each are the output of the phase retrieval process. The image size in real space is also given.\n",
    "* The support is linked to the mask, seems that it must be a binary array (0 masks, 1 does not mask)\n",
    "* Free pixel mask is not the original .npz file ? Boolean array maybe fixes which pixels cannot be assigned to the recalculated intensity, final one ?\n",
    "* entry_last is just a link to entry_1, idk why, doubles data size ? not sure since just link"
   ]
  },
  {
   "cell_type": "markdown",
   "metadata": {},
   "source": [
    "<font color=#163e5a>  \n",
    "    <h1>Check one of the 10 good datasets</h1>\n",
    "    <p></p>\n",
    "</font>"
   ]
  },
  {
   "cell_type": "code",
   "execution_count": 7,
   "metadata": {},
   "outputs": [
    {
     "name": "stdin",
     "output_type": "stream",
     "text": [
      "Path to file from current folder:  S1406_pynx_norm_128_300_294_1_1_1-2020-12-22T14-48-08_Run0005_LLKf000.2327_LLK10470912456.5125_SupportThreshold0.13284.cxi\n"
     ]
    },
    {
     "name": "stdout",
     "output_type": "stream",
     "text": [
      "Data file architecture :\n",
      "\n",
      "S1406_pynx_norm_128_300_294_1_1_1-2020-12-22T14-48-08_Run0005_LLKf000.2327_LLK10470912456.5125_SupportThreshold0.13284.cxi (File) ''\n",
      "Last modif.: 'Tue Dec 22 18:16:22 2020'\n",
      "Object Tree: \n",
      "/ (RootGroup) ''\n",
      "/cxi_version (Array()) ''\n",
      "/entry_last (SoftLink) -> /entry_1\n",
      "/entry_1 (Group) ''\n",
      "/entry_1/program_name (UnImplemented()) ''\n",
      "/entry_1/start_time (UnImplemented()) ''\n",
      "/entry_1/data_1 (Group) ''\n",
      "/entry_1/data_1/data (SoftLink) -> /entry_1/image_1/data\n",
      "/entry_1/image_1 (Group) ''\n",
      "/entry_1/image_1/data (CArray(128, 300, 294), shuffle, zlib(4)) ''\n",
      "/entry_1/image_1/data_space (UnImplemented()) ''\n",
      "/entry_1/image_1/data_type (UnImplemented()) ''\n",
      "/entry_1/image_1/image_size (Array(3,)) ''\n",
      "/entry_1/image_1/mask (CArray(128, 300, 294), shuffle, zlib(4)) ''\n",
      "/entry_1/image_1/support (SoftLink) -> /entry_1/image_1/mask\n",
      "/entry_1/image_1/instrument_1 (Group) ''\n",
      "/entry_1/image_1/instrument_1/name (UnImplemented()) ''\n",
      "/entry_1/image_1/process_1 (Group) ''\n",
      "/entry_1/image_1/process_1/command (UnImplemented()) ''\n",
      "/entry_1/image_1/process_1/program (UnImplemented()) ''\n",
      "/entry_1/image_1/process_1/version (UnImplemented()) ''\n",
      "/entry_1/image_1/process_1/configuration (Group) ''\n",
      "/entry_1/image_1/process_1/configuration/auto_center_resize (Array()) ''\n",
      "/entry_1/image_1/process_1/configuration/beta (Array()) ''\n",
      "/entry_1/image_1/process_1/configuration/confidence_interval_factor_mask_max (Array()) ''\n",
      "/entry_1/image_1/process_1/configuration/confidence_interval_factor_mask_min (Array()) ''\n",
      "/entry_1/image_1/process_1/configuration/crop_output (Array()) ''\n",
      "/entry_1/image_1/process_1/configuration/data (UnImplemented()) ''\n",
      "/entry_1/image_1/process_1/configuration/data2cxi (Array()) ''\n",
      "/entry_1/image_1/process_1/configuration/detector_distance (Array()) ''\n",
      "/entry_1/image_1/process_1/configuration/detwin (Array()) ''\n",
      "/entry_1/image_1/process_1/configuration/fig_num (Array()) ''\n",
      "/entry_1/image_1/process_1/configuration/free_pixel_mask (CArray(128, 300, 294), shuffle, zlib(4)) ''\n",
      "/entry_1/image_1/process_1/configuration/gps_inertia (Array()) ''\n",
      "/entry_1/image_1/process_1/configuration/gps_s (Array()) ''\n",
      "/entry_1/image_1/process_1/configuration/gps_sigma_f (Array()) ''\n",
      "/entry_1/image_1/process_1/configuration/gps_sigma_o (Array()) ''\n",
      "/entry_1/image_1/process_1/configuration/gps_t (Array()) ''\n",
      "/entry_1/image_1/process_1/configuration/imgcounter (UnImplemented()) ''\n",
      "/entry_1/image_1/process_1/configuration/instrument (UnImplemented()) ''\n",
      "/entry_1/image_1/process_1/configuration/iobs_shape (Array(3,)) ''\n",
      "/entry_1/image_1/process_1/configuration/iobs_shape_orig (Array(3,)) ''\n",
      "/entry_1/image_1/process_1/configuration/live_plot (Array()) ''\n",
      "/entry_1/image_1/process_1/configuration/mask (UnImplemented()) ''\n",
      "/entry_1/image_1/process_1/configuration/mask_interp (Array(2,)) ''\n",
      "/entry_1/image_1/process_1/configuration/mpi (UnImplemented()) ''\n",
      "/entry_1/image_1/process_1/configuration/nb_er (Array()) ''\n",
      "/entry_1/image_1/process_1/configuration/nb_hio (Array()) ''\n",
      "/entry_1/image_1/process_1/configuration/nb_ml (Array()) ''\n",
      "/entry_1/image_1/process_1/configuration/nb_raar (Array()) ''\n",
      "/entry_1/image_1/process_1/configuration/nb_run (Array()) ''\n",
      "/entry_1/image_1/process_1/configuration/nb_run_keep (Array()) ''\n",
      "/entry_1/image_1/process_1/configuration/output_format (UnImplemented()) ''\n",
      "/entry_1/image_1/process_1/configuration/pixel_size_detector (Array()) ''\n",
      "/entry_1/image_1/process_1/configuration/positivity (Array()) ''\n",
      "/entry_1/image_1/process_1/configuration/psf (Array()) ''\n",
      "/entry_1/image_1/process_1/configuration/rebin (Array(3,)) ''\n",
      "/entry_1/image_1/process_1/configuration/roi_final (Array(6,)) ''\n",
      "/entry_1/image_1/process_1/configuration/save (UnImplemented()) ''\n",
      "/entry_1/image_1/process_1/configuration/support (UnImplemented()) ''\n",
      "/entry_1/image_1/process_1/configuration/support_autocorrelation_threshold (Array()) ''\n",
      "/entry_1/image_1/process_1/configuration/support_only_shrink (Array()) ''\n",
      "/entry_1/image_1/process_1/configuration/support_post_expand (Array(3,)) ''\n",
      "/entry_1/image_1/process_1/configuration/support_smooth_width_begin (Array()) ''\n",
      "/entry_1/image_1/process_1/configuration/support_smooth_width_end (Array()) ''\n",
      "/entry_1/image_1/process_1/configuration/support_smooth_width_relax_n (Array()) ''\n",
      "/entry_1/image_1/process_1/configuration/support_threshold (Array()) ''\n",
      "/entry_1/image_1/process_1/configuration/support_threshold_method (UnImplemented()) ''\n",
      "/entry_1/image_1/process_1/configuration/support_update_border_n (Array()) ''\n",
      "/entry_1/image_1/process_1/configuration/support_update_period (Array()) ''\n",
      "/entry_1/image_1/process_1/configuration/verbose (Array()) ''\n",
      "/entry_1/image_1/process_1/configuration/wavelength (Array()) ''\n",
      "/entry_1/image_1/process_1/configuration/zero_mask (UnImplemented()) ''\n",
      "/entry_1/image_1/process_1/note_1 (Group) ''\n",
      "/entry_1/image_1/process_1/note_1/data (UnImplemented()) ''\n",
      "/entry_1/image_1/process_1/note_1/description (UnImplemented()) ''\n",
      "/entry_1/image_1/process_1/note_1/type (UnImplemented()) ''\n",
      "/entry_1/image_1/process_1/results (Group) ''\n",
      "/entry_1/image_1/process_1/results/cycle_history (Table(1701,)) ''\n",
      "/entry_1/image_1/process_1/results/cycle_history_algorithm (Table(1700,)) ''\n",
      "/entry_1/image_1/process_1/results/cycle_history_dt (Table(16,)) ''\n",
      "/entry_1/image_1/process_1/results/cycle_history_epoch (Table(1701,)) ''\n",
      "/entry_1/image_1/process_1/results/cycle_history_llk_euclidian (Table(17,)) ''\n",
      "/entry_1/image_1/process_1/results/cycle_history_llk_euclidian_free (Table(17,)) ''\n",
      "/entry_1/image_1/process_1/results/cycle_history_llk_gaussian (Table(17,)) ''\n",
      "/entry_1/image_1/process_1/results/cycle_history_llk_gaussian_free (Table(17,)) ''\n",
      "/entry_1/image_1/process_1/results/cycle_history_llk_poisson (Table(17,)) ''\n",
      "/entry_1/image_1/process_1/results/cycle_history_llk_poisson_free (Table(17,)) ''\n",
      "/entry_1/image_1/process_1/results/cycle_history_nb_photons_calc (Table(17,)) ''\n",
      "/entry_1/image_1/process_1/results/cycle_history_obj_average (Table(86,)) ''\n",
      "/entry_1/image_1/process_1/results/cycle_history_obj_max (Table(85,)) ''\n",
      "/entry_1/image_1/process_1/results/cycle_history_support_size (Table(85,)) ''\n",
      "/entry_1/image_1/process_1/results/cycle_history_support_update_threshold (Table(85,)) ''\n",
      "/entry_1/image_1/process_1/results/cycle_history_time (Table(1701,)) ''\n",
      "/entry_1/image_1/process_1/results/free_llk_euclidian (Array()) ''\n",
      "/entry_1/image_1/process_1/results/free_llk_gaussian (Array()) ''\n",
      "/entry_1/image_1/process_1/results/free_llk_poisson (Array()) ''\n",
      "/entry_1/image_1/process_1/results/llk_euclidian (Array()) ''\n",
      "/entry_1/image_1/process_1/results/llk_gaussian (Array()) ''\n",
      "/entry_1/image_1/process_1/results/llk_poisson (Array()) ''\n",
      "/entry_1/image_1/process_1/results/nb_point_support (Array()) ''\n",
      "/entry_1/image_1/instrument_1/beam_1 (Group) ''\n",
      "/entry_1/image_1/instrument_1/beam_1/incident_energy (Array()) ''\n",
      "/entry_1/image_1/instrument_1/beam_1/incident_wavelength (Array()) ''\n",
      "/entry_1/image_1/instrument_1/detector_1 (Group) ''\n",
      "/entry_1/image_1/instrument_1/detector_1/distance (Array()) ''\n",
      "/entry_1/image_1/instrument_1/detector_1/x_pixel_size (Array()) ''\n",
      "/entry_1/image_1/instrument_1/detector_1/y_pixel_size (Array()) ''\n",
      "/entry_1/image_1/instrument_1/source_1 (Group) ''\n",
      "/entry_1/image_1/instrument_1/source_1/energy (Array()) ''\n",
      "\n"
     ]
    },
    {
     "data": {
      "application/vnd.jupyter.widget-view+json": {
       "model_id": "df7c752848614be2a66cbcc522253f71",
       "version_major": 2,
       "version_minor": 0
      },
      "text/plain": [
       "interactive(children=(Dropdown(description='First 2 axes:', index=1, options=('xy', 'yz', 'xz'), style=Descrip…"
      ]
     },
     "metadata": {},
     "output_type": "display_data"
    }
   ],
   "source": [
    "%run -i /data/id01/inhouse/david/Scripts/plot_cxi"
   ]
  },
  {
   "cell_type": "markdown",
   "metadata": {},
   "source": [
    "<font color=#163e5a>  \n",
    "    <h1>Try to extract a support determination from the 10 runs</h1>\n",
    "    <p>Becareful, if maximum is very high along one ax, then the threshold may completely overlook the values in other axes</p>\n",
    "</font>"
   ]
  },
  {
   "cell_type": "code",
   "execution_count": 9,
   "metadata": {},
   "outputs": [
    {
     "name": "stdout",
     "output_type": "stream",
     "text": [
      "/data/id01/inhouse/david/Pt_p2/50_Ar/S1406/pynxraw\n"
     ]
    }
   ],
   "source": [
    "%%bash\n",
    "pwd"
   ]
  },
  {
   "cell_type": "code",
   "execution_count": 8,
   "metadata": {},
   "outputs": [
    {
     "name": "stdout",
     "output_type": "stream",
     "text": [
      "S1406_pynx_norm_128_300_294_1_1_1-2020-12-22T14-48-08_Run0005_LLKf000.2327_LLK10470912456.5125_SupportThreshold0.13284.cxi\n",
      "S1406_pynx_norm_128_300_294_1_1_1-2020-12-22T14-51-46_Run0013_LLKf000.2323_LLK9759708642.9596_SupportThreshold0.12291.cxi\n",
      "S1406_pynx_norm_128_300_294_1_1_1-2020-12-22T15-01-16_Run0027_LLKf000.2447_LLK9832724332.8094_SupportThreshold0.11711.cxi\n",
      "S1406_pynx_norm_128_300_294_1_1_1-2020-12-22T15-01-41_Run0028_LLKf000.2368_LLK10083626508.7128_SupportThreshold0.12326.cxi\n",
      "S1406_pynx_norm_128_300_294_1_1_1-2020-12-22T15-03-29_Run0031_LLKf000.2411_LLK9997524023.0560_SupportThreshold0.12192.cxi\n",
      "S1406_pynx_norm_128_300_294_1_1_1-2020-12-22T15-13-07_Run0048_LLKf000.2244_LLK11599699258.8043_SupportThreshold0.13188.cxi\n",
      "S1406_pynx_norm_128_300_294_1_1_1-2020-12-22T15-19-27_Run0059_LLKf000.2474_LLK9938840866.0889_SupportThreshold0.12395.cxi\n",
      "S1406_pynx_norm_128_300_294_1_1_1-2020-12-22T15-23-25_Run0066_LLKf000.2275_LLK10366835594.1772_SupportThreshold0.13098.cxi\n",
      "S1406_pynx_norm_128_300_294_1_1_1-2020-12-22T15-43-23_Run0092_LLKf000.2379_LLK9868516921.9971_SupportThreshold0.13061.cxi\n",
      "S1406_pynx_norm_128_300_294_1_1_1-2020-12-22T15-43-54_Run0093_LLKf000.2267_LLK9758049249.6490_SupportThreshold0.13073.cxi\n",
      "S1406_pynx_norm_128_300_294_1_1_1.cxi\n"
     ]
    }
   ],
   "source": [
    "%%bash\n",
    "ls *.cxi"
   ]
  },
  {
   "cell_type": "code",
   "execution_count": 10,
   "metadata": {},
   "outputs": [
    {
     "name": "stdout",
     "output_type": "stream",
     "text": [
      "Example of used files : Pt_p2/pynxraw/S1398_pynx_norm_128_300_294_1_1_1-2020*cxi\n",
      "Example of folder : Pt_p2/pynxraw\n",
      "Example of file name : S1398_pynx_norm_128_300_294_1_1_1-2020\n"
     ]
    },
    {
     "name": "stdin",
     "output_type": "stream",
     "text": [
      "\n",
      "Please write your folder like in the example:  /data/id01/inhouse/david/Pt_p2/50_Ar/S1406/pynxraw\n",
      "Please write your file name like in the example:  S1406_pynx_norm_128_300_294_1_1_1-2020\n"
     ]
    },
    {
     "name": "stdout",
     "output_type": "stream",
     "text": [
      "\n",
      "Used files: ['/data/id01/inhouse/david/Pt_p2/50_Ar/S1406/pynxraw/S1406_pynx_norm_128_300_294_1_1_1-2020-12-22T14-48-08_Run0005_LLKf000.2327_LLK10470912456.5125_SupportThreshold0.13284.cxi', '/data/id01/inhouse/david/Pt_p2/50_Ar/S1406/pynxraw/S1406_pynx_norm_128_300_294_1_1_1-2020-12-22T14-51-46_Run0013_LLKf000.2323_LLK9759708642.9596_SupportThreshold0.12291.cxi', '/data/id01/inhouse/david/Pt_p2/50_Ar/S1406/pynxraw/S1406_pynx_norm_128_300_294_1_1_1-2020-12-22T15-01-16_Run0027_LLKf000.2447_LLK9832724332.8094_SupportThreshold0.11711.cxi', '/data/id01/inhouse/david/Pt_p2/50_Ar/S1406/pynxraw/S1406_pynx_norm_128_300_294_1_1_1-2020-12-22T15-01-41_Run0028_LLKf000.2368_LLK10083626508.7128_SupportThreshold0.12326.cxi', '/data/id01/inhouse/david/Pt_p2/50_Ar/S1406/pynxraw/S1406_pynx_norm_128_300_294_1_1_1-2020-12-22T15-03-29_Run0031_LLKf000.2411_LLK9997524023.0560_SupportThreshold0.12192.cxi', '/data/id01/inhouse/david/Pt_p2/50_Ar/S1406/pynxraw/S1406_pynx_norm_128_300_294_1_1_1-2020-12-22T15-13-07_Run0048_LLKf000.2244_LLK11599699258.8043_SupportThreshold0.13188.cxi', '/data/id01/inhouse/david/Pt_p2/50_Ar/S1406/pynxraw/S1406_pynx_norm_128_300_294_1_1_1-2020-12-22T15-19-27_Run0059_LLKf000.2474_LLK9938840866.0889_SupportThreshold0.12395.cxi', '/data/id01/inhouse/david/Pt_p2/50_Ar/S1406/pynxraw/S1406_pynx_norm_128_300_294_1_1_1-2020-12-22T15-23-25_Run0066_LLKf000.2275_LLK10366835594.1772_SupportThreshold0.13098.cxi', '/data/id01/inhouse/david/Pt_p2/50_Ar/S1406/pynxraw/S1406_pynx_norm_128_300_294_1_1_1-2020-12-22T15-43-23_Run0092_LLKf000.2379_LLK9868516921.9971_SupportThreshold0.13061.cxi', '/data/id01/inhouse/david/Pt_p2/50_Ar/S1406/pynxraw/S1406_pynx_norm_128_300_294_1_1_1-2020-12-22T15-43-54_Run0093_LLKf000.2267_LLK9758049249.6490_SupportThreshold0.13073.cxi']\n"
     ]
    },
    {
     "name": "stdin",
     "output_type": "stream",
     "text": [
      "\n",
      "Threshold value (int from 1 to 100):  20\n",
      "\n",
      "Amount of .cxi files,  between the N files that were kept, for which the threshold must be respected:  5\n"
     ]
    },
    {
     "name": "stdout",
     "output_type": "stream",
     "text": [
      "\n",
      "/data/id01/inhouse/david/Pt_p2/50_Ar/S1406/pynxraw/S1406_pynx_norm_128_300_294_1_1_1-2020-12-22T14-48-08_Run0005_LLKf000.2327_LLK10470912456.5125_SupportThreshold0.13284.cxi\n",
      "All elements in mask array are equal to 1 : False\n",
      "Shape of support array (128, 300, 294)\n",
      "Shape of real space complex electronic density array (128, 300, 294)\n",
      "Maximum value in amplitude array: 31.592086791992188\n",
      "Indices where result == 1:\n",
      " (array([29, 29, 29, ..., 97, 99, 99]), array([138, 138, 139, ..., 156, 152, 152]), array([160, 161, 159, ..., 135, 142, 143]))\n",
      "Percentage of 3D array occupied by support:\n",
      "0.005467031046341738\n",
      "\n",
      "/data/id01/inhouse/david/Pt_p2/50_Ar/S1406/pynxraw/S1406_pynx_norm_128_300_294_1_1_1-2020-12-22T14-51-46_Run0013_LLKf000.2323_LLK9759708642.9596_SupportThreshold0.12291.cxi\n",
      "All elements in mask array are equal to 1 : True\n",
      "Shape of support array (128, 300, 294)\n",
      "Shape of real space complex electronic density array (128, 300, 294)\n",
      "Maximum value in amplitude array: 32.821407318115234\n",
      "Indices where result == 1:\n",
      " (array([35, 35, 35, ..., 91, 91, 91]), array([144, 144, 145, ..., 164, 164, 164]), array([156, 157, 153, ..., 138, 139, 140]))\n",
      "Percentage of 3D array occupied by support:\n",
      "0.005384026669179177\n",
      "\n",
      "/data/id01/inhouse/david/Pt_p2/50_Ar/S1406/pynxraw/S1406_pynx_norm_128_300_294_1_1_1-2020-12-22T15-01-16_Run0027_LLKf000.2447_LLK9832724332.8094_SupportThreshold0.11711.cxi\n",
      "All elements in mask array are equal to 1 : True\n",
      "Shape of support array (128, 300, 294)\n",
      "Shape of real space complex electronic density array (128, 300, 294)\n",
      "Maximum value in amplitude array: 28.180879592895508\n",
      "Indices where result == 1:\n",
      " (array([29, 30, 30, ..., 96, 96, 96]), array([142, 142, 142, ..., 144, 144, 145]), array([142, 139, 140, ..., 138, 139, 138]))\n",
      "Percentage of 3D array occupied by support:\n",
      "0.006079107532546787\n",
      "\n",
      "/data/id01/inhouse/david/Pt_p2/50_Ar/S1406/pynxraw/S1406_pynx_norm_128_300_294_1_1_1-2020-12-22T15-01-41_Run0028_LLKf000.2368_LLK10083626508.7128_SupportThreshold0.12326.cxi\n",
      "All elements in mask array are equal to 1 : True\n",
      "Shape of support array (128, 300, 294)\n",
      "Shape of real space complex electronic density array (128, 300, 294)\n",
      "Maximum value in amplitude array: 30.92820167541504\n",
      "Indices where result == 1:\n",
      " (array([32, 32, 32, ..., 92, 92, 92]), array([140, 140, 140, ..., 157, 157, 158]), array([151, 152, 153, ..., 155, 156, 155]))\n",
      "Percentage of 3D array occupied by support:\n",
      "0.005748470410838308\n",
      "\n",
      "/data/id01/inhouse/david/Pt_p2/50_Ar/S1406/pynxraw/S1406_pynx_norm_128_300_294_1_1_1-2020-12-22T15-03-29_Run0031_LLKf000.2411_LLK9997524023.0560_SupportThreshold0.12192.cxi\n",
      "All elements in mask array are equal to 1 : True\n",
      "Shape of support array (128, 300, 294)\n",
      "Shape of real space complex electronic density array (128, 300, 294)\n",
      "Maximum value in amplitude array: 32.2773551940918\n",
      "Indices where result == 1:\n",
      " (array([38, 38, 38, ..., 97, 97, 97]), array([149, 149, 149, ..., 154, 154, 154]), array([139, 140, 141, ..., 131, 132, 133]))\n",
      "Percentage of 3D array occupied by support:\n",
      "0.005454404901305231\n",
      "\n",
      "/data/id01/inhouse/david/Pt_p2/50_Ar/S1406/pynxraw/S1406_pynx_norm_128_300_294_1_1_1-2020-12-22T15-13-07_Run0048_LLKf000.2244_LLK11599699258.8043_SupportThreshold0.13188.cxi\n",
      "All elements in mask array are equal to 1 : False\n",
      "Shape of support array (128, 300, 294)\n",
      "Shape of real space complex electronic density array (128, 300, 294)\n",
      "Maximum value in amplitude array: 35.0454216003418\n",
      "Indices where result == 1:\n",
      " (array([39, 39, 39, ..., 97, 97, 97]), array([143, 143, 143, ..., 158, 158, 158]), array([157, 158, 159, ..., 137, 138, 139]))\n",
      "Percentage of 3D array occupied by support:\n",
      "0.005139928181142426\n",
      "\n",
      "/data/id01/inhouse/david/Pt_p2/50_Ar/S1406/pynxraw/S1406_pynx_norm_128_300_294_1_1_1-2020-12-22T15-19-27_Run0059_LLKf000.2474_LLK9938840866.0889_SupportThreshold0.12395.cxi\n",
      "All elements in mask array are equal to 1 : True\n",
      "Shape of support array (128, 300, 294)\n",
      "Shape of real space complex electronic density array (128, 300, 294)\n",
      "Maximum value in amplitude array: 30.705562591552734\n",
      "Indices where result == 1:\n",
      " (array([32, 32, 32, ..., 99, 99, 99]), array([138, 139, 139, ..., 155, 155, 155]), array([156, 156, 157, ..., 134, 135, 136]))\n",
      "Percentage of 3D array occupied by support:\n",
      "0.005995105647040394\n",
      "\n",
      "/data/id01/inhouse/david/Pt_p2/50_Ar/S1406/pynxraw/S1406_pynx_norm_128_300_294_1_1_1-2020-12-22T15-23-25_Run0066_LLKf000.2275_LLK10366835594.1772_SupportThreshold0.13098.cxi\n",
      "All elements in mask array are equal to 1 : False\n",
      "Shape of support array (128, 300, 294)\n",
      "Shape of real space complex electronic density array (128, 300, 294)\n",
      "Maximum value in amplitude array: 35.08797836303711\n",
      "Indices where result == 1:\n",
      " (array([34, 34, 34, ..., 96, 96, 96]), array([144, 145, 146, ..., 158, 158, 159]), array([150, 148, 149, ..., 131, 132, 131]))\n",
      "Percentage of 3D array occupied by support:\n",
      "0.004916879124956095\n",
      "\n",
      "/data/id01/inhouse/david/Pt_p2/50_Ar/S1406/pynxraw/S1406_pynx_norm_128_300_294_1_1_1-2020-12-22T15-43-23_Run0092_LLKf000.2379_LLK9868516921.9971_SupportThreshold0.13061.cxi\n",
      "All elements in mask array are equal to 1 : True\n",
      "Shape of support array (128, 300, 294)\n",
      "Shape of real space complex electronic density array (128, 300, 294)\n",
      "Maximum value in amplitude array: 33.49770736694336\n",
      "Indices where result == 1:\n",
      " (array([31, 31, 31, ..., 87, 87, 87]), array([138, 138, 138, ..., 155, 156, 156]), array([151, 152, 153, ..., 140, 137, 138]))\n",
      "Percentage of 3D array occupied by support:\n",
      "0.005165880950487906\n",
      "\n",
      "/data/id01/inhouse/david/Pt_p2/50_Ar/S1406/pynxraw/S1406_pynx_norm_128_300_294_1_1_1-2020-12-22T15-43-54_Run0093_LLKf000.2267_LLK9758049249.6490_SupportThreshold0.13073.cxi\n",
      "All elements in mask array are equal to 1 : False\n",
      "Shape of support array (128, 300, 294)\n",
      "Shape of real space complex electronic density array (128, 300, 294)\n",
      "Maximum value in amplitude array: 36.91271209716797\n",
      "Indices where result == 1:\n",
      " (array([34, 34, 34, ..., 93, 93, 93]), array([137, 138, 138, ..., 150, 154, 155]), array([151, 150, 151, ..., 141, 145, 145]))\n",
      "Percentage of 3D array occupied by support:\n",
      "0.004598536989311725\n",
      "\n",
      "\n",
      "\n",
      "Mask saved in /data/id01/inhouse/david/Pt_p2/50_Ar/S1406/pynxraw as mask_0.2.npz\n",
      "Indices where result == 1:\n",
      " (array([36, 36, 36, ..., 94, 94, 94]), array([143, 144, 144, ..., 156, 156, 157]), array([158, 158, 159, ..., 136, 137, 136]))\n",
      "Percentage of 3D array occupied by support:\n",
      "0.0057249065863151\n"
     ]
    }
   ],
   "source": [
    "%run -i /data/id01/inhouse/david/Scripts/create_mask"
   ]
  },
  {
   "cell_type": "markdown",
   "metadata": {},
   "source": [
    "<font color=#163e5a>\n",
    "    \n",
    "* Take an 'average', so at least half of the 10 good phase retrieval must have the point over the threshold to be in the support\n",
    "    \n",
    "* Need to smooth by convoluting with a gaussian, the edges look rough\n",
    "</font>"
   ]
  },
  {
   "cell_type": "markdown",
   "metadata": {},
   "source": [
    "<font color=#163e5a>\n",
    "\n",
    "**Check the .npz files again, a mask should be here**\n",
    "    \n",
    "* We can compare different threshold for the mask\n",
    "    \n",
    "</font>"
   ]
  },
  {
   "cell_type": "code",
   "execution_count": 11,
   "metadata": {},
   "outputs": [
    {
     "name": "stdout",
     "output_type": "stream",
     "text": [
      "mask_0.2.npz\n"
     ]
    }
   ],
   "source": [
    "%%bash\n",
    "ls mask*.npz"
   ]
  },
  {
   "cell_type": "markdown",
   "metadata": {},
   "source": [
    "<font color=#163e5a>\n",
    "\n",
    "Apply a gaussian convolution to the mask to avoid holes and discontinuity at the borders.\n",
    "    \n",
    "</font>"
   ]
  },
  {
   "cell_type": "code",
   "execution_count": 13,
   "metadata": {},
   "outputs": [
    {
     "name": "stdin",
     "output_type": "stream",
     "text": [
      "filename =  mask_0.2.npz\n",
      "sigma =  5\n",
      "threshold =  20\n"
     ]
    },
    {
     "name": "stdout",
     "output_type": "stream",
     "text": [
      "New mask saved as filter_sig5_t20_mask_0.2.npz\n"
     ]
    }
   ],
   "source": [
    "%run -i /data/id01/inhouse/david/Scripts/gaussian_filter_mask"
   ]
  },
  {
   "cell_type": "code",
   "execution_count": 14,
   "metadata": {},
   "outputs": [
    {
     "name": "stdin",
     "output_type": "stream",
     "text": [
      "Path to file from current folder:  filter_sig5_t20_mask_0.2.npz\n"
     ]
    },
    {
     "name": "stdout",
     "output_type": "stream",
     "text": [
      "Stored arrays :['oldmask', 'mask']\n"
     ]
    },
    {
     "data": {
      "application/vnd.jupyter.widget-view+json": {
       "model_id": "62ea0897e7e64270ae0bfc53ea114718",
       "version_major": 2,
       "version_minor": 0
      },
      "text/plain": [
       "interactive(children=(Dropdown(description='Array used:', options=('oldmask', 'mask'), style=DescriptionStyle(…"
      ]
     },
     "metadata": {},
     "output_type": "display_data"
    }
   ],
   "source": [
    "%run -i /data/id01/inhouse/david/Scripts/plot_npz"
   ]
  },
  {
   "cell_type": "markdown",
   "metadata": {},
   "source": [
    "<font color=#163e5a>  \n",
    "    <h1>Create modes</h1>\n",
    "    <p>Only on lid01 because pynx package</p>\n",
    "</font>"
   ]
  },
  {
   "cell_type": "markdown",
   "metadata": {},
   "source": [
    "`python pynx-cdi-analysis.py S1398_pynx_norm_128_300_294_1_1_1-* modes=1`"
   ]
  },
  {
   "cell_type": "markdown",
   "metadata": {},
   "source": [
    "<font color=#163e5a>  \n",
    "    <h1>Launch strain analysis</h1>\n",
    "    <p>Only on lid01 because local bcdi package has problems, the window opens, I can click on a file but then nothing happens (for Jupyter) and it is blocked. In the command, it crashed after the 3rd figure but here I do not see the figure opening.</p>\n",
    "</font>"
   ]
  },
  {
   "cell_type": "markdown",
   "metadata": {},
   "source": [
    "`python D:/Documents/PythonScripts/PhDScripts/Pt_p2/pynxraw/strain.py`"
   ]
  },
  {
   "cell_type": "markdown",
   "metadata": {},
   "source": [
    "<font color=#163e5a>  \n",
    "    <h1>Check final data</h1>\n",
    "\n",
    "* `S1398_ampdispstrain_gap_iso0.2_mode_avg3_apodize_blackman_lab-frame.npz` is the reconstructed data in real space with detail on bulk (support), strain\n",
    "* `S1398_avg_obj_prtf_gap_iso0.2_mode_avg3_apodize_blackman.npz` is the electronic density of the object\n",
    "</font>"
   ]
  },
  {
   "cell_type": "code",
   "execution_count": 43,
   "metadata": {},
   "outputs": [
    {
     "name": "stdout",
     "output_type": "stream",
     "text": [
      "Path to file from current folder: Pt_p2/pynxraw/S1398_ampdispstrain_gap_iso0.2_mode_avg3_apodize_blackman_lab-frame.npz\n",
      "Stored arrays :['amp', 'displacement', 'bulk', 'strain']\n"
     ]
    },
    {
     "data": {
      "application/vnd.jupyter.widget-view+json": {
       "model_id": "e268b497e2434c8f8d0de424ec410f20",
       "version_major": 2,
       "version_minor": 0
      },
      "text/plain": [
       "interactive(children=(Dropdown(description='Array used:', options=('amp', 'displacement', 'bulk', 'strain'), s…"
      ]
     },
     "metadata": {},
     "output_type": "display_data"
    }
   ],
   "source": [
    "%run -i Scripts/PlotNPZ"
   ]
  }
 ],
 "metadata": {
  "kernelspec": {
   "display_name": "p9.widgets",
   "language": "python",
   "name": "p9.widgets"
  },
  "language_info": {
   "codemirror_mode": {
    "name": "ipython",
    "version": 3
   },
   "file_extension": ".py",
   "mimetype": "text/x-python",
   "name": "python",
   "nbconvert_exporter": "python",
   "pygments_lexer": "ipython3",
   "version": "3.8.5"
  }
 },
 "nbformat": 4,
 "nbformat_minor": 4
}
