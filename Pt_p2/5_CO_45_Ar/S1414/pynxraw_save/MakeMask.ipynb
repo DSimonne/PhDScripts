{
 "cells": [
  {
   "cell_type": "markdown",
   "metadata": {},
   "source": [
    "<font color=#163e5a>\n",
    "    <h1>Execute notebook with p9.widgets kernel</h1>\n",
    "</font>"
   ]
  },
  {
   "cell_type": "markdown",
   "metadata": {},
   "source": [
    "<font color=#163e5a>\n",
    "    <h1>Preprocess output</h1>\n",
    "\n",
    "\n",
    "**Two .npz files**\n",
    "* <a href = \"https://numpy.org/doc/stable/reference/generated/numpy.savez.html\" target = \"_blank\">Documentation</a>\n",
    "* the mask: S1398_maskpynx_norm_128_300_294_1_1_1.npz\n",
    "* the (normalised?) detector data: S1398_pynx_norm_128_300_294_1_1_1.npz\n",
    "    \n",
    "<h2>Find the .npz files</h2>\n",
    "</font>"
   ]
  },
  {
   "cell_type": "code",
   "execution_count": 1,
   "metadata": {},
   "outputs": [
    {
     "name": "stdout",
     "output_type": "stream",
     "text": [
      "S1399_maskpynx_norm_128_300_294_1_1_1.npz\n",
      "S1399_pynx_norm_128_300_294_1_1_1.npz\n"
     ]
    }
   ],
   "source": [
    "%%bash\n",
    "ls *.npz"
   ]
  },
  {
   "cell_type": "code",
   "execution_count": 16,
   "metadata": {},
   "outputs": [
    {
     "name": "stdout",
     "output_type": "stream",
     "text": [
      "BCDI\n",
      "create_mask.py\n",
      "gaussian_filter_mask.py\n",
      "plot_cxi.py\n",
      "plot_npz.py\n",
      "PyNX\n",
      "README.md\n"
     ]
    }
   ],
   "source": [
    "%%bash\n",
    "ls /data/id01/inhouse/david/Scripts/"
   ]
  },
  {
   "cell_type": "markdown",
   "metadata": {},
   "source": [
    "<font color=#163e5a>\n",
    "    <h1>Check the quality of `preprocess_bcdi.py` input</h1>\n",
    "<font>"
   ]
  },
  {
   "cell_type": "code",
   "execution_count": 1,
   "metadata": {},
   "outputs": [
    {
     "name": "stdout",
     "output_type": "stream",
     "text": [
      "Path to file from current folder: S1404_ampdispstrain_gap_iso0.2_mode_avg3_apodize_blackman_lab-frame.npz\n",
      "Stored arrays :['amp', 'displacement', 'bulk', 'strain']\n"
     ]
    },
    {
     "data": {
      "application/vnd.jupyter.widget-view+json": {
       "model_id": "6d9e9d178de1450ba965f93d77fcd5a0",
       "version_major": 2,
       "version_minor": 0
      },
      "text/plain": [
       "interactive(children=(Dropdown(description='Array used:', options=('amp', 'displacement', 'bulk', 'strain'), s…"
      ]
     },
     "metadata": {},
     "output_type": "display_data"
    }
   ],
   "source": [
    "%run -i /data/id01/inhouse/david/Scripts/plot_npz"
   ]
  },
  {
   "cell_type": "markdown",
   "metadata": {},
   "source": [
    "<font color=#163e5a>  \n",
    "    <h1>Run PyNX</h1>\n",
    "* On slurm (`source /data/id01/inhouse/richard/pynx-gap.p9/bin/activate`)\n",
    "* On lid01 (`source /sware/exp/pynx/devel.debian9/bin/activate`)\n",
    "    \n",
    "`python pynx-id01cdi.py pynx-cdi-input_100.txt` \n",
    "</font>"
   ]
  },
  {
   "cell_type": "markdown",
   "metadata": {},
   "source": [
    "<font color=#163e5a>  \n",
    "    <h1>Create modes</h1>\n",
    "    <p>Only on lid01 because pynx package</p>\n",
    "</font>"
   ]
  },
  {
   "cell_type": "markdown",
   "metadata": {},
   "source": [
    "`python pynx-cdi-analysis.py <scan_nb>_pynx_norm_128_300_294_1_1_1-* modes=1`"
   ]
  },
  {
   "cell_type": "markdown",
   "metadata": {},
   "source": [
    "<font color=#163e5a>  \n",
    "    <h1>Find the .cxi files</h1>\n",
    "    <a href = \"https://raw.githubusercontent.com/cxidb/CXI/master/cxi_file_format.pdf\" target = \"_blank\">Documentation</a>\n",
    "</font>"
   ]
  },
  {
   "cell_type": "code",
   "execution_count": 5,
   "metadata": {},
   "outputs": [
    {
     "name": "stdout",
     "output_type": "stream",
     "text": [
      "S1414_pynx_norm_128_300_294_1_1_1-2021-01-13T09-23-38_Run0003_LLKf000.1858_LLK000.1722_SupportThreshold0.29151.cxi\n",
      "S1414_pynx_norm_128_300_294_1_1_1-2021-01-13T10-00-22_Run0028_LLKf000.1875_LLK000.1729_SupportThreshold0.27689.cxi\n",
      "S1414_pynx_norm_128_300_294_1_1_1-2021-01-13T10-19-49_Run0041_LLKf000.1860_LLK000.1724_SupportThreshold0.28887.cxi\n",
      "S1414_pynx_norm_128_300_294_1_1_1-2021-01-13T10-35-59_Run0052_LLKf000.1857_LLK000.1718_SupportThreshold0.29256.cxi\n",
      "S1414_pynx_norm_128_300_294_1_1_1-2021-01-13T10-41-56_Run0056_LLKf000.1864_LLK000.1722_SupportThreshold0.28526.cxi\n",
      "S1414_pynx_norm_128_300_294_1_1_1-2021-01-13T11-07-20_Run0073_LLKf000.1859_LLK000.1717_SupportThreshold0.29464.cxi\n",
      "S1414_pynx_norm_128_300_294_1_1_1-2021-01-13T11-14-55_Run0078_LLKf000.1874_LLK000.1733_SupportThreshold0.27221.cxi\n",
      "S1414_pynx_norm_128_300_294_1_1_1-2021-01-13T11-39-37_Run0095_LLKf000.1863_LLK000.1721_SupportThreshold0.29030.cxi\n",
      "S1414_pynx_norm_128_300_294_1_1_1.cxi\n"
     ]
    }
   ],
   "source": [
    "%%bash\n",
    "ls *.cxi"
   ]
  },
  {
   "cell_type": "markdown",
   "metadata": {},
   "source": [
    "* The last .cxi file contains only the detector and the mask data, output of PyNX\n",
    "\n",
    "* All the other .cxi files are in real space and show the **complex** electronic density, they each are the output of the phase retrieval process. The image size in real space is also given.\n",
    "* The support is linked to the mask, seems that it must be a binary array (0 masks, 1 does not mask)\n",
    "* Free pixel mask is used to compute the log likelihood criteria\n",
    "* entry_last is just a link to entry_1\n",
    "* use mask to find if the support is well defined"
   ]
  },
  {
   "cell_type": "markdown",
   "metadata": {},
   "source": [
    "<font color=#163e5a>  \n",
    "    <h1>Check the 10 datasets</h1>\n",
    "    <p></p>\n",
    "</font>"
   ]
  },
  {
   "cell_type": "code",
   "execution_count": 12,
   "metadata": {},
   "outputs": [
    {
     "name": "stdin",
     "output_type": "stream",
     "text": [
      "Path to file from current folder:  S1414_pynx_norm_128_300_294_1_1_1-2021-01-13T11-39-37_Run0095_LLKf000.1863_LLK000.1721_SupportThreshold0.29030.cxi\n"
     ]
    },
    {
     "name": "stdout",
     "output_type": "stream",
     "text": [
      "Data file architecture :\n",
      "\n",
      "S1414_pynx_norm_128_300_294_1_1_1-2021-01-13T11-39-37_Run0095_LLKf000.1863_LLK000.1721_SupportThreshold0.29030.cxi (File) ''\n",
      "Last modif.: 'Wed Jan 13 11:40:44 2021'\n",
      "Object Tree: \n",
      "/ (RootGroup) ''\n",
      "/cxi_version (Array()) ''\n",
      "/entry_last (SoftLink) -> /entry_1\n",
      "/entry_1 (Group) ''\n",
      "/entry_1/program_name (UnImplemented()) ''\n",
      "/entry_1/start_time (UnImplemented()) ''\n",
      "/entry_1/data_1 (Group) ''\n",
      "/entry_1/data_1/data (SoftLink) -> /entry_1/image_1/data\n",
      "/entry_1/image_1 (Group) ''\n",
      "/entry_1/image_1/data (CArray(128, 300, 294), shuffle, zlib(4)) ''\n",
      "/entry_1/image_1/data_space (UnImplemented()) ''\n",
      "/entry_1/image_1/data_type (UnImplemented()) ''\n",
      "/entry_1/image_1/image_size (Array(3,)) ''\n",
      "/entry_1/image_1/mask (CArray(128, 300, 294), shuffle, zlib(4)) ''\n",
      "/entry_1/image_1/support (SoftLink) -> /entry_1/image_1/mask\n",
      "/entry_1/image_1/instrument_1 (Group) ''\n",
      "/entry_1/image_1/instrument_1/name (UnImplemented()) ''\n",
      "/entry_1/image_1/process_1 (Group) ''\n",
      "/entry_1/image_1/process_1/command (UnImplemented()) ''\n",
      "/entry_1/image_1/process_1/program (UnImplemented()) ''\n",
      "/entry_1/image_1/process_1/version (UnImplemented()) ''\n",
      "/entry_1/image_1/process_1/configuration (Group) ''\n",
      "/entry_1/image_1/process_1/configuration/auto_center_resize (Array()) ''\n",
      "/entry_1/image_1/process_1/configuration/beta (Array()) ''\n",
      "/entry_1/image_1/process_1/configuration/confidence_interval_factor_mask_max (Array()) ''\n",
      "/entry_1/image_1/process_1/configuration/confidence_interval_factor_mask_min (Array()) ''\n",
      "/entry_1/image_1/process_1/configuration/crop_output (Array()) ''\n",
      "/entry_1/image_1/process_1/configuration/data (UnImplemented()) ''\n",
      "/entry_1/image_1/process_1/configuration/data2cxi (Array()) ''\n",
      "/entry_1/image_1/process_1/configuration/detector_distance (Array()) ''\n",
      "/entry_1/image_1/process_1/configuration/detwin (Array()) ''\n",
      "/entry_1/image_1/process_1/configuration/fig_num (Array()) ''\n",
      "/entry_1/image_1/process_1/configuration/free_pixel_mask (CArray(128, 300, 294), shuffle, zlib(4)) ''\n",
      "/entry_1/image_1/process_1/configuration/gps_inertia (Array()) ''\n",
      "/entry_1/image_1/process_1/configuration/gps_s (Array()) ''\n",
      "/entry_1/image_1/process_1/configuration/gps_sigma_f (Array()) ''\n",
      "/entry_1/image_1/process_1/configuration/gps_sigma_o (Array()) ''\n",
      "/entry_1/image_1/process_1/configuration/gps_t (Array()) ''\n",
      "/entry_1/image_1/process_1/configuration/imgcounter (UnImplemented()) ''\n",
      "/entry_1/image_1/process_1/configuration/instrument (UnImplemented()) ''\n",
      "/entry_1/image_1/process_1/configuration/iobs_shape (Array(3,)) ''\n",
      "/entry_1/image_1/process_1/configuration/iobs_shape_orig (Array(3,)) ''\n",
      "/entry_1/image_1/process_1/configuration/live_plot (Array()) ''\n",
      "/entry_1/image_1/process_1/configuration/mask (UnImplemented()) ''\n",
      "/entry_1/image_1/process_1/configuration/mask_interp (Array(2,)) ''\n",
      "/entry_1/image_1/process_1/configuration/mpi (UnImplemented()) ''\n",
      "/entry_1/image_1/process_1/configuration/nb_er (Array()) ''\n",
      "/entry_1/image_1/process_1/configuration/nb_hio (Array()) ''\n",
      "/entry_1/image_1/process_1/configuration/nb_ml (Array()) ''\n",
      "/entry_1/image_1/process_1/configuration/nb_raar (Array()) ''\n",
      "/entry_1/image_1/process_1/configuration/nb_run (Array()) ''\n",
      "/entry_1/image_1/process_1/configuration/nb_run_keep (Array()) ''\n",
      "/entry_1/image_1/process_1/configuration/output_format (UnImplemented()) ''\n",
      "/entry_1/image_1/process_1/configuration/pixel_size_detector (Array()) ''\n",
      "/entry_1/image_1/process_1/configuration/positivity (Array()) ''\n",
      "/entry_1/image_1/process_1/configuration/psf (Array()) ''\n",
      "/entry_1/image_1/process_1/configuration/rebin (Array(3,)) ''\n",
      "/entry_1/image_1/process_1/configuration/roi_final (Array(6,)) ''\n",
      "/entry_1/image_1/process_1/configuration/save (UnImplemented()) ''\n",
      "/entry_1/image_1/process_1/configuration/support (UnImplemented()) ''\n",
      "/entry_1/image_1/process_1/configuration/support_autocorrelation_threshold (Array()) ''\n",
      "/entry_1/image_1/process_1/configuration/support_only_shrink (Array()) ''\n",
      "/entry_1/image_1/process_1/configuration/support_post_expand (Array(3,)) ''\n",
      "/entry_1/image_1/process_1/configuration/support_smooth_width_begin (Array()) ''\n",
      "/entry_1/image_1/process_1/configuration/support_smooth_width_end (Array()) ''\n",
      "/entry_1/image_1/process_1/configuration/support_smooth_width_relax_n (Array()) ''\n",
      "/entry_1/image_1/process_1/configuration/support_threshold (Array()) ''\n",
      "/entry_1/image_1/process_1/configuration/support_threshold_method (UnImplemented()) ''\n",
      "/entry_1/image_1/process_1/configuration/support_update_border_n (Array()) ''\n",
      "/entry_1/image_1/process_1/configuration/support_update_period (Array()) ''\n",
      "/entry_1/image_1/process_1/configuration/verbose (Array()) ''\n",
      "/entry_1/image_1/process_1/configuration/wavelength (Array()) ''\n",
      "/entry_1/image_1/process_1/configuration/zero_mask (UnImplemented()) ''\n",
      "/entry_1/image_1/process_1/note_1 (Group) ''\n",
      "/entry_1/image_1/process_1/note_1/data (UnImplemented()) ''\n",
      "/entry_1/image_1/process_1/note_1/description (UnImplemented()) ''\n",
      "/entry_1/image_1/process_1/note_1/type (UnImplemented()) ''\n",
      "/entry_1/image_1/process_1/results (Group) ''\n",
      "/entry_1/image_1/process_1/results/cycle_history (Table(1701,)) ''\n",
      "/entry_1/image_1/process_1/results/cycle_history_algorithm (Table(1700,)) ''\n",
      "/entry_1/image_1/process_1/results/cycle_history_dt (Table(16,)) ''\n",
      "/entry_1/image_1/process_1/results/cycle_history_epoch (Table(1701,)) ''\n",
      "/entry_1/image_1/process_1/results/cycle_history_llk_euclidian (Table(17,)) ''\n",
      "/entry_1/image_1/process_1/results/cycle_history_llk_euclidian_free (Table(17,)) ''\n",
      "/entry_1/image_1/process_1/results/cycle_history_llk_gaussian (Table(17,)) ''\n",
      "/entry_1/image_1/process_1/results/cycle_history_llk_gaussian_free (Table(17,)) ''\n",
      "/entry_1/image_1/process_1/results/cycle_history_llk_poisson (Table(17,)) ''\n",
      "/entry_1/image_1/process_1/results/cycle_history_llk_poisson_free (Table(17,)) ''\n",
      "/entry_1/image_1/process_1/results/cycle_history_nb_photons_calc (Table(17,)) ''\n",
      "/entry_1/image_1/process_1/results/cycle_history_obj_average (Table(86,)) ''\n",
      "/entry_1/image_1/process_1/results/cycle_history_obj_max (Table(85,)) ''\n",
      "/entry_1/image_1/process_1/results/cycle_history_support_size (Table(85,)) ''\n",
      "/entry_1/image_1/process_1/results/cycle_history_support_update_threshold (Table(85,)) ''\n",
      "/entry_1/image_1/process_1/results/cycle_history_time (Table(1701,)) ''\n",
      "/entry_1/image_1/process_1/results/free_llk_euclidian (Array()) ''\n",
      "/entry_1/image_1/process_1/results/free_llk_gaussian (Array()) ''\n",
      "/entry_1/image_1/process_1/results/free_llk_poisson (Array()) ''\n",
      "/entry_1/image_1/process_1/results/llk_euclidian (Array()) ''\n",
      "/entry_1/image_1/process_1/results/llk_gaussian (Array()) ''\n",
      "/entry_1/image_1/process_1/results/llk_poisson (Array()) ''\n",
      "/entry_1/image_1/process_1/results/nb_point_support (Array()) ''\n",
      "/entry_1/image_1/instrument_1/beam_1 (Group) ''\n",
      "/entry_1/image_1/instrument_1/beam_1/incident_energy (Array()) ''\n",
      "/entry_1/image_1/instrument_1/beam_1/incident_wavelength (Array()) ''\n",
      "/entry_1/image_1/instrument_1/detector_1 (Group) ''\n",
      "/entry_1/image_1/instrument_1/detector_1/distance (Array()) ''\n",
      "/entry_1/image_1/instrument_1/detector_1/x_pixel_size (Array()) ''\n",
      "/entry_1/image_1/instrument_1/detector_1/y_pixel_size (Array()) ''\n",
      "/entry_1/image_1/instrument_1/source_1 (Group) ''\n",
      "/entry_1/image_1/instrument_1/source_1/energy (Array()) ''\n",
      "\n"
     ]
    },
    {
     "data": {
      "application/vnd.jupyter.widget-view+json": {
       "model_id": "ea40afc6ec314b2c98463ee7cea25b67",
       "version_major": 2,
       "version_minor": 0
      },
      "text/plain": [
       "interactive(children=(Dropdown(description='First 2 axes:', index=1, options=('xy', 'yz', 'xz'), style=Descrip…"
      ]
     },
     "metadata": {},
     "output_type": "display_data"
    }
   ],
   "source": [
    "%run -i /data/id01/inhouse/david/Scripts/plot_cxi"
   ]
  },
  {
   "cell_type": "markdown",
   "metadata": {},
   "source": [
    "<font color=#163e5a>  \n",
    "    <h1>Try to extract a support determination from one run, if it is in the file</h1>\n",
    "</font>"
   ]
  },
  {
   "cell_type": "code",
   "execution_count": 25,
   "metadata": {},
   "outputs": [
    {
     "name": "stdin",
     "output_type": "stream",
     "text": [
      "\n",
      "Please write path of .cxi file:  before_mask/S1399_pynx_norm_128_300_294_1_1_1-2021-01-12T13-13-42_Run0001_LLKf000.1637_LLK000.1685_SupportThreshold0.25649.cxi\n"
     ]
    },
    {
     "name": "stdout",
     "output_type": "stream",
     "text": [
      "Shape of real space complex electronic density array (128, 300, 294)\n",
      "Indices where result == 1:\n",
      " (array([31, 31, 31, ..., 89, 89, 89]), array([132, 132, 132, ..., 158, 158, 158]), array([153, 154, 155, ..., 135, 136, 137]))\n",
      "Percentage of 3D array occupied by the mask :\n",
      "0.008072275181872415\n",
      "Saved mask in local dir as direct_mask.npz\n"
     ]
    }
   ],
   "source": [
    "%run -i /data/id01/inhouse/david/Scripts/extract_mask.py"
   ]
  },
  {
   "cell_type": "code",
   "execution_count": 27,
   "metadata": {},
   "outputs": [
    {
     "name": "stdout",
     "output_type": "stream",
     "text": [
      "direct_mask.npz\n",
      "S1399_maskpynx_norm_128_300_294_1_1_1.npz\n",
      "S1399_pynx_norm_128_300_294_1_1_1.npz\n"
     ]
    }
   ],
   "source": [
    "%%bash\n",
    "ls *.npz"
   ]
  },
  {
   "cell_type": "code",
   "execution_count": 28,
   "metadata": {},
   "outputs": [
    {
     "name": "stdin",
     "output_type": "stream",
     "text": [
      "Path to file from current folder:  direct_mask.npz\n"
     ]
    },
    {
     "name": "stdout",
     "output_type": "stream",
     "text": [
      "Stored arrays :['mask']\n"
     ]
    },
    {
     "data": {
      "application/vnd.jupyter.widget-view+json": {
       "model_id": "7fd5895300d54c4eb7fe1dad64f98644",
       "version_major": 2,
       "version_minor": 0
      },
      "text/plain": [
       "interactive(children=(Dropdown(description='Array used:', options=('mask',), style=DescriptionStyle(descriptio…"
      ]
     },
     "metadata": {},
     "output_type": "display_data"
    }
   ],
   "source": [
    "%run -i /data/id01/inhouse/david/Scripts/plot_npz"
   ]
  },
  {
   "cell_type": "markdown",
   "metadata": {},
   "source": [
    "<font color=#163e5a>  \n",
    "    <h1>Try to extract a support determination from the 10 runs</h1>\n",
    "    <p>Becareful, if maximum is very high along one ax, then the threshold may completely overlook the values in other axes</p>\n",
    "</font>"
   ]
  },
  {
   "cell_type": "code",
   "execution_count": 21,
   "metadata": {},
   "outputs": [
    {
     "name": "stdout",
     "output_type": "stream",
     "text": [
      "/data/id01/inhouse/david/Pt_p2/40_Ar_10_O2/S1399/pynxraw\n"
     ]
    }
   ],
   "source": [
    "%%bash\n",
    "pwd"
   ]
  },
  {
   "cell_type": "code",
   "execution_count": 23,
   "metadata": {},
   "outputs": [
    {
     "name": "stdout",
     "output_type": "stream",
     "text": [
      "before_mask/S1399_pynx_norm_128_300_294_1_1_1-2021-01-12T13-13-42_Run0001_LLKf000.1637_LLK000.1685_SupportThreshold0.25649.cxi\n",
      "before_mask/S1399_pynx_norm_128_300_294_1_1_1-2021-01-12T13-21-36_Run0012_LLKf000.1636_LLK000.1677_SupportThreshold0.25773.cxi\n",
      "before_mask/S1399_pynx_norm_128_300_294_1_1_1-2021-01-12T13-37-40_Run0030_LLKf000.1638_LLK000.1680_SupportThreshold0.27743.cxi\n",
      "before_mask/S1399_pynx_norm_128_300_294_1_1_1-2021-01-12T13-49-49_Run0044_LLKf000.1638_LLK000.1684_SupportThreshold0.28394.cxi\n",
      "before_mask/S1399_pynx_norm_128_300_294_1_1_1-2021-01-12T14-06-38_Run0063_LLKf000.1632_LLK000.1678_SupportThreshold0.26107.cxi\n",
      "before_mask/S1399_pynx_norm_128_300_294_1_1_1-2021-01-12T14-11-59_Run0069_LLKf000.1634_LLK000.1680_SupportThreshold0.23190.cxi\n",
      "before_mask/S1399_pynx_norm_128_300_294_1_1_1-2021-01-12T14-33-03_Run0093_LLKf000.1634_LLK000.1678_SupportThreshold0.26080.cxi\n"
     ]
    }
   ],
   "source": [
    "%%bash\n",
    "ls before_mask/*.cxi"
   ]
  },
  {
   "cell_type": "code",
   "execution_count": 18,
   "metadata": {},
   "outputs": [
    {
     "name": "stdout",
     "output_type": "stream",
     "text": [
      "Example of used files : Pt_p2/pynxraw/S1398_pynx_norm_128_300_294_1_1_1-2020*cxi\n",
      "Example of folder : Pt_p2/pynxraw\n",
      "Example of file name : S1398_pynx_norm_128_300_294_1_1_1-2020\n"
     ]
    },
    {
     "name": "stdin",
     "output_type": "stream",
     "text": [
      "\n",
      "Please write your folder like in the example:  /data/id01/inhouse/david/Pt_p2/50_Ar/S1404/pynxraw/before_mask/\n",
      "Please write your file name like in the example:  S1404_pynx_norm_128_300_294_1_1_1-2020\n"
     ]
    },
    {
     "name": "stdout",
     "output_type": "stream",
     "text": [
      "\n",
      "Used files: ['/data/id01/inhouse/david/Pt_p2/50_Ar/S1404/pynxraw/before_mask/S1404_pynx_norm_128_300_294_1_1_1-2020-12-22T13-11-21_Run0014_LLKf000.1561_LLK5290721654.8920_SupportThreshold0.13743.cxi', '/data/id01/inhouse/david/Pt_p2/50_Ar/S1404/pynxraw/before_mask/S1404_pynx_norm_128_300_294_1_1_1-2020-12-22T13-14-27_Run0021_LLKf000.1539_LLK9570440053.9398_SupportThreshold0.14630.cxi', '/data/id01/inhouse/david/Pt_p2/50_Ar/S1404/pynxraw/before_mask/S1404_pynx_norm_128_300_294_1_1_1-2020-12-22T13-15-18_Run0023_LLKf000.1608_LLK4967910647.3923_SupportThreshold0.13380.cxi', '/data/id01/inhouse/david/Pt_p2/50_Ar/S1404/pynxraw/before_mask/S1404_pynx_norm_128_300_294_1_1_1-2020-12-22T13-18-02_Run0029_LLKf000.1620_LLK6758448481.5598_SupportThreshold0.14300.cxi', '/data/id01/inhouse/david/Pt_p2/50_Ar/S1404/pynxraw/before_mask/S1404_pynx_norm_128_300_294_1_1_1-2020-12-22T13-19-14_Run0032_LLKf000.1508_LLK6103499531.7459_SupportThreshold0.14423.cxi', '/data/id01/inhouse/david/Pt_p2/50_Ar/S1404/pynxraw/before_mask/S1404_pynx_norm_128_300_294_1_1_1-2020-12-22T13-23-48_Run0042_LLKf000.1535_LLK5344046950.3403_SupportThreshold0.13745.cxi', '/data/id01/inhouse/david/Pt_p2/50_Ar/S1404/pynxraw/before_mask/S1404_pynx_norm_128_300_294_1_1_1-2020-12-22T13-24-12_Run0043_LLKf000.1557_LLK5099315047.2641_SupportThreshold0.13413.cxi', '/data/id01/inhouse/david/Pt_p2/50_Ar/S1404/pynxraw/before_mask/S1404_pynx_norm_128_300_294_1_1_1-2020-12-22T13-25-40_Run0046_LLKf000.1508_LLK5404328107.8339_SupportThreshold0.13964.cxi', '/data/id01/inhouse/david/Pt_p2/50_Ar/S1404/pynxraw/before_mask/S1404_pynx_norm_128_300_294_1_1_1-2020-12-22T13-35-55_Run0067_LLKf000.1593_LLK5168238878.2501_SupportThreshold0.13354.cxi', '/data/id01/inhouse/david/Pt_p2/50_Ar/S1404/pynxraw/before_mask/S1404_pynx_norm_128_300_294_1_1_1-2020-12-22T13-45-48_Run0088_LLKf000.1588_LLK5085461735.7254_SupportThreshold0.13390.cxi']\n"
     ]
    },
    {
     "name": "stdin",
     "output_type": "stream",
     "text": [
      "\n",
      "Threshold value (int from 1 to 100):  20\n",
      "\n",
      "Amount of .cxi files,  between the N files that were kept, for which the threshold must be respected:  5\n"
     ]
    },
    {
     "name": "stdout",
     "output_type": "stream",
     "text": [
      "\n",
      "/data/id01/inhouse/david/Pt_p2/50_Ar/S1404/pynxraw/before_mask/S1404_pynx_norm_128_300_294_1_1_1-2020-12-22T13-11-21_Run0014_LLKf000.1561_LLK5290721654.8920_SupportThreshold0.13743.cxi\n",
      "All elements in mask array are equal to 1 : True\n",
      "Shape of support array (128, 300, 294)\n",
      "Shape of real space complex electronic density array (128, 300, 294)\n",
      "Maximum value in amplitude array: 18.85072898864746\n",
      "Indices where result == 1:\n",
      " (array([26, 26, 26, ..., 98, 98, 98]), array([139, 139, 139, ..., 167, 167, 167]), array([153, 154, 155, ..., 142, 143, 144]))\n",
      "Percentage of 3D array occupied by support:\n",
      "0.007936464005036826\n",
      "\n",
      "/data/id01/inhouse/david/Pt_p2/50_Ar/S1404/pynxraw/before_mask/S1404_pynx_norm_128_300_294_1_1_1-2020-12-22T13-14-27_Run0021_LLKf000.1539_LLK9570440053.9398_SupportThreshold0.14630.cxi\n",
      "All elements in mask array are equal to 1 : False\n",
      "Shape of support array (128, 300, 294)\n",
      "Shape of real space complex electronic density array (128, 300, 294)\n",
      "Maximum value in amplitude array: 21.851224899291992\n",
      "Indices where result == 1:\n",
      " (array([28, 28, 28, ..., 90, 90, 90]), array([146, 146, 146, ..., 147, 148, 148]), array([156, 157, 158, ..., 134, 132, 133]))\n",
      "Percentage of 3D array occupied by support:\n",
      "0.0070663056680306405\n",
      "\n",
      "/data/id01/inhouse/david/Pt_p2/50_Ar/S1404/pynxraw/before_mask/S1404_pynx_norm_128_300_294_1_1_1-2020-12-22T13-15-18_Run0023_LLKf000.1608_LLK4967910647.3923_SupportThreshold0.13380.cxi\n",
      "All elements in mask array are equal to 1 : True\n",
      "Shape of support array (128, 300, 294)\n",
      "Shape of real space complex electronic density array (128, 300, 294)\n",
      "Maximum value in amplitude array: 20.318695068359375\n",
      "Indices where result == 1:\n",
      " (array([26, 26, 26, ..., 93, 93, 95]), array([140, 141, 141, ..., 170, 170, 169]), array([156, 155, 156, ..., 143, 144, 139]))\n",
      "Percentage of 3D array occupied by support:\n",
      "0.007857100261141545\n",
      "\n",
      "/data/id01/inhouse/david/Pt_p2/50_Ar/S1404/pynxraw/before_mask/S1404_pynx_norm_128_300_294_1_1_1-2020-12-22T13-18-02_Run0029_LLKf000.1620_LLK6758448481.5598_SupportThreshold0.14300.cxi\n",
      "All elements in mask array are equal to 1 : False\n",
      "Shape of support array (128, 300, 294)\n",
      "Shape of real space complex electronic density array (128, 300, 294)\n",
      "Maximum value in amplitude array: 18.223209381103516\n",
      "Indices where result == 1:\n",
      " (array([28, 29, 29, ..., 99, 99, 99]), array([147, 140, 141, ..., 162, 162, 162]), array([164, 162, 161, ..., 133, 134, 135]))\n",
      "Percentage of 3D array occupied by support:\n",
      "0.00826710075785255\n",
      "\n",
      "/data/id01/inhouse/david/Pt_p2/50_Ar/S1404/pynxraw/before_mask/S1404_pynx_norm_128_300_294_1_1_1-2020-12-22T13-19-14_Run0032_LLKf000.1508_LLK6103499531.7459_SupportThreshold0.14423.cxi\n",
      "All elements in mask array are equal to 1 : False\n",
      "Shape of support array (128, 300, 294)\n",
      "Shape of real space complex electronic density array (128, 300, 294)\n",
      "Maximum value in amplitude array: 21.305734634399414\n",
      "Indices where result == 1:\n",
      " (array([28, 28, 29, ..., 94, 94, 94]), array([150, 150, 149, ..., 150, 151, 151]), array([153, 154, 152, ..., 137, 135, 136]))\n",
      "Percentage of 3D array occupied by support:\n",
      "0.007181395335558965\n",
      "\n",
      "/data/id01/inhouse/david/Pt_p2/50_Ar/S1404/pynxraw/before_mask/S1404_pynx_norm_128_300_294_1_1_1-2020-12-22T13-23-48_Run0042_LLKf000.1535_LLK5344046950.3403_SupportThreshold0.13745.cxi\n",
      "All elements in mask array are equal to 1 : False\n",
      "Shape of support array (128, 300, 294)\n",
      "Shape of real space complex electronic density array (128, 300, 294)\n",
      "Maximum value in amplitude array: 18.749385833740234\n",
      "Indices where result == 1:\n",
      " (array([ 22,  22,  22, ..., 106, 106, 106]), array([137, 137, 138, ..., 151, 151, 151]), array([141, 142, 143, ..., 141, 142, 143]))\n",
      "Percentage of 3D array occupied by support:\n",
      "0.0078889522350841\n",
      "\n",
      "/data/id01/inhouse/david/Pt_p2/50_Ar/S1404/pynxraw/before_mask/S1404_pynx_norm_128_300_294_1_1_1-2020-12-22T13-24-12_Run0043_LLKf000.1557_LLK5099315047.2641_SupportThreshold0.13413.cxi\n",
      "All elements in mask array are equal to 1 : True\n",
      "Shape of support array (128, 300, 294)\n",
      "Shape of real space complex electronic density array (128, 300, 294)\n",
      "Maximum value in amplitude array: 20.651687622070312\n",
      "Indices where result == 1:\n",
      " (array([30, 30, 30, ..., 96, 96, 96]), array([140, 141, 141, ..., 153, 153, 153]), array([156, 154, 155, ..., 131, 132, 133]))\n",
      "Percentage of 3D array occupied by support:\n",
      "0.007723865665738558\n",
      "\n",
      "/data/id01/inhouse/david/Pt_p2/50_Ar/S1404/pynxraw/before_mask/S1404_pynx_norm_128_300_294_1_1_1-2020-12-22T13-25-40_Run0046_LLKf000.1508_LLK5404328107.8339_SupportThreshold0.13964.cxi\n",
      "All elements in mask array are equal to 1 : True\n",
      "Shape of support array (128, 300, 294)\n",
      "Shape of real space complex electronic density array (128, 300, 294)\n",
      "Maximum value in amplitude array: 18.690217971801758\n",
      "Indices where result == 1:\n",
      " (array([28, 28, 28, ..., 98, 98, 98]), array([150, 150, 150, ..., 167, 167, 167]), array([152, 153, 155, ..., 140, 141, 142]))\n",
      "Percentage of 3D array occupied by support:\n",
      "0.008014940221435425\n",
      "\n",
      "/data/id01/inhouse/david/Pt_p2/50_Ar/S1404/pynxraw/before_mask/S1404_pynx_norm_128_300_294_1_1_1-2020-12-22T13-35-55_Run0067_LLKf000.1593_LLK5168238878.2501_SupportThreshold0.13354.cxi\n",
      "All elements in mask array are equal to 1 : True\n",
      "Shape of support array (128, 300, 294)\n",
      "Shape of real space complex electronic density array (128, 300, 294)\n",
      "Maximum value in amplitude array: 17.59177589416504\n",
      "Indices where result == 1:\n",
      " (array([  2,  30,  31, ..., 110, 111, 113]), array([144, 135, 133, ..., 157, 152, 158]), array([144, 153, 151, ..., 147, 146, 145]))\n",
      "Percentage of 3D array occupied by support:\n",
      "0.008301229992460248\n",
      "\n",
      "/data/id01/inhouse/david/Pt_p2/50_Ar/S1404/pynxraw/before_mask/S1404_pynx_norm_128_300_294_1_1_1-2020-12-22T13-45-48_Run0088_LLKf000.1588_LLK5085461735.7254_SupportThreshold0.13390.cxi\n",
      "All elements in mask array are equal to 1 : True\n",
      "Shape of support array (128, 300, 294)\n",
      "Shape of real space complex electronic density array (128, 300, 294)\n",
      "Maximum value in amplitude array: 17.763513565063477\n",
      "Indices where result == 1:\n",
      " (array([ 25,  25,  25, ..., 102, 102, 102]), array([152, 153, 153, ..., 154, 154, 155]), array([158, 157, 158, ..., 134, 135, 133]))\n",
      "Percentage of 3D array occupied by support:\n",
      "0.008571914306049797\n",
      "\n",
      "\n",
      "\n",
      "Mask saved in /data/id01/inhouse/david/Pt_p2/50_Ar/S1404/pynxraw/before_mask/ as mask_0.2.npz\n",
      "Indices where result == 1:\n",
      " (array([32, 32, 32, ..., 96, 96, 96]), array([145, 145, 145, ..., 165, 165, 165]), array([159, 160, 161, ..., 138, 139, 140]))\n",
      "Percentage of 3D array occupied by support:\n",
      "0.008212984993079788\n"
     ]
    }
   ],
   "source": [
    "%run -i /data/id01/inhouse/david/Scripts/create_mask"
   ]
  },
  {
   "cell_type": "markdown",
   "metadata": {},
   "source": [
    "<font color=#163e5a>\n",
    "    \n",
    "* Take an 'average', so at least half of the 10 good phase retrieval must have the point over the threshold to be in the support\n",
    "    \n",
    "* Need to smooth by convoluting with a gaussian, the edges look rough\n",
    "</font>"
   ]
  },
  {
   "cell_type": "markdown",
   "metadata": {},
   "source": [
    "<font color=#163e5a>\n",
    "\n",
    "**Check the .npz files again, a mask should be here**\n",
    "    \n",
    "* We can compare different threshold for the mask\n",
    "    \n",
    "</font>"
   ]
  },
  {
   "cell_type": "code",
   "execution_count": 6,
   "metadata": {},
   "outputs": [
    {
     "name": "stdout",
     "output_type": "stream",
     "text": [
      "mask_0.2.npz\n"
     ]
    }
   ],
   "source": [
    "%%bash\n",
    "ls mask*.npz"
   ]
  },
  {
   "cell_type": "code",
   "execution_count": 8,
   "metadata": {},
   "outputs": [
    {
     "name": "stdin",
     "output_type": "stream",
     "text": [
      "Path to file from current folder:  mask_0.2.npz\n"
     ]
    },
    {
     "name": "stdout",
     "output_type": "stream",
     "text": [
      "Stored arrays :['mask']\n"
     ]
    },
    {
     "data": {
      "application/vnd.jupyter.widget-view+json": {
       "model_id": "22ad987ae938467ea19dd83b65ccb234",
       "version_major": 2,
       "version_minor": 0
      },
      "text/plain": [
       "interactive(children=(Dropdown(description='Array used:', options=('mask',), style=DescriptionStyle(descriptio…"
      ]
     },
     "metadata": {},
     "output_type": "display_data"
    }
   ],
   "source": [
    "%run -i /data/id01/inhouse/david/Scripts/plot_npz"
   ]
  },
  {
   "cell_type": "markdown",
   "metadata": {},
   "source": [
    "<font color=#163e5a>\n",
    "\n",
    "Apply a gaussian convolution to the mask to avoid holes and discontinuity at the borders.\n",
    "    \n",
    "</font>"
   ]
  },
  {
   "cell_type": "code",
   "execution_count": 23,
   "metadata": {},
   "outputs": [
    {
     "name": "stdin",
     "output_type": "stream",
     "text": [
      "filename =  mask_0.2.npz\n",
      "sigma =  5\n",
      "threshold =  20\n"
     ]
    },
    {
     "name": "stdout",
     "output_type": "stream",
     "text": [
      "New mask saved as filter_sig5_t20_mask_0.2.npz\n"
     ]
    }
   ],
   "source": [
    "%run -i /data/id01/inhouse/david/Scripts/gaussian_filter_mask"
   ]
  },
  {
   "cell_type": "code",
   "execution_count": 24,
   "metadata": {},
   "outputs": [
    {
     "name": "stdin",
     "output_type": "stream",
     "text": [
      "Path to file from current folder:  filter_sig5_t20_mask_0.2.npz\n"
     ]
    },
    {
     "name": "stdout",
     "output_type": "stream",
     "text": [
      "Stored arrays :['oldmask', 'mask']\n"
     ]
    },
    {
     "data": {
      "application/vnd.jupyter.widget-view+json": {
       "model_id": "4c8788c014c64f44acd81430877636a9",
       "version_major": 2,
       "version_minor": 0
      },
      "text/plain": [
       "interactive(children=(Dropdown(description='Array used:', options=('oldmask', 'mask'), style=DescriptionStyle(…"
      ]
     },
     "metadata": {},
     "output_type": "display_data"
    }
   ],
   "source": [
    "%run -i /data/id01/inhouse/david/Scripts/plot_npz"
   ]
  },
  {
   "cell_type": "markdown",
   "metadata": {},
   "source": [
    "<font color=#163e5a>  \n",
    "    <h1>Create modes</h1>\n",
    "    <p>Only on lid01 because pynx package</p>\n",
    "</font>"
   ]
  },
  {
   "cell_type": "markdown",
   "metadata": {},
   "source": [
    "`python pynx-cdi-analysis.py <scan_nb>_pynx_norm_128_300_294_1_1_1-* modes=1`"
   ]
  },
  {
   "cell_type": "markdown",
   "metadata": {},
   "source": [
    "<font color=#163e5a>  \n",
    "    <h1>Launch strain analysis</h1>\n",
    "    <p>Only on lid01 because local bcdi package has problems, the window opens, I can click on a file but then nothing happens (for Jupyter) and it is blocked. In the command, it crashed after the 3rd figure but here I do not see the figure opening.</p>\n",
    "</font>"
   ]
  },
  {
   "cell_type": "markdown",
   "metadata": {},
   "source": [
    "`python strain.py`"
   ]
  },
  {
   "cell_type": "markdown",
   "metadata": {},
   "source": [
    "<font color=#163e5a>  \n",
    "    <h1>Check final data</h1>\n",
    "\n",
    "* `<scan_nb>_ampdispstrain_gap_iso0.2_mode_avg3_apodize_blackman_lab-frame.npz` is the reconstructed data in real space with detail on bulk (support), strain\n",
    "* `<scan_nb>_avg_obj_prtf_gap_iso0.2_mode_avg3_apodize_blackman.npz` is the electronic density of the object\n",
    "</font>"
   ]
  },
  {
   "cell_type": "code",
   "execution_count": 43,
   "metadata": {},
   "outputs": [
    {
     "name": "stdout",
     "output_type": "stream",
     "text": [
      "Path to file from current folder: Pt_p2/pynxraw/S1398_ampdispstrain_gap_iso0.2_mode_avg3_apodize_blackman_lab-frame.npz\n",
      "Stored arrays :['amp', 'displacement', 'bulk', 'strain']\n"
     ]
    },
    {
     "data": {
      "application/vnd.jupyter.widget-view+json": {
       "model_id": "e268b497e2434c8f8d0de424ec410f20",
       "version_major": 2,
       "version_minor": 0
      },
      "text/plain": [
       "interactive(children=(Dropdown(description='Array used:', options=('amp', 'displacement', 'bulk', 'strain'), s…"
      ]
     },
     "metadata": {},
     "output_type": "display_data"
    }
   ],
   "source": [
    "%run -i /data/id01/inhouse/david/Scripts/plot_npz"
   ]
  }
 ],
 "metadata": {
  "kernelspec": {
   "display_name": "Python 3",
   "language": "python",
   "name": "python3"
  },
  "language_info": {
   "codemirror_mode": {
    "name": "ipython",
    "version": 3
   },
   "file_extension": ".py",
   "mimetype": "text/x-python",
   "name": "python",
   "nbconvert_exporter": "python",
   "pygments_lexer": "ipython3",
   "version": "3.8.5"
  }
 },
 "nbformat": 4,
 "nbformat_minor": 4
}
